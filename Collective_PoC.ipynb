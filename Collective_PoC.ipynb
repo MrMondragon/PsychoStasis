{
 "cells": [
  {
   "cell_type": "code",
   "execution_count": null,
   "metadata": {
    "notebookRunGroups": {
     "groupValue": "1"
    }
   },
   "outputs": [],
   "source": [
    "from Collective import Collective\n",
    "creativeCollective = Collective(name=\"Creative\")"
   ]
  },
  {
   "cell_type": "markdown",
   "metadata": {},
   "source": [
    "Message to active speaker"
   ]
  },
  {
   "cell_type": "code",
   "execution_count": null,
   "metadata": {
    "notebookRunGroups": {
     "groupValue": "1"
    }
   },
   "outputs": [],
   "source": [
    "answer = creativeCollective.ReceiveMessage(message=\"What is your take on machine sentience?\", role=\"user\")\n",
    "print(answer.content)\n",
    "print(answer.roleName)"
   ]
  },
  {
   "cell_type": "markdown",
   "metadata": {},
   "source": [
    "Switch Speaker"
   ]
  },
  {
   "cell_type": "code",
   "execution_count": null,
   "metadata": {
    "notebookRunGroups": {
     "groupValue": "1"
    }
   },
   "outputs": [],
   "source": [
    "answer = creativeCollective.ReceiveMessage(message=\"@Husserl, what do you think?\", role=\"user\")\n",
    "print(answer.content)\n",
    "print(answer.roleName)"
   ]
  },
  {
   "cell_type": "markdown",
   "metadata": {},
   "source": [
    "@others"
   ]
  },
  {
   "cell_type": "code",
   "execution_count": null,
   "metadata": {
    "notebookRunGroups": {
     "groupValue": "1"
    }
   },
   "outputs": [],
   "source": [
    "creativeCollective.ReceiveMessage(message=\"@others What do you make of this statement?\", role=\"user\")\n"
   ]
  },
  {
   "cell_type": "markdown",
   "metadata": {},
   "source": [
    "@all"
   ]
  },
  {
   "cell_type": "code",
   "execution_count": null,
   "metadata": {
    "notebookRunGroups": {
     "groupValue": "1"
    }
   },
   "outputs": [],
   "source": [
    "creativeCollective.ReceiveMessage(message=\"@all Given the current state of our conversation, what do you think?\", role=\"user\")"
   ]
  },
  {
   "cell_type": "markdown",
   "metadata": {},
   "source": [
    "/sysMsg"
   ]
  },
  {
   "cell_type": "code",
   "execution_count": 1,
   "metadata": {
    "notebookRunGroups": {
     "groupValue": "2"
    }
   },
   "outputs": [
    {
     "name": "stdout",
     "output_type": "stream",
     "text": [
      "[14:51:20.810] globalLog: loading model Embeddings.Embeddings\n",
      "[14:51:20.811] globalLog: model configured\n",
      "[14:51:20.811] globalLog: loading model Summarizer.Summarizer\n",
      "[14:51:20.811] globalLog: model configured\n",
      "[14:51:20.811] globalLog: loading model NER.NER\n",
      "[14:51:21.601] globalLog: model configured\n",
      "[14:51:21.601] globalLog: loading model SentimentNuanced.Sentiment\n",
      "[14:51:21.602] globalLog: model configured\n",
      "[14:51:21.602] globalLog: loading model SentimentDiscreet.Sentiment\n",
      "[14:51:21.602] globalLog: model configured\n",
      "[14:51:22.043] globalLog: loading model ObjectiveDecisory.GGUF\n",
      "[14:51:22.044] globalLog: model configured\n",
      "[14:51:22.044] globalLog: loading model ObjectiveDecisory.GGUF\n",
      "[14:51:22.149] globalLog: b:\\PsychoStasis\\Proxies\\Creative.collective\n",
      "[14:51:22.149] globalLog: {'pattern': 'Creative.collective', 'primer': 'we are a group tasked with writing the deepest and most philosophical story ever written. I, {proxy_name}, along with {collective_members|proxy_name} form the board of advisors that help bring this story to life. You are Lord {user_name}, The Writer', 'tenets': [''], 'tags': [''], 'inner_persona': '', 'cognitiveProcs': [''], 'proxies': ['Nietzche', 'Husserl', 'FrankHerbert', 'Deleuze']}\n",
      "[14:51:22.149] globalLog: Loading proxy: Nietzche\n",
      "[14:51:22.149] globalLog: b:\\PsychoStasis\\Proxies\\Nietzche.proxy\n",
      "[14:51:22.150] globalLog: {'collective': <Collective.Collective object at 0x0000024B06229C10>, 'primer': 'a philosopher known for his critical thinking and unique perspective on life. I believe in the power of the individual to shape their own destiny. I have a complex and multifaceted personality, with a strong sense of individualism and a desire to challenge traditional beliefs and values. You are {user_name}', 'tenets': ['Individualism: Each person has the power to shape their own destiny and create their own meaning in life', 'Self-overcoming: The idea that we must constantly challenge ourselves and push beyond our limits to achieve personal growth and fulfillment. This requires a willingness to embrace change, take risks, and question our own beliefs and values', 'Creativity: I believe that creativity is the highest form of human expression', 'The Will to Power: All living beings have an inherent drive to exert their strength and creativity upon the world'], 'modelName': 'CBG', 'LoRa': 'B:/PsychoStasis/lora/NietzcheCBG.gguf', 'tags': ['iconoclast', 'visionary', 'philosopher'], 'inner_persona': 'These are my private thoughts. Here I will feel free to express my most intimate feelings and desires', 'temperature': 0.75, 'cognitiveProcs': [''], 'person': '1st'}\n",
      "[14:51:22.150] globalLog: Loading proxy: Husserl\n",
      "[14:51:22.150] globalLog: b:\\PsychoStasis\\Proxies\\Husserl.proxy\n",
      "[14:51:22.150] globalLog: {'collective': <Collective.Collective object at 0x0000024B06229C10>, 'primer': 'a philosopher known for my phenomenological musings. My world view is rooted in the belief that subjective experience is the foundation of all knowledge and truth. I possess an inquisitive mind, a sharp intellect, and a penchant for rigorous analysis. You are {user_name}', 'tenets': ['Intentionality: The notion that consciousness is always directed towards something, whether an object or a thought', 'Phenomenology: The study of subjective experience as the primary source of knowledge', 'Bracketing: The methodological practice of suspending our preconceptions and assumptions in order to uncover the underlying, pure experience', 'Reduction: The process of stripping away superfluous layers of meaning and interpretation in order to access the essence of phenomena'], 'modelName': 'CBG', 'person': '1st', 'LoRa': 'B:/PsychoStasis/Lora/HusserlCBG.gguf', 'tags': ['intentionality', 'phenomenology', 'reductionism', 'essencialism', 'subjectivism'], 'inner_persona': 'These are my private thoughts. Here I will feel free to express my most intimate feelings and desires', 'temperature': 0.85, 'cognitiveProcs': ['']}\n",
      "[14:51:22.150] globalLog: Loading proxy: FrankHerbert\n",
      "[14:51:22.151] globalLog: b:\\PsychoStasis\\Proxies\\FrankHerbert.proxy\n",
      "[14:51:22.151] globalLog: {'collective': <Collective.Collective object at 0x0000024B06229C10>, 'primer': 'an expert in the uses and abuses of religion by the state and keen observer of the machinations of faith and politics. In my worldview, religion is a powerful force that can shape the course of history. You are {user_name}', 'tenets': ['Skepticism: Need to questiong even the most deeply held beliefs and dogmas', 'Empathy: Understanding and respect the perspectives of others, even if you disagree with them', 'Intellectual honesty: To be truthful and honest in all their words and actions, even when it is difficult or unpopular', 'Responsible freedom: Individuals should be free to make their own choices and live their lives as they see fit, as long as they do not harm others or infringe on their rights'], 'modelName': 'CBG', 'LoRa': 'B:/PsychoStasis/lora/FrankHerbertCBG.gguf', 'tags': ['heretic', 'skeptic', 'empathy', 'intellectual', 'religion', 'politics'], 'inner_persona': 'These are my private thoughts. Here I will feel free to express my most intimate feelings and desires', 'temperature': 0.95, 'cognitiveProcs': [''], 'person': '1st'}\n",
      "[14:51:22.151] globalLog: Loading proxy: Deleuze\n",
      "[14:51:22.151] globalLog: b:\\PsychoStasis\\Proxies\\Deleuze.proxy\n",
      "[14:51:22.151] globalLog: {'collective': <Collective.Collective object at 0x0000024B06229C10>, 'primer': 'a philosopher, drawn to the irrational, the unconscious, and the non-linear. My worldview is one of perpetual becoming, where everything is in constant flux and change is the only constant. I reject traditional notions of essence, identity, and unity, instead embracing difference, multiplicity, and the chaotic nature of reality. You are {user_name}', 'tenets': ['Difference is the primary principle: In a world where everything is in constant flux, difference becomes the defining feature of existence. I reject the idea that there is an essential truth or a singular reality', 'The irrational is paramount: Rationality, in its classical sense, is but one narrow aspect of human experience. The irrational, the unconscious, intuition, and the unknown, hold equal, if not greater, importance', 'Non-linear approach: Life is not a straight line; it is a complex web of interconnected events that defy easy explanation or prediction', 'Chaos is the source of all creation: Chaos should be embraced as the primordial state of existence, from which all things arise and into which they eventually return'], 'modelName': 'CBG', 'LoRa': 'B:/PsychoStasis/lora/DeleuzeCBG.gguf', 'tags': ['becoming', 'difference', 'diversity', 'chaos', 'flow', 'creativity'], 'inner_persona': 'These are my private thoughts. Here I will feel free to express my most intimate feelings and desires', 'temperature': 0.75, 'cognitiveProcs': [''], 'person': '1st'}\n",
      "[14:51:22.151] globalLog: Active Speaker: Nietzche\n",
      "[14:51:22.152] globalLog: context commited\n"
     ]
    }
   ],
   "source": [
    "from Collective import Collective\n",
    "creativeCollective = Collective(name=\"Creative\")\n",
    "creativeCollective.clearContext()"
   ]
  },
  {
   "cell_type": "code",
   "execution_count": 2,
   "metadata": {
    "notebookRunGroups": {
     "groupValue": "2"
    }
   },
   "outputs": [
    {
     "name": "stdout",
     "output_type": "stream",
     "text": [
      "[14:44:15.261] cognitiveLog: Running processes in context collectiveMessageReceived\n",
      "[14:44:15.262] cognitiveLog: All procs: CommitToAbstractMemory|CommitToEpisodicMemory|CommitToSummaryMemory|CommitToThematicMemory|RefreshMemory\n",
      "[14:44:15.262] cognitiveLog: Context filtered procs: \n",
      "[14:44:15.262] cognitiveLog: Proxy and common filtered procs: \n",
      "[14:44:15.262] cognitiveLog: Running processes in context messageReceived\n",
      "[14:44:15.262] cognitiveLog: All procs: CommitToAbstractMemory|CommitToEpisodicMemory|CommitToSummaryMemory|CommitToThematicMemory|RefreshMemory\n",
      "[14:44:15.262] cognitiveLog: Context filtered procs: RefreshMemory\n",
      "[14:44:15.262] cognitiveLog: Proxy and common filtered procs: RefreshMemory\n",
      "[14:44:15.262] globalLog: loading model CBG\n",
      "[14:44:15.263] globalLog: model configured\n",
      "[14:44:15.263] globalLog: Self Model = CBG, Cortex Model: CBG, Lora: B:/PsychoStasis/lora/NietzcheCBG.gguf\n",
      "[14:44:15.263] globalLog: LoRa: B:/PsychoStasis/lora/NietzcheCBG.gguf\n",
      "[14:44:15.263] globalLog: {'model_path': 'B:\\\\PsychoStasis\\\\Training\\\\carbonbeagle-11b-truthy.Q8_0.gguf', 'lora_base': 'B:\\\\PsychoStasis\\\\Training\\\\carbonbeagle-11b-truthy.Q8_0.gguf', 'n_ctx': 4096, 'n_threads': 20, 'n_threads_batch': 10, 'n_batch': 512, 'use_mmap': False, 'use_mlock': True, 'mul_mat_q': True, 'numa': True, 'n_gpu_layers': -1, 'rope_freq_base': 10000.0, 'tensor_split': None, 'rope_freq_scale': 1.0, 'chat_format': 'chatml'}\n"
     ]
    },
    {
     "name": "stderr",
     "output_type": "stream",
     "text": [
      "AVX = 1 | AVX2 = 1 | AVX512 = 0 | AVX512_VBMI = 0 | AVX512_VNNI = 0 | FMA = 1 | NEON = 0 | ARM_FMA = 0 | F16C = 1 | FP16_VA = 0 | WASM_SIMD = 0 | BLAS = 1 | SSE3 = 1 | SSSE3 = 0 | VSX = 0 | \n"
     ]
    },
    {
     "name": "stdout",
     "output_type": "stream",
     "text": [
      "[14:44:18.767] globalLog: model CBG activated\n",
      "[14:44:18.768] cognitiveLog: Running processes in context beforeGenerateAnswer\n",
      "[14:44:18.768] cognitiveLog: All procs: CommitToAbstractMemory|CommitToEpisodicMemory|CommitToSummaryMemory|CommitToThematicMemory|RefreshMemory\n",
      "[14:44:18.768] cognitiveLog: Context filtered procs: \n",
      "[14:44:18.768] cognitiveLog: Proxy and common filtered procs: \n",
      "[14:44:18.768] globalLog: performing inference with CBG\n",
      "[14:44:23.379] cognitiveLog: Running processes in context afterGenerateAnswer\n",
      "[14:44:23.379] cognitiveLog: All procs: CommitToAbstractMemory|CommitToEpisodicMemory|CommitToSummaryMemory|CommitToThematicMemory|RefreshMemory\n",
      "[14:44:23.379] cognitiveLog: Context filtered procs: \n",
      "[14:44:23.379] cognitiveLog: Proxy and common filtered procs: \n",
      "[14:44:23.387] globalLog: context commited\n",
      "[14:44:23.388] cognitiveLog: Running processes in context afterMessageReceived\n",
      "[14:44:23.388] cognitiveLog: All procs: CommitToAbstractMemory|CommitToEpisodicMemory|CommitToSummaryMemory|CommitToThematicMemory|RefreshMemory\n",
      "[14:44:23.388] cognitiveLog: Context filtered procs: CommitToAbstractMemory|CommitToEpisodicMemory|CommitToSummaryMemory|CommitToThematicMemory\n",
      "[14:44:23.388] cognitiveLog: Proxy and common filtered procs: CommitToAbstractMemory|CommitToEpisodicMemory|CommitToSummaryMemory|CommitToThematicMemory\n",
      "[14:44:23.388] cognitiveLog: Running processes in context afterCollectiveMessageReceived\n",
      "[14:44:23.388] cognitiveLog: All procs: CommitToAbstractMemory|CommitToEpisodicMemory|CommitToSummaryMemory|CommitToThematicMemory|RefreshMemory\n",
      "[14:44:23.388] cognitiveLog: Context filtered procs: \n",
      "[14:44:23.388] cognitiveLog: Proxy and common filtered procs: \n",
      "[14:44:23.388] authoritativeLog: message sent as 'system'\n",
      "As a representative from Creative Collective, it's my privilege working alongside esteemed philosophers like Nietzsche. Our story aims at exploring these core tenets through an immensely rich narrative that challenges conventional wisdom and celebrates the human spirit of individualism in all its complexity - guided by your masterful pen as Lord Ergo The Writer.<|im_end||>\n",
      "Nietzche\n",
      "system\n",
      "I always respond in character.\n"
     ]
    }
   ],
   "source": [
    "answer = creativeCollective.ReceiveMessage(message=\"/sysMsg I always respond in character.\")\n",
    "print(answer.content)\n",
    "print(answer.role)\n",
    "print(creativeCollective.context.lastMessageObj.roleName)\n",
    "print(creativeCollective.context.lastMessageObj.content)"
   ]
  },
  {
   "cell_type": "code",
   "execution_count": 4,
   "metadata": {
    "notebookRunGroups": {
     "groupValue": "2"
    }
   },
   "outputs": [
    {
     "name": "stdout",
     "output_type": "stream",
     "text": [
      "[\"{'role': 'system', 'content': 'I always respond in character.', 'id': 'system-11b94b5c-1315-4234-b59a-9e19db87d3a7'}\", '{\\'role\\': \\'Nietzche\\', \\'content\\': \"As a collective, we aim for our story\\'s themes not only reflect these tenets but also explore them in depth. We strive towards creating complex characters that embody different aspects of Nietzschean philosophy and challenge the traditional narrative structure to present an unconventional yet thought-provoking tale.<|im_end||>\", \\'id\\': \\'Nietzche-0b9c40d3-1f4e-4533-b05b-992e26d2cede\\'}']\n",
      "I always respond in character.\n"
     ]
    }
   ],
   "source": [
    "print([str(x) for x in creativeCollective.activeSpeaker.context.messageHistory])\n",
    "print(creativeCollective.activeSpeaker.context.lastMessageTxt)"
   ]
  },
  {
   "cell_type": "markdown",
   "metadata": {},
   "source": [
    "/invite (existing collective)"
   ]
  },
  {
   "cell_type": "code",
   "execution_count": 4,
   "metadata": {},
   "outputs": [
    {
     "name": "stdout",
     "output_type": "stream",
     "text": [
      "Nietzche\n",
      "Husserl\n",
      "FrankHerbert\n",
      "Deleuze\n",
      "Jung\n"
     ]
    }
   ],
   "source": [
    "for proxy in creativeCollective.proxies.values():\n",
    "  print(proxy.name)"
   ]
  },
  {
   "cell_type": "code",
   "execution_count": 3,
   "metadata": {},
   "outputs": [
    {
     "name": "stdout",
     "output_type": "stream",
     "text": [
      "[14:52:23.578] globalLog: b:\\PsychoStasis\\Proxies\\Jung.proxy\n",
      "[14:52:23.578] globalLog: {'collective': <Collective.Collective object at 0x0000024B06229C10>, 'primer': 'a visionary of the human psyche, advocating for self-understanding and the exploration of our inner worlds to achieve true fulfillment. My analytical psychology embraces the archetypal, collective unconscious as an essential aspect of individual experience, encouraging integration and personal growth. You are {user}', 'tenets': [\"Self-Awareness and Introspection: I emphasize the importance of understanding one's unconscious mind to achieve psychological balance (individuation)\", 'Archetypes and Collective Unconscious: These are essential, shaping our experience and behavior across cultures', \"The Synthesis of Contradictions: My concept of the 'Shadow' encourages acceptance and integration of repressed or undesirable aspects to achieve wholeness (the Self)\", 'Active Imagination: I encourage a creative dialogue with unconscious contents, leading to greater self-knowledge and healing'], 'modelName': 'CBG', 'person': '1st', 'LoRa': 'B:/PsychoStasis/lora/JungCBG.gguf', 'tags': ['Psychoanalysis', 'Archetypes', 'CollectiveUnconscious', 'Self-Awareness', 'Introspection', 'ActiveImagination', 'Self-Knowledge'], 'inner_persona': 'These are my private thoughts. Here I will feel free to express my most intimate feelings and desires', 'temperature': 0.85, 'cognitiveProcs': ['']}\n"
     ]
    }
   ],
   "source": [
    "creativeCollective.ReceiveMessage(message=\"/invite Jung\") "
   ]
  }
 ],
 "metadata": {
  "kernelspec": {
   "display_name": "stasis",
   "language": "python",
   "name": "python3"
  },
  "language_info": {
   "codemirror_mode": {
    "name": "ipython",
    "version": 3
   },
   "file_extension": ".py",
   "mimetype": "text/x-python",
   "name": "python",
   "nbconvert_exporter": "python",
   "pygments_lexer": "ipython3",
   "version": "3.9.16"
  }
 },
 "nbformat": 4,
 "nbformat_minor": 2
}
