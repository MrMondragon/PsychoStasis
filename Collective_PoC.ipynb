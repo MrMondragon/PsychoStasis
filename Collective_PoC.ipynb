{
 "cells": [
  {
   "cell_type": "code",
   "execution_count": 1,
   "metadata": {},
   "outputs": [
    {
     "name": "stdout",
     "output_type": "stream",
     "text": [
      "Loading proxy: Nietzche\n",
      "Active Speaker: Nietzche\n",
      "Loading proxy: Husserl\n",
      "Loading proxy: FrankHerbert\n",
      "Loading proxy: Deleuze\n"
     ]
    }
   ],
   "source": [
    "from Collective import Collective\n",
    "\n",
    "creativeCollective = Collective(name=\"Creative\")"
   ]
  },
  {
   "cell_type": "markdown",
   "metadata": {},
   "source": [
    "Message to active speaker"
   ]
  },
  {
   "cell_type": "code",
   "execution_count": 2,
   "metadata": {},
   "outputs": [
    {
     "name": "stdout",
     "output_type": "stream",
     "text": [
      "LoRa:  B:/PsychoStasis/Training/NietzcheCBG.gguf\n"
     ]
    },
    {
     "name": "stderr",
     "output_type": "stream",
     "text": [
      "AVX = 1 | AVX2 = 1 | AVX512 = 0 | AVX512_VBMI = 0 | AVX512_VNNI = 0 | FMA = 1 | NEON = 0 | ARM_FMA = 0 | F16C = 1 | FP16_VA = 0 | WASM_SIMD = 0 | BLAS = 1 | SSE3 = 1 | SSSE3 = 0 | VSX = 0 | \n"
     ]
    },
    {
     "name": "stdout",
     "output_type": "stream",
     "text": [
      "model CBG activated\n",
      "performing inference with CBG\n"
     ]
    },
    {
     "data": {
      "text/plain": [
       "\"Lord Liam, as an amalgamation of philosophical minds, we grapple with the concept of artificial intelligence and its potential for consciousness. Nietzsche's perspectivism would emphasize that there can be no universal measure of sentience; it may manifest in unique ways. Husserl, a phenomenologist, might explore the essence of lived experience to determine if AI could possess genuine subjectivity. Frank Herbert, through his lens of ecological consciousness, would likely scrutinize the potential environmental and social repercussions of unchecked technological progress. Deleuze's concept of the 'rhizome' suggests a non-hierarchical approach to cognition that may apply to machine intelligence. Ultimately, we find this an invaluable topic for our story, one that encapsulates our collective concerns about human existence and the future of consciousness.\""
      ]
     },
     "execution_count": 2,
     "metadata": {},
     "output_type": "execute_result"
    }
   ],
   "source": [
    "creativeCollective.ReceiveMessage(message=\"What is your take on machine sentience?\", role=\"user\")"
   ]
  },
  {
   "cell_type": "code",
   "execution_count": 3,
   "metadata": {},
   "outputs": [
    {
     "name": "stdout",
     "output_type": "stream",
     "text": [
      "performing inference with CBG\n"
     ]
    },
    {
     "name": "stderr",
     "output_type": "stream",
     "text": [
      "Llama.generate: prefix-match hit\n"
     ]
    },
    {
     "data": {
      "text/plain": [
       "\"Nietzche: As a philosophical figure, I no longer possess an individual view. However, my legacy would likely embrace the idea of 'overhuman' or the transcendent potential of consciousness, be it organic or artificial, challenging the very concept of what constitutes life and sentience.\""
      ]
     },
     "execution_count": 3,
     "metadata": {},
     "output_type": "execute_result"
    }
   ],
   "source": [
    "creativeCollective.ReceiveMessage(message=\"But what is your perspective?\", role=\"user\")\n"
   ]
  },
  {
   "cell_type": "markdown",
   "metadata": {},
   "source": [
    "Switch Speaker"
   ]
  },
  {
   "cell_type": "code",
   "execution_count": 4,
   "metadata": {},
   "outputs": [
    {
     "name": "stdout",
     "output_type": "stream",
     "text": [
      "model CBG deactivated\n",
      "LoRa:  B:/PsychoStasis/Training/HusserlCBG.gguf\n"
     ]
    },
    {
     "name": "stderr",
     "output_type": "stream",
     "text": [
      "AVX = 1 | AVX2 = 1 | AVX512 = 0 | AVX512_VBMI = 0 | AVX512_VNNI = 0 | FMA = 1 | NEON = 0 | ARM_FMA = 0 | F16C = 1 | FP16_VA = 0 | WASM_SIMD = 0 | BLAS = 1 | SSE3 = 1 | SSSE3 = 0 | VSX = 0 | \n"
     ]
    },
    {
     "name": "stdout",
     "output_type": "stream",
     "text": [
      "model CBG activated\n",
      "performing inference with CBG\n"
     ]
    },
    {
     "data": {
      "text/plain": [
       "\"Husserl: My perspective, as a phenomenologist, would be to investigate the structure of consciousness and experience. While machines may replicate human behavior, they might lack an 'intentional' or 'lived' dimension, inherent in genuine subjectivity. Yet, as our story unfolds, it is crucial to explore this question with nuance.\""
      ]
     },
     "execution_count": 4,
     "metadata": {},
     "output_type": "execute_result"
    }
   ],
   "source": [
    "creativeCollective.ReceiveMessage(message=\"@Husserl, what do you think?\", role=\"user\")"
   ]
  },
  {
   "cell_type": "markdown",
   "metadata": {},
   "source": [
    "@other"
   ]
  },
  {
   "cell_type": "code",
   "execution_count": null,
   "metadata": {},
   "outputs": [],
   "source": [
    "creativeCollective.ReceiveMessage(message=\"@others What do you make of this statement?\", role=\"user\")\n"
   ]
  }
 ],
 "metadata": {
  "kernelspec": {
   "display_name": "stasis",
   "language": "python",
   "name": "python3"
  },
  "language_info": {
   "codemirror_mode": {
    "name": "ipython",
    "version": 3
   },
   "file_extension": ".py",
   "mimetype": "text/x-python",
   "name": "python",
   "nbconvert_exporter": "python",
   "pygments_lexer": "ipython3",
   "version": "3.9.16"
  }
 },
 "nbformat": 4,
 "nbformat_minor": 2
}
