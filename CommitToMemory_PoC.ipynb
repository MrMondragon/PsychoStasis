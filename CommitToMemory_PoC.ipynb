{
 "cells": [
  {
   "cell_type": "code",
   "execution_count": 1,
   "metadata": {},
   "outputs": [
    {
     "name": "stdout",
     "output_type": "stream",
     "text": [
      "model Embeddings.Embeddings already deactivated\n",
      "model Summarizer.Summarizer already deactivated\n",
      "model NER.NER already deactivated\n"
     ]
    },
    {
     "name": "stderr",
     "output_type": "stream",
     "text": [
      "AVX = 1 | AVX2 = 1 | AVX512 = 0 | AVX512_VBMI = 0 | AVX512_VNNI = 0 | FMA = 1 | NEON = 0 | ARM_FMA = 0 | F16C = 1 | FP16_VA = 0 | WASM_SIMD = 0 | BLAS = 1 | SSE3 = 1 | SSSE3 = 0 | VSX = 0 | \n"
     ]
    }
   ],
   "source": [
    "from Proxy import Proxy\n",
    "proxy = Proxy(name=\"Ergo\")\n",
    "\n",
    "\n",
    "proxy.context.append_message(message=\"\"\"in c# we have a trim() method in the string class to remove trailing and starting empty spaces from a string. What is the correspondent method in python?\"\"\", role=\"user\")\n",
    "proxy.context.append_message(message=\"\"\"In Python, there isn't a built-in `trim()` method like in C#. However, you can achieve the same result by using the `strip()` function or `lstrip()` and `rstrip()` functions which are equivalent to `Trim()`, `TrimStart()`, and `TrimEnd()` respectively in C#.\n",
    "\n",
    "Here's how you would use them:\n",
    "\n",
    "```python\n",
    "str = \"   Hello World   \"\n",
    "print(str.strip())  # Removes leading and trailing spaces\n",
    "print(str.lstrip())  # Removes only leading spaces\n",
    "print(str.rstrip())  # Removes only trailing spaces\n",
    "```\"\"\", role=\"assistant\")\n",
    "\n",
    "proxy.context.append_message(message=\"\"\"give me a regular expression to detect the following: the string representation for numbers One to Ten and literal numbers, including decimals\"\"\", role=\"user\")\n",
    "proxy.context.append_message(message='''In Python, you can use the `re` module to work with Regular Expressions. Here's an example of how you might create a regular expression that matches strings representing numbers from one to ten (in words or digits) as well as decimal numbers:\n",
    "\n",
    "```python\n",
    "import re\n",
    "\n",
    "def is_number(n):\n",
    "    number_pattern = r\"^(one|two|three|four|five|six|seven|eight|nine|ten|1[0-9]?|20|0\\.[1-9])$|^([0-9]{1,3}(,[0-9]{3})*(\\.[0-9]+)?)$\"\n",
    "    return bool(re.match(number_pattern, n, re.IGNORECASE))\n",
    "```\n",
    "This regular expression works as follows:\n",
    "\n",
    "- `^` asserts the start of a line.\n",
    "- `one|two|three|four|five|six|seven|eight|nine|ten` matches any of these words (case insensitive due to `re.IGNORECASE`).\n",
    "- `1[0-9]?|20` matches numbers from 10 to 20.\n",
    "- `0\\.[1-9]` matches decimal numbers between 0 and 1, excluding 0 itself (e.g., 0.5, 0.7).\n",
    "- `([0-9]{1,3}(,[0-9]{3})*(\\.[0-9]+)?)` matches any number from 0 to 999,999,999 with optional grouping of digits by thousands (e.g., 1,000,000) and decimal part.\n",
    "- `$` asserts the end of a line.\n",
    "\n",
    "this regular expression will match numbers in the range from 0 to 20 inclusive, as well as any number with up to three digits before the decimal point and one or more digits after it. If you need to match larger numbers, you can adjust the `{1,3}` part of the regular expression accordingly.\n",
    "```''', role=\"assistant\")\n",
    "\n",
    "proxy.context.append_message(message=\"\"\"now, considering I have this regular expression string loaded in a variable named pattern, show me how can I replace values in a string using this pattern regex\"\"\", role=\"user\")\n",
    "proxy.context.append_message(message='''You can use the `re.sub()` function to replace matched substrings with another substring. Here's an example of how you might do it:\n",
    "\n",
    "```python\n",
    "import re\n",
    "\n",
    "# Your regular expression pattern\n",
    "pattern = r\"your_regular_expression_here\"\n",
    "\n",
    "# The string in which you want to make replacements\n",
    "text = \"your text here\"\n",
    "\n",
    "# The substring that will replace the matched substrings\n",
    "replacement = \"your replacement text here\"\n",
    "\n",
    "new_text = re.sub(pattern, replacement, text)\n",
    "```\n",
    "\n",
    "In this example, `re.sub()` will find all occurrences of the pattern in the input string and replace them with the specified replacement substring. The result is stored in `new_text`.\n",
    "\n",
    "Please note that you need to replace \"your_regular_expression_here\", \"your text here\" and \"your replacement text here\" with your actual regular expression, input string and replacement string respectively.''', role=\"assistant\")\n",
    "\n",
    "proxy.context.append_message(message=\"\"\"what arguments can I pass to the strip method in python?\"\"\", role=\"user\")\n",
    "proxy.context.append_message(message='''The `strip()` function in Python removes leading and trailing spaces from a string by default. However, you can also specify characters that should be removed using the `strip()` method. This is done by passing these characters as an argument to the `strip()` method.\n",
    "\n",
    "Here's how you can use it:\n",
    "\n",
    "```python\n",
    "str = \"---Hello World---\"\n",
    "print(str.strip('-'))  # Removes leading and trailing '-'\n",
    "```\n",
    "\n",
    "In this example, all hyphens at the beginning and end of the string are removed because they were passed as an argument to `strip()`.\n",
    "\n",
    "If you don't pass any arguments to `strip()`, it will remove spaces from both ends of the string:\n",
    "\n",
    "```python\n",
    "str = \"   Hello World    \"\n",
    "print(str.strip())  # Removes leading and trailing spaces\n",
    "```\n",
    "\n",
    "In this case, all spaces at the beginning and end of the string are removed because no arguments were passed to `strip()`.\n",
    "\n",
    "''', role=\"assistant\")\n",
    "\n",
    "proxy.context.append_message(message=\"\"\"what arguments can I pass to the strip method in python?\"\"\", role=\"user\")\n",
    "proxy.context.append_message(message='''The `strip()` function in Python removes leading and trailing spaces from a string by default. However, you can also specify characters that should be removed using the `strip()` method. This is done by passing these characters as an argument to the `strip()` method.\n",
    "\n",
    "Here's how you can use it:\n",
    "\n",
    "```python\n",
    "str = \"---Hello World---\"\n",
    "print(str.strip('-'))  # Removes leading and trailing '-'\n",
    "```\n",
    "\n",
    "In this example, all hyphens at the beginning and end of the string are removed because they were passed as an argument to `strip()`.\n",
    "\n",
    "If you don't pass any arguments to `strip()`, it will remove spaces from both ends of the string:\n",
    "\n",
    "```python\n",
    "str = \"   Hello World    \"\n",
    "print(str.strip())  # Removes leading and trailing spaces\n",
    "```\n",
    "\n",
    "In this case, all spaces at the beginning and end of the string are removed because no arguments were passed to `strip()`.\n",
    "\n",
    "''', role=\"assistant\")\n",
    "\n",
    "proxy.context.append_message(message=\"\"\"can I specify more than one character? or does this need to be done in different calls?\"\"\", role=\"user\")\n",
    "proxy.context.append_message(message='''You can pass multiple characters as an argument to the `strip()` method, but they will all be treated as a single string. Here's how you can do it:\n",
    "\n",
    "```python\n",
    "str = \"---Hello World---\"\n",
    "print(str.strip('-='))  # Removes leading and trailing '-' or '='\n",
    "```\n",
    "\n",
    "In this example, both hyphens (`-`) and equals signs (`=`) at the beginning and end of the string are removed because they were passed as an argument to `strip()`. The characters are treated as a single string, so if any character in the string matches one of these characters, it will be removed.\n",
    "\n",
    "If you want to remove different sets of characters from the start or end of the string, you would need to make separate calls to `strip()`:\n",
    "\n",
    "```python\n",
    "str = \"---Hello World===\"\n",
    "print(str.strip('-').strip('='))  # Removes leading '-' and trailing '='\n",
    "```\n",
    "\n",
    "In this example, hyphens are removed from the start of the string by one call to `strip()`, and equals signs are removed from the end of the string by a second call to `strip()`. The result is that all hyphens at the beginning and all equals signs at the end of the string are removed.\n",
    "''', role=\"assistant\")\n",
    "\n",
    "lastMessage = \"\"\"I have a list of strings named searchList. Write a lambda expression to make every string in this list become enclosed in double quotes\"\"\"\n",
    "proxy.context.append_message(message=lastMessage, role=\"user\")\n",
    "answer = '''You can use Python's `map()` function along with a lambda expression to achieve this. Here is how you can do it:\n",
    "\n",
    "```python\n",
    "searchList = [\"string1\", \"string2\", \"string3\"]\n",
    "\n",
    "# Use map and lambda to add double quotes around each string in the list\n",
    "searchList = list(map(lambda x: '\"' + x + '\"', searchList))\n",
    "\n",
    "print(searchList)  # Outputs: ['\"string1\"', '\"string2\"', '\"string3\"']\n",
    "```\n",
    "\n",
    "In this code, `map()` applies a lambda function to each item in the list. The lambda function takes an input (in this case, a string from the list), adds double quotes around it, and returns the result. The `list()` function is used to convert the map object back into a list.\n",
    "'''\n",
    "proxy.context.append_message(message=answer, role=\"assistant\")\n",
    "\n",
    "lastMessage = \"\"\"You know,  I feel bad during valentines day since my wife went away\"\"\"\n",
    "proxy.context.append_message(message=lastMessage, role=\"user\")\n",
    "answer = '''Sorry to hear it, Liam.'''\n",
    "proxy.context.append_message(message=answer, role=\"assistant\")\n",
    "proxy.context.last_answer = answer\n",
    "proxy.context.last_message = lastMessage\n",
    "proxy.context.proxy = proxy\n",
    "\n"
   ]
  },
  {
   "cell_type": "markdown",
   "metadata": {},
   "source": [
    "**Decisory Prompt for commiting to memmory**"
   ]
  },
  {
   "cell_type": "code",
   "execution_count": null,
   "metadata": {},
   "outputs": [],
   "source": [
    "from Nexus import globalNexus\n",
    "print(f\"Default - {globalNexus.get_memory_usage()}\")\n",
    "globalNexus.load_model(\"OpenOrca\")\n",
    "print(f\"Loaded - {globalNexus.get_memory_usage()}\")\n",
    "#globalNexus.activate_model(\"OpenOrca\")\n",
    "#print(f\"Reactivated - {globalNexus.get_memory_usage()}\")\n",
    "#globalNexus.deactivate_model(\"OpenOrca\")\n",
    "#print(f\"Deactivated - {globalNexus.get_memory_usage()}\")"
   ]
  },
  {
   "cell_type": "code",
   "execution_count": null,
   "metadata": {},
   "outputs": [],
   "source": [
    "from Nexus import globalNexus\n",
    "#print(f\"Before - {globalNexus.get_memory_usage()}\")\n",
    "#globalNexus.CortexModel.activate()\n",
    "#print(f\"After - {globalNexus.get_memory_usage()}\")\n",
    "#print(f\"Layers: {globalNexus.CortexModel.params['n-gpu-layers']}\")\n",
    "\n",
    "shard = \"OpenOrca\"\n",
    "proxy.context.verbose=False\n",
    "print(f\"Before - {globalNexus.get_memory_usage()}\")\n",
    "proxy.deactivateCortex()\n",
    "print(f\"After - {globalNexus.get_memory_usage()}\")\n",
    "\n",
    "globalNexus.ShardModels[shard].keepActive = True\n",
    "\n",
    "print(globalNexus.ShardModels[shard].keepActive)\n",
    "proxy.enterSubContext()\n",
    "proxy.context.systemMessage = proxy.GenerateSystem()\n",
    "personal = proxy.GenerateAnswer(shard=shard,prompt=\"define personal messages\")\n",
    "proxy.exitSubContext()\n",
    "print(personal)\n",
    "\n",
    "print(f\"Before - {globalNexus.get_memory_usage()}\")\n",
    "proxy.activateCortex()\n",
    "print(f\"After - {globalNexus.get_memory_usage()}\")"
   ]
  },
  {
   "cell_type": "code",
   "execution_count": 2,
   "metadata": {},
   "outputs": [
    {
     "name": "stdout",
     "output_type": "stream",
     "text": [
      "model Llama2 already activated\n",
      "Entering context af887584-1fab-4ac5-9ccc-3ae6e056acf2 from context 5d7db22f-9c50-49ae-9f35-9bd2b09b7223\n",
      "model Llama2 already activated\n",
      "performing inference with Llama2\n",
      "root ::= choice \n",
      "choice ::= [Y] [e] [s] | [N] [o] \n"
     ]
    },
    {
     "name": "stderr",
     "output_type": "stream",
     "text": [
      "from_string grammar:\n",
      "\n"
     ]
    },
    {
     "name": "stdout",
     "output_type": "stream",
     "text": [
      "exiting context af887584-1fab-4ac5-9ccc-3ae6e056acf2 to context 5d7db22f-9c50-49ae-9f35-9bd2b09b7223\n",
      "programming related: Yes\n"
     ]
    }
   ],
   "source": [
    "from Memory import globalMemory\n",
    "\n",
    "from Nexus import globalNexus\n",
    "\n",
    "globalNexus.CortexModel.params[\"grammar_string\"] = '''root ::= choice\n",
    "choice ::= \"Yes\"|\"No\"'''\n",
    "\n",
    "shard = \"\"\n",
    "if(shard):\n",
    "  globalNexus.ShardModels[shard].params[\"grammar_string\"] = globalNexus.CortexModel.params[\"grammar_string\"]\n",
    "  globalNexus.ShardModels[shard].keepActive = True\n",
    "  proxy.deactivateCortex()\n",
    "else:\n",
    "  proxy.activateCortex()\n",
    "  \n",
    "  \n",
    "\n",
    "proxy.context.verbose=False\n",
    "\n",
    "\n",
    "proxy.enterSubContext(deepCopy=False, resetCortex=True)\n",
    "#localContext=proxy.context.parentContext.message_history[-2:]\n",
    "localContext=proxy.context.parentContext.message_history[-8:-5]\n",
    "proxy.context.systemMessage = proxy.GenerateSystem()\n",
    "proxy.context.message_history.extend(localContext)\n",
    "programmingRelated = proxy.GenerateAnswer(shard=shard,prompt=\"\"\"Are the previous messages about programming doubts\n",
    "                                          or any such immediate tasks? Answer \"Yes\" if the previous messages are about programming\n",
    "                                          and \"No\" if the previous messages are not about programming\"\"\")\n",
    "proxy.exitSubContext()\n",
    "\n",
    "print(f\"\"\"programming related: {programmingRelated}\"\"\")"
   ]
  },
  {
   "cell_type": "code",
   "execution_count": 5,
   "metadata": {},
   "outputs": [
    {
     "name": "stdout",
     "output_type": "stream",
     "text": [
      "[{'role': 'user', 'content': 'what arguments can I pass to the strip method in python?', 'id': 'user-a8295ac0-8ede-4f12-a109-d7e882e27879', 'created': '2024-02-23 18:34:48.370303', 'tokens': 13}, {'role': 'assistant', 'content': 'The `strip()` function in Python removes leading and trailing spaces from a string by default. However, you can also specify characters that should be removed using the `strip()` method. This is done by passing these characters as an argument to the `strip()` method.\\n\\nHere\\'s how you can use it:\\n\\n```python\\nstr = \"---Hello World---\"\\nprint(str.strip(\\'-\\'))  # Removes leading and trailing \\'-\\'\\n```\\n\\nIn this example, all hyphens at the beginning and end of the string are removed because they were passed as an argument to `strip()`.\\n\\nIf you don\\'t pass any arguments to `strip()`, it will remove spaces from both ends of the string:\\n\\n```python\\nstr = \"   Hello World    \"\\nprint(str.strip())  # Removes leading and trailing spaces\\n```\\n\\nIn this case, all spaces at the beginning and end of the string are removed because no arguments were passed to `strip()`.\\n\\n', 'id': 'assistant-04c63e70-a327-4147-9dc6-4345c5eb38f7', 'created': '2024-02-23 18:34:48.371303', 'tokens': 215}, {'role': 'user', 'content': 'can I specify more than one character? or does this need to be done in different calls?', 'id': 'user-85f0a507-c9ff-4177-ad6e-97821b358df1', 'created': '2024-02-23 18:34:48.371303', 'tokens': 20}]\n"
     ]
    }
   ],
   "source": [
    "print(localContext)"
   ]
  },
  {
   "cell_type": "code",
   "execution_count": 4,
   "metadata": {},
   "outputs": [
    {
     "name": "stdout",
     "output_type": "stream",
     "text": [
      "Entering context 44a40ada-701b-4267-a8be-a9ba4efa47db from context a8db8dde-08e0-4e35-9677-95eb77fe5d35\n",
      "model Llama2 already activated\n",
      "performing inference with Llama2\n",
      "root ::= choice \n",
      "choice ::= [C] [a] [n] [ ] [A] [n] [s] [w] [e] [r] | [C] [a] [n] ['] [t] [ ] [a] [n] [s] [w] [e] [r] \n"
     ]
    },
    {
     "name": "stderr",
     "output_type": "stream",
     "text": [
      "from_string grammar:\n",
      "\n",
      "Llama.generate: prefix-match hit\n"
     ]
    },
    {
     "name": "stdout",
     "output_type": "stream",
     "text": [
      "exiting context 44a40ada-701b-4267-a8be-a9ba4efa47db to context a8db8dde-08e0-4e35-9677-95eb77fe5d35\n",
      "Can't answer\n"
     ]
    }
   ],
   "source": [
    "from Nexus import globalNexus\n",
    "from Proxy import Proxy\n",
    "#proxy = Proxy(name=\"Ergo\")\n",
    "\n",
    "globalNexus.CortexModel.params[\"grammar_string\"] = '''root ::= choice\n",
    "choice ::= \"Can Answer\"|\"Can't answer\"'''\n",
    "\n",
    "proxy.enterSubContext(deepCopy=False, resetCortex=True)\n",
    "proxy.context.systemMessage = proxy.GenerateSystem()\n",
    "\n",
    "proxy.context.append_message(message=\"What is my father's name?\", role=\"user\")\n",
    "needMemory = proxy.GenerateAnswer(shard='',prompt=\"\"\"Do you already know the answer to the previous question? Can you answer it?\n",
    "                                  Answer with 'Can't answer' if you cannot answer the question or\n",
    "                                  'Can Answer' if you know the answer and can answer the question!\"\"\")\n",
    "proxy.exitSubContext()\n",
    "print(needMemory)"
   ]
  },
  {
   "cell_type": "code",
   "execution_count": 5,
   "metadata": {},
   "outputs": [
    {
     "name": "stdout",
     "output_type": "stream",
     "text": [
      "Entering context dba220c8-d0d5-4e3b-8e0f-34dfaf7a2bf3 from context 44a40ada-701b-4267-a8be-a9ba4efa47db\n",
      "model Llama2 already activated\n",
      "performing inference with Llama2\n"
     ]
    },
    {
     "name": "stderr",
     "output_type": "stream",
     "text": [
      "Llama.generate: prefix-match hit\n"
     ]
    },
    {
     "name": "stdout",
     "output_type": "stream",
     "text": [
      "exiting context dba220c8-d0d5-4e3b-8e0f-34dfaf7a2bf3 to context 44a40ada-701b-4267-a8be-a9ba4efa47db\n",
      "  Sure, here are two facts that can be gathered from this conversation:\n",
      "\n",
      "1. The `strip()` function in Python can be used to remove leading and trailing characters from a string.\n",
      "2. The `strip()` function can also be used to remove specific characters from a string by passing them as arguments to the function.\n"
     ]
    }
   ],
   "source": [
    "globalNexus.CortexModel.params[\"grammar_string\"] =''\n",
    "proxy.enterSubContext(deepCopy=False)\n",
    "proxy.context.systemMessage = proxy.GenerateSystem()\n",
    "proxy.context.message_history.extend(localContext)\n",
    "facts = proxy.GenerateAnswer(prompt=\"Cite two facts you can gather from this conversation\")\n",
    "proxy.exitSubContext()\n",
    "print(facts)"
   ]
  },
  {
   "cell_type": "markdown",
   "metadata": {},
   "source": [
    "**Conversation slicing in messages**"
   ]
  },
  {
   "cell_type": "code",
   "execution_count": null,
   "metadata": {},
   "outputs": [],
   "source": [
    "prompt = \"describe this portion of our conversation:\"\n",
    "print(proxy.context.get_token_count(prompt=prompt))\n",
    "\n",
    "proxy.enterSubContext(deepCopy=True)\n",
    "chunks = range(proxy.context.GetChunkCount(chunkSize=4))\n",
    "print(chunks)\n",
    "responses = []\n",
    "\n",
    "for i in chunks:\n",
    "  contextChunk = proxy.context.getChunks(chunkSize=4, chunkIndex=i)\n",
    "  print(contextChunk)\n",
    "  proxy.context.systemMessage = \"\"\n",
    "  proxy.enterSubContext(deepCopy=False)\n",
    "  proxy.context.systemMessage = \"\"\n",
    "  proxy.context.message_history=contextChunk\n",
    "  description = proxy.GenerateAnswer(prompt=prompt)\n",
    "  responses.append(description)\n",
    "  proxy.exitSubContext()\n",
    "\n",
    "proxy.exitSubContext()\n",
    "\n",
    "\n",
    "print(str.join(\"\\n\", responses))"
   ]
  },
  {
   "cell_type": "markdown",
   "metadata": {},
   "source": [
    "**Hard Cortex summarization**"
   ]
  },
  {
   "cell_type": "code",
   "execution_count": 6,
   "metadata": {},
   "outputs": [
    {
     "name": "stdout",
     "output_type": "stream",
     "text": [
      "Entering context 9971e6d5-1bdc-4ec4-8adb-58eb2909604d from context dba220c8-d0d5-4e3b-8e0f-34dfaf7a2bf3\n",
      "model Llama2 already activated\n",
      "performing inference with Llama2\n"
     ]
    },
    {
     "name": "stderr",
     "output_type": "stream",
     "text": [
      "Llama.generate: prefix-match hit\n"
     ]
    },
    {
     "name": "stdout",
     "output_type": "stream",
     "text": [
      "exiting context 9971e6d5-1bdc-4ec4-8adb-58eb2909604d to context dba220c8-d0d5-4e3b-8e0f-34dfaf7a2bf3\n",
      "  In this conversation, the speaker discussed how to use the `strip()` method in Python to remove leading and trailing characters from a string, and how to specify multiple characters to remove by passing them as arguments to the method.\n"
     ]
    }
   ],
   "source": [
    "proxy.enterSubContext(True)\n",
    "answer = proxy.GenerateAnswer(prompt=\"summarize this conversation in one short sentence\")\n",
    "proxy.exitSubContext()\n",
    "print(answer)"
   ]
  },
  {
   "cell_type": "markdown",
   "metadata": {},
   "source": [
    "**Cortical Conversation Classification**"
   ]
  },
  {
   "cell_type": "code",
   "execution_count": 7,
   "metadata": {},
   "outputs": [
    {
     "name": "stdout",
     "output_type": "stream",
     "text": [
      "Entering context 195cf78d-9cfe-4050-8b97-170c7387b8d2 from context 9971e6d5-1bdc-4ec4-8adb-58eb2909604d\n",
      "model Llama2 already activated\n",
      "performing inference with Llama2\n"
     ]
    },
    {
     "name": "stderr",
     "output_type": "stream",
     "text": [
      "Llama.generate: prefix-match hit\n"
     ]
    },
    {
     "name": "stdout",
     "output_type": "stream",
     "text": [
      "exiting context 195cf78d-9cfe-4050-8b97-170c7387b8d2 to context 9971e6d5-1bdc-4ec4-8adb-58eb2909604d\n",
      "  Based on the conversation provided, the main topic is the `strip()` method in Python and its usage for removing leading and trailing characters from strings.\n",
      "\n",
      "Here are two facts that can be gathered from this conversation:\n",
      "\n",
      "1. The `strip()` method in Python removes leading and trailing spaces from a string by default.\n",
      "2. The `strip()` method can also remove specific characters other than spaces by passing them as arguments.\n",
      "\n",
      "Here is a summary of the conversation in one sentence:\n",
      "\n",
      "The `strip()` method in Python can be used to remove leading and trailing characters from strings, and it can also be customized to remove specific characters other than spaces by passing them as arguments.\n"
     ]
    }
   ],
   "source": [
    "proxy.enterSubContext(deepCopy=True)\n",
    "answer = proxy.GenerateAnswer(prompt=\"What is the main topic of this conversation? Be objective.\")\n",
    "proxy.exitSubContext()\n",
    "print(answer)"
   ]
  },
  {
   "cell_type": "markdown",
   "metadata": {},
   "source": [
    "***Relevance by topic***"
   ]
  },
  {
   "cell_type": "code",
   "execution_count": 8,
   "metadata": {},
   "outputs": [
    {
     "name": "stdout",
     "output_type": "stream",
     "text": [
      "Entering context 1f09dc32-808a-4185-b171-35d7749255eb from context 195cf78d-9cfe-4050-8b97-170c7387b8d2\n",
      "model Llama2 already activated\n",
      "performing inference with Llama2\n"
     ]
    },
    {
     "name": "stderr",
     "output_type": "stream",
     "text": [
      "Llama.generate: prefix-match hit\n"
     ]
    },
    {
     "name": "stdout",
     "output_type": "stream",
     "text": [
      "exiting context 1f09dc32-808a-4185-b171-35d7749255eb to context 195cf78d-9cfe-4050-8b97-170c7387b8d2\n",
      "  Based on the provided conversation, the topic of the `strip()` method in Python and its usage for removing leading and trailing characters from strings is not relevant enough to be stored in memory. The conversation primarily focuses on the default behavior of the `strip()` method in Python and how it can be customized to remove specific characters other than spaces by passing them as arguments. This information is not critical to remember and can be easily looked up when needed. Therefore, the answer is No, this information should not be stored in memory.\n"
     ]
    }
   ],
   "source": [
    "proxy.enterSubContext(deepCopy=False)\n",
    "answer = proxy.GenerateAnswer(prompt=f\"\"\"Memory processing is an expensive task and should be reserved for really relevant content and things you don't already know.\n",
    "                              Do you think that a conversation about {answer} is relevant enough to be stored in memory? Or is it something you already know? Be objective. Answer with Yes or No\"\"\")\n",
    "proxy.exitSubContext()\n",
    "print(answer)"
   ]
  },
  {
   "cell_type": "code",
   "execution_count": null,
   "metadata": {},
   "outputs": [],
   "source": [
    "proxy.enterSubContext(deepCopy=True)\n",
    "proxy.context.systemMessage = \"\"\n",
    "ctx = proxy.context.get_relevant_context_as_text(prompt=\"\")\n",
    "proxy.exitSubContext()\n",
    "\n",
    "print(ctx)"
   ]
  },
  {
   "cell_type": "markdown",
   "metadata": {},
   "source": [
    "**Nexus Summarizer prototype and test**"
   ]
  },
  {
   "cell_type": "code",
   "execution_count": null,
   "metadata": {},
   "outputs": [],
   "source": [
    "from Nexus import globalNexus\n",
    "chunkSize = 512\n",
    "overlap = 64\n",
    "wordList = ctx.split(\" \")\n",
    "print(wordList)\n",
    "print(len(wordList))\n",
    "\n",
    "\n",
    "summary = \"\"\n",
    "for i in range(0, len(wordList), chunkSize):\n",
    "  chunks = []\n",
    "  end = i+chunkSize\n",
    "  if(i>overlap):\n",
    "    chunks.extend(wordList[i-overlap:i-1])\n",
    "  chunks.extend(wordList[i:end])\n",
    "  if(end+overlap < len(wordList)):\n",
    "    chunks.extend(wordList[end+1:end+overlap])\n",
    "  summary+= globalNexus.summarize(\" \".join(chunks))+\"\\n\"\n",
    "  \n",
    "print(summary)\n"
   ]
  },
  {
   "cell_type": "code",
   "execution_count": null,
   "metadata": {},
   "outputs": [],
   "source": [
    "summary = globalNexus.summarize(ctx)\n",
    "print(summary)\n",
    "ner = globalNexus.getNER(ctx)\n",
    "print(ner)"
   ]
  }
 ],
 "metadata": {
  "kernelspec": {
   "display_name": "stasis",
   "language": "python",
   "name": "python3"
  },
  "language_info": {
   "codemirror_mode": {
    "name": "ipython",
    "version": 3
   },
   "file_extension": ".py",
   "mimetype": "text/x-python",
   "name": "python",
   "nbconvert_exporter": "python",
   "pygments_lexer": "ipython3",
   "version": "3.9.16"
  }
 },
 "nbformat": 4,
 "nbformat_minor": 2
}
