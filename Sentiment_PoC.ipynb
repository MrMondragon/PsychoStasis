{
 "cells": [
  {
   "cell_type": "code",
   "execution_count": 5,
   "metadata": {},
   "outputs": [
    {
     "name": "stdout",
     "output_type": "stream",
     "text": [
      "model SentimentNuanced.Sentiment activated\n",
      "model SentimentNuanced.Sentiment deactivated\n",
      "['sadness', 'disappointment']\n"
     ]
    }
   ],
   "source": [
    "text = \"You know,  I feel bad during valentines day since my wife went away\"\n",
    "t1=\"I am not having a great day.\"\n",
    "t2 = \"Great, now let's continue to the next topic:\"\n",
    "t3 = \"No! That's not what I asked!\"\n",
    "from Nexus import globalNexus\n",
    "\n",
    "result = globalNexus.GetSentiment(prompt=text, nuanced=True)\n",
    "print(result)"
   ]
  },
  {
   "cell_type": "code",
   "execution_count": null,
   "metadata": {},
   "outputs": [],
   "source": []
  }
 ],
 "metadata": {
  "kernelspec": {
   "display_name": "stasis",
   "language": "python",
   "name": "python3"
  },
  "language_info": {
   "codemirror_mode": {
    "name": "ipython",
    "version": 3
   },
   "file_extension": ".py",
   "mimetype": "text/x-python",
   "name": "python",
   "nbconvert_exporter": "python",
   "pygments_lexer": "ipython3",
   "version": "3.9.16"
  }
 },
 "nbformat": 4,
 "nbformat_minor": 2
}
