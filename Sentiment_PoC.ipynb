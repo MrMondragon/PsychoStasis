{
 "cells": [
  {
   "cell_type": "code",
   "execution_count": 3,
   "metadata": {},
   "outputs": [
    {
     "name": "stdout",
     "output_type": "stream",
     "text": [
      "model Sentiment.Sentiment activated\n",
      "[{'label': 'disappointment', 'score': 0.5044487714767456}, {'label': 'sadness', 'score': 0.3469432592391968}, {'label': 'annoyance', 'score': 0.08485792577266693}]\n",
      "model Sentiment.Sentiment deactivated\n",
      "['disappointment', 'sadness']\n"
     ]
    }
   ],
   "source": [
    "text = \"You know,  I feel bad during valentines day since my wife went away\"\n",
    "t1=\"I am not having a great day.\"\n",
    "from Nexus import globalNexus\n",
    "\n",
    "result = globalNexus.getSentiment(t1)\n",
    "print(result)"
   ]
  }
 ],
 "metadata": {
  "kernelspec": {
   "display_name": "stasis",
   "language": "python",
   "name": "python3"
  },
  "language_info": {
   "codemirror_mode": {
    "name": "ipython",
    "version": 3
   },
   "file_extension": ".py",
   "mimetype": "text/x-python",
   "name": "python",
   "nbconvert_exporter": "python",
   "pygments_lexer": "ipython3",
   "version": "3.9.16"
  }
 },
 "nbformat": 4,
 "nbformat_minor": 2
}
