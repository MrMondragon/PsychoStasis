{
 "cells": [
  {
   "cell_type": "code",
   "execution_count": 2,
   "metadata": {},
   "outputs": [
    {
     "name": "stdout",
     "output_type": "stream",
     "text": [
      "{'CommitToMemory': <CognitiveProcesses.CommitToMemory.CommitToMemory object at 0x0000027EB0B64820>}\n"
     ]
    }
   ],
   "source": [
    "import glob\n",
    "import importlib\n",
    "import sys\n",
    "import os\n",
    "\n",
    "class DynamicSystem(object):\n",
    "  def __init__(self):\n",
    "    self.processes = {}\n",
    "    self.LoadProcesses(\"CognitiveProcesses\")\n",
    "  \n",
    "  def LoadProcesses(self, processPath, **kwargs):\n",
    "    cwd = os.getcwd()\n",
    "    workPath = os.path.join(cwd, processPath) \n",
    "\n",
    "\n",
    "    pattern = \"*.py\"\n",
    "    fileList = glob.glob(os.path.join(workPath, pattern))\n",
    "    if fileList:  # If list is not empty\n",
    "    \n",
    "      abstractModuleName = list(filter(lambda x: os.path.basename(x).startswith('_')\n",
    "                                  and not '__init__.py' in x, fileList))\n",
    "      if(abstractModuleName):\n",
    "        abstractModuleName = abstractModuleName[0]\n",
    "      #abstractModule =  os.path.splitext(os.path.basename(abstractModule))[0]\n",
    "      concreteModules = list(filter(lambda x: not os.path.basename(x).startswith('_'), fileList))\n",
    "        \n",
    "      if(abstractModuleName):\n",
    "        abstractProcName = os.path.splitext(os.path.basename(abstractModuleName))[0]\n",
    "        abstractSpec = importlib.util.spec_from_file_location(abstractProcName, abstractModuleName)\n",
    "        abstractModule = importlib.util.module_from_spec(abstractSpec)\n",
    "        abstractSpec.loader.exec_module(abstractModule)\n",
    "        sys.modules[abstractProcName] = abstractModule\n",
    "    \n",
    "      for fileName in concreteModules:\n",
    "        procName = os.path.splitext(os.path.basename(fileName))[0]        \n",
    "        module = importlib.import_module(processPath+\".\"+procName)        \n",
    "        cls = getattr(module, procName)\n",
    "        procObject = cls(**kwargs)\n",
    "        self.processes[procName] = procObject\n",
    "          \n",
    "          \n",
    "dp = DynamicSystem()\n",
    "print(dp.processes)"
   ]
  }
 ],
 "metadata": {
  "kernelspec": {
   "display_name": "stasis",
   "language": "python",
   "name": "python3"
  },
  "language_info": {
   "codemirror_mode": {
    "name": "ipython",
    "version": 3
   },
   "file_extension": ".py",
   "mimetype": "text/x-python",
   "name": "python",
   "nbconvert_exporter": "python",
   "pygments_lexer": "ipython3",
   "version": "3.9.16"
  }
 },
 "nbformat": 4,
 "nbformat_minor": 2
}
