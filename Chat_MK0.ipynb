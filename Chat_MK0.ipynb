{
 "cells": [
  {
   "cell_type": "code",
   "execution_count": null,
   "metadata": {},
   "outputs": [],
   "source": [
    "import gradio as gr\n",
    "from Proxy import Proxy\n",
    "from collections import deque\n",
    "\n",
    "def getProxyList():\n",
    "  return Proxy.GetProxyList()\n",
    "\n",
    "items = getProxyList()\n",
    "\n",
    "activeProxy = Proxy(\"Nietzche\")\n",
    "\n",
    "def respond(message, chatHistory):\n",
    "  bot_message = activeProxy.ReceiveMessage(message=message) \n",
    "  messageQueue = deque(activeProxy.context.messageHistory)\n",
    "  history = []\n",
    "  \n",
    "  while(len(messageQueue)>0):\n",
    "    message = messageQueue.popleft()\n",
    "    userMessage = message[\"content\"]\n",
    "    message = messageQueue.popleft()\n",
    "    botMessage = message[\"content\"]\n",
    "    history.append((userMessage, botMessage))\n",
    "  \n",
    "  chatHistory.append((userMessage, bot_message))\n",
    "  innerHistory= [(\"inner\", \"thoughts\")]\n",
    "  print(activeProxy.context.messageHistory)\n",
    "  return \"\", history, innerHistory\n",
    "      \n",
    "with gr.Blocks() as demo:\n",
    "  gr.Markdown(\"# PsychoStasis\")\n",
    "  with gr.Row():\n",
    "    with gr.Column():\n",
    "      with gr.Row():\n",
    "        with gr.Column():\n",
    "          chatbot = gr.Chatbot(height=720, scroll_to_output=True, label=\"Interaction\", show_label=True)\n",
    "      txtPrompt = gr.Textbox(label=\"Prompt\")\n",
    "    \n",
    "  txtPrompt.submit(respond, inputs=[txtPrompt, chatbot], outputs=[txtPrompt, chatbot])\n",
    "  \n",
    "demo.launch()\n",
    "\n"
   ]
  }
 ],
 "metadata": {
  "kernelspec": {
   "display_name": "stasis",
   "language": "python",
   "name": "python3"
  },
  "language_info": {
   "codemirror_mode": {
    "name": "ipython",
    "version": 3
   },
   "file_extension": ".py",
   "mimetype": "text/x-python",
   "name": "python",
   "nbconvert_exporter": "python",
   "pygments_lexer": "ipython3",
   "version": "3.9.16"
  }
 },
 "nbformat": 4,
 "nbformat_minor": 2
}
