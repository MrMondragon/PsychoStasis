{
 "cells": [
  {
   "cell_type": "code",
   "execution_count": 1,
   "metadata": {},
   "outputs": [
    {
     "name": "stderr",
     "output_type": "stream",
     "text": [
      "c:\\Users\\marce\\.conda\\envs\\stasis\\lib\\site-packages\\gradio_client\\documentation.py:102: UserWarning: Could not get documentation group for <class 'gradio.mix.Parallel'>: No known documentation group for module 'gradio.mix'\n",
      "  warnings.warn(f\"Could not get documentation group for {cls}: {exc}\")\n",
      "c:\\Users\\marce\\.conda\\envs\\stasis\\lib\\site-packages\\gradio_client\\documentation.py:102: UserWarning: Could not get documentation group for <class 'gradio.mix.Series'>: No known documentation group for module 'gradio.mix'\n",
      "  warnings.warn(f\"Could not get documentation group for {cls}: {exc}\")\n",
      "C:\\Users\\marce\\AppData\\Local\\Temp\\ipykernel_21000\\1439746092.py:35: GradioUnusedKwargWarning: You have unused kwarg parameters in Chatbot, please remove them: {'scroll_to_output': True}\n",
      "  chatbot = gr.Chatbot(height=720, scroll_to_output=True, label=\"Interaction\", show_label=True)\n",
      "C:\\Users\\marce\\AppData\\Local\\Temp\\ipykernel_21000\\1439746092.py:37: GradioUnusedKwargWarning: You have unused kwarg parameters in Chatbot, please remove them: {'scroll_to_output': True}\n",
      "  innerThoughts = gr.Chatbot(height=720, scroll_to_output=True, label=\"Inner Thoughts\", show_label=True)\n"
     ]
    },
    {
     "name": "stdout",
     "output_type": "stream",
     "text": [
      "Running on local URL:  http://127.0.0.1:7861\n",
      "\n",
      "To create a public link, set `share=True` in `launch()`.\n"
     ]
    },
    {
     "data": {
      "text/html": [
       "<div><iframe src=\"http://127.0.0.1:7861/\" width=\"100%\" height=\"500\" allow=\"autoplay; camera; microphone; clipboard-read; clipboard-write;\" frameborder=\"0\" allowfullscreen></iframe></div>"
      ],
      "text/plain": [
       "<IPython.core.display.HTML object>"
      ]
     },
     "metadata": {},
     "output_type": "display_data"
    },
    {
     "data": {
      "text/plain": []
     },
     "execution_count": 1,
     "metadata": {},
     "output_type": "execute_result"
    },
    {
     "name": "stdout",
     "output_type": "stream",
     "text": [
      "LoRa:  B:/PsychoStasis/Training/NietzcheCBG.gguf\n"
     ]
    },
    {
     "name": "stderr",
     "output_type": "stream",
     "text": [
      "AVX = 1 | AVX2 = 1 | AVX512 = 0 | AVX512_VBMI = 0 | AVX512_VNNI = 0 | FMA = 1 | NEON = 0 | ARM_FMA = 0 | F16C = 1 | FP16_VA = 0 | WASM_SIMD = 0 | BLAS = 1 | SSE3 = 1 | SSSE3 = 0 | VSX = 0 | \n"
     ]
    },
    {
     "name": "stdout",
     "output_type": "stream",
     "text": [
      "model CBG activated\n",
      "performing inference with CBG\n",
      "[{'role': 'user', 'content': 'hi again', 'id': 'user-f0cf10e5-9f4f-498f-86c8-e69860beeee4', 'created': '2024-03-17 19:57:26.087252', 'tokens': 3, 'roleName': 'Liam'}, {'role': 'assistant', 'content': \"Nietzche: Greetings, Liam. It is always a pleasure to engage in discourse with someone open to challenging their own perspectives and the status quo. The Will to Power, often misconstrued as an obsession with domination, must be understood within its full context - it's about self-actualization, not at the expense of others but through a harmonious balance with one's environment.\\n\", 'id': 'Nietzche-ccd5f29e-aac6-4594-9058-b26c6fcc9a57', 'created': '2024-03-17 19:57:30.982711', 'tokens': 93, 'roleName': 'Nietzche'}]\n"
     ]
    }
   ],
   "source": [
    "import gradio as gr\n",
    "from Proxy import Proxy\n",
    "from collections import deque\n",
    "\n",
    "def getProxyList():\n",
    "  return Proxy.get_proxy_list()\n",
    "\n",
    "items = getProxyList()\n",
    "\n",
    "activeProxy = Proxy(\"Nietzche\")\n",
    "\n",
    "def respond(message, chatHistory):\n",
    "  bot_message = activeProxy.ReceiveMessage(message=message) \n",
    "  messageQueue = deque(activeProxy.context.message_history)\n",
    "  history = []\n",
    "  \n",
    "  while(len(messageQueue)>0):\n",
    "    message = messageQueue.popleft()\n",
    "    userMessage = message[\"content\"]\n",
    "    message = messageQueue.popleft()\n",
    "    botMessage = message[\"content\"]\n",
    "    history.append((userMessage, botMessage))\n",
    "  \n",
    "  chatHistory.append((userMessage, bot_message))\n",
    "  innerHistory= [(\"inner\", \"thoughts\")]\n",
    "  print(activeProxy.context.message_history)\n",
    "  return \"\", history, innerHistory\n",
    "      \n",
    "with gr.Blocks() as demo:\n",
    "  gr.Markdown(\"# PsychoStasis\")\n",
    "  with gr.Row():\n",
    "    with gr.Column():\n",
    "      with gr.Row():\n",
    "        with gr.Column(scale=3):\n",
    "          chatbot = gr.Chatbot(height=720, scroll_to_output=True, label=\"Interaction\", show_label=True)\n",
    "        with gr.Column(scale=1):\n",
    "          innerThoughts = gr.Chatbot(height=720, scroll_to_output=True, label=\"Inner Thoughts\", show_label=True)\n",
    "          \n",
    "      txtPrompt = gr.Textbox(label=\"Prompt\")\n",
    "    \n",
    "  txtPrompt.submit(respond, inputs=[txtPrompt, chatbot], outputs=[txtPrompt, chatbot,innerThoughts])\n",
    "  \n",
    "demo.launch()\n",
    "\n"
   ]
  }
 ],
 "metadata": {
  "kernelspec": {
   "display_name": "stasis",
   "language": "python",
   "name": "python3"
  },
  "language_info": {
   "codemirror_mode": {
    "name": "ipython",
    "version": 3
   },
   "file_extension": ".py",
   "mimetype": "text/x-python",
   "name": "python",
   "nbconvert_exporter": "python",
   "pygments_lexer": "ipython3",
   "version": "3.9.16"
  }
 },
 "nbformat": 4,
 "nbformat_minor": 2
}
