{
 "cells": [
  {
   "cell_type": "code",
   "execution_count": 5,
   "metadata": {},
   "outputs": [
    {
     "name": "stdout",
     "output_type": "stream",
     "text": [
      "['Western', 'Western', 'Judeo-Christian', 'Western']\n"
     ]
    }
   ],
   "source": [
    "import spacy\n",
    "\n",
    "nlp = spacy.load(\"en_core_web_lg\")\n",
    "\n",
    "text = \"Western esotericism, also known as esotericism, esoterism, and sometimes the Western mystery tradition,[1] is a term scholars use to categorise a wide range of loosely related ideas and movements that developed within Western society. These ideas and currents are united since they are largely distinct both from orthodox Judeo-Christian religion and Age of Enlightenment rationalism.[citation needed] It has influenced various forms of Western philosophy, mysticism, religion, pseudoscience, art, literature, and music.\"\n",
    "\n",
    "doc = nlp(text)\n",
    "\n",
    "ents = list(str(doc.ents).replace('(', '').replace(')', '').replace(\"the \",\"\").split(\", \"))\n",
    "\n",
    "print(ents)\n"
   ]
  }
 ],
 "metadata": {
  "kernelspec": {
   "display_name": "stasis",
   "language": "python",
   "name": "python3"
  },
  "language_info": {
   "codemirror_mode": {
    "name": "ipython",
    "version": 3
   },
   "file_extension": ".py",
   "mimetype": "text/x-python",
   "name": "python",
   "nbconvert_exporter": "python",
   "pygments_lexer": "ipython3",
   "version": "3.9.16"
  }
 },
 "nbformat": 4,
 "nbformat_minor": 2
}
