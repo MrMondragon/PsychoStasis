{
 "cells": [
  {
   "cell_type": "code",
   "execution_count": null,
   "metadata": {},
   "outputs": [],
   "source": [
    "from NER_model import NER_model\n",
    "\n",
    "model = NER_model('NER.NER')\n",
    "model.load()\n",
    "model.activate()\n",
    "\n",
    "entities = model.generate(\"\"\"Beyonce is an American singer, songwriter, and actress.\"\"\")\n",
    "\n",
    "print(entities)"
   ]
  },
  {
   "cell_type": "code",
   "execution_count": null,
   "metadata": {},
   "outputs": [],
   "source": [
    "entities = []\n",
    "entity = {\"text\":\"\", \"label\":\"\"}\n",
    "\n",
    "for token in nerBase:\n",
    "  text = token[\"word\"]\n",
    "  containsHash = False\n",
    "  if(\"#\" in text):\n",
    "    containsHash = True\n",
    "    text = text.replace(\"#\", \"\")\n",
    "  \n",
    "  label = token[\"entity\"]\n",
    "  \n",
    "  if(label.startswith(\"B-\") and not containsHash):\n",
    "    if(entity[\"label\"] != \"\"):\n",
    "      entities.append(entity)\n",
    "      entity = {\"text\":\"\", \"label\":\"\"}\n",
    "      \n",
    "  if(containsHash):\n",
    "    text =entity[\"text\"]+text;  \n",
    "  else:\n",
    "    text = entity[\"text\"]+\" \"+text\n",
    "    \n",
    "  entity = {\"text\":text, \"label\":label[2:]}\n",
    "  \n",
    "print(entities)\n",
    "  \n",
    "  \n"
   ]
  },
  {
   "cell_type": "code",
   "execution_count": 1,
   "metadata": {},
   "outputs": [
    {
     "name": "stderr",
     "output_type": "stream",
     "text": [
      "Some weights of the model checkpoint at B:/PsychoStasis/models/bert-base-NER were not used when initializing BertForTokenClassification: ['bert.pooler.dense.bias', 'bert.pooler.dense.weight']\n",
      "- This IS expected if you are initializing BertForTokenClassification from the checkpoint of a model trained on another task or with another architecture (e.g. initializing a BertForSequenceClassification model from a BertForPreTraining model).\n",
      "- This IS NOT expected if you are initializing BertForTokenClassification from the checkpoint of a model that you expect to be exactly identical (initializing a BertForSequenceClassification model from a BertForSequenceClassification model).\n"
     ]
    },
    {
     "name": "stdout",
     "output_type": "stream",
     "text": [
      "{'western': 'KEYWORD', 'eastern mediterranean': 'KEYWORD', 'late antiquity': 'KEYWORD', 'hermet': 'KEYWORD', 'gnostic': 'KEYWORD', 'neoplatoni': 'KEYWORD', 'christianity': 'KEYWORD', 'renaissance': 'KEYWORD', 'europe': 'LOC', 'pagan': 'KEYWORD', 'kabbalah': 'KEYWORD', 'christian': 'KEYWORD', 'christian kabbalah': 'KEYWORD', 'rosicrucian': 'KEYWORD', 'freemason': 'KEYWORD', 'age of enlightenment': 'KEYWORD', 'societas rosicruciana': 'ORG', 'anglia': 'LOC', 'theosophical society': 'ORG', 'hermetic order of the golden dawn': 'ORG', 'martinus thomsen paganism': 'KEYWORD', 'wicca': 'LOC'}\n"
     ]
    },
    {
     "data": {
      "text/plain": [
       "{'western': 'KEYWORD',\n",
       " 'eastern mediterranean': 'KEYWORD',\n",
       " 'late antiquity': 'KEYWORD',\n",
       " 'hermet': 'KEYWORD',\n",
       " 'gnostic': 'KEYWORD',\n",
       " 'neoplatoni': 'KEYWORD',\n",
       " 'christianity': 'KEYWORD',\n",
       " 'renaissance': 'KEYWORD',\n",
       " 'europe': 'LOC',\n",
       " 'pagan': 'KEYWORD',\n",
       " 'kabbalah': 'KEYWORD',\n",
       " 'christian': 'KEYWORD',\n",
       " 'christian kabbalah': 'KEYWORD',\n",
       " 'rosicrucian': 'KEYWORD',\n",
       " 'freemason': 'KEYWORD',\n",
       " 'age of enlightenment': 'KEYWORD',\n",
       " 'societas rosicruciana': 'ORG',\n",
       " 'anglia': 'LOC',\n",
       " 'theosophical society': 'ORG',\n",
       " 'hermetic order of the golden dawn': 'ORG',\n",
       " 'martinus thomsen paganism': 'KEYWORD',\n",
       " 'wicca': 'LOC',\n",
       " 'renaissance europe': 'KEYWORD',\n",
       " '17th century': 'KEYWORD',\n",
       " 'freemasonry': 'KEYWORD',\n",
       " 'age of enlightenment of 18th century': 'KEYWORD',\n",
       " '19th century': 'KEYWORD',\n",
       " 'century': 'KEYWORD',\n",
       " 'hermetic order of golden dawn': 'KEYWORD',\n",
       " \"martinus thomsen's\": 'KEYWORD',\n",
       " '1960s': 'KEYWORD',\n",
       " '1970s': 'KEYWORD'}"
      ]
     },
     "execution_count": 1,
     "metadata": {},
     "output_type": "execute_result"
    }
   ],
   "source": [
    "from Nexus import globalNexus\n",
    "globalNexus.getNER(\"The earliest traditions that later analysis labelled as forms of Western esotericism emerged in the Eastern Mediterranean during Late Antiquity, where Hermeticism, Gnosticism and Neoplatonism developed as schools of thought distinct from what became mainstream Christianity.[2] Renaissance Europe saw increasing interest in many of these older ideas, with various intellectuals combining pagan philosophies with the Kabbalah and Christian philosophy, resulting in the emergence of esoteric movements like Christian Kabbalah and Christian theosophy. The 17th century saw the development of initiatory societies professing esoteric knowledge such as Rosicrucianism and Freemasonry, while the Age of Enlightenment of the 18th century led to the development of new forms of esoteric thought. The 19th century saw the emergence of new trends of esoteric thought now known as occultism. Prominent groups in this century included the Societas Rosicruciana in Anglia, the Theosophical Society and the Hermetic Order of the Golden Dawn. Also important in this connection is Martinus Thomsen's 'spiritual science'. Modern Paganism developed within occultism and includes religious movements such as Wicca. Esoteric ideas permeated the counterculture of the 1960s and later cultural tendencies, which led to the New Age phenomenon in the 1970s.\")"
   ]
  }
 ],
 "metadata": {
  "kernelspec": {
   "display_name": "stasis",
   "language": "python",
   "name": "python3"
  },
  "language_info": {
   "codemirror_mode": {
    "name": "ipython",
    "version": 3
   },
   "file_extension": ".py",
   "mimetype": "text/x-python",
   "name": "python",
   "nbconvert_exporter": "python",
   "pygments_lexer": "ipython3",
   "version": "3.9.16"
  }
 },
 "nbformat": 4,
 "nbformat_minor": 2
}
