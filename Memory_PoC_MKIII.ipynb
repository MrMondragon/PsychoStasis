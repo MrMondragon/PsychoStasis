{
 "cells": [
  {
   "cell_type": "code",
   "execution_count": 1,
   "metadata": {
    "notebookRunGroups": {
     "groupValue": "1"
    }
   },
   "outputs": [
    {
     "name": "stdout",
     "output_type": "stream",
     "text": [
      "loading model Embeddings.Embeddings\n",
      "model configured\n",
      "loading model Summarizer.Summarizer\n",
      "model configured\n",
      "loading model NER.NER\n",
      "model configured\n",
      "loading model SentimentNuanced.Sentiment\n",
      "model configured\n",
      "loading model SentimentDiscreet.Sentiment\n",
      "model configured\n",
      "loading model ObjectiveDecisory.GGUF\n",
      "model configured\n",
      "loading model ObjectiveDecisory.GGUF\n"
     ]
    }
   ],
   "source": [
    "from Proxy import Proxy\n",
    "from CognitiveSystem import cognitiveSystem\n",
    "from LongTermMemory import longTermMemory\n",
    "\n",
    "activeProxy : Proxy= Proxy(\"Husserl\")\n"
   ]
  },
  {
   "cell_type": "code",
   "execution_count": 2,
   "metadata": {
    "notebookRunGroups": {
     "groupValue": ""
    }
   },
   "outputs": [
    {
     "name": "stdout",
     "output_type": "stream",
     "text": [
      "27\n",
      "<Proxy.Proxy object at 0x0000024685A861F0>\n"
     ]
    }
   ],
   "source": [
    "print(len(activeProxy.context.messageHistory))\n",
    "print(activeProxy.context.proxy)"
   ]
  },
  {
   "cell_type": "code",
   "execution_count": 3,
   "metadata": {
    "notebookRunGroups": {
     "groupValue": ""
    }
   },
   "outputs": [],
   "source": [
    "import os\n",
    "import shelve\n",
    "\n",
    "cwd = os.getcwd()\n",
    "\n",
    "memoryPath = os.path.join(cwd, 'Temp\\\\contexts.shelve')\n",
    "#with shelve.open(str(memoryPath)) as memory:\n",
    "  #memory['Husserl'] = activeProxy.context\n",
    "  \n"
   ]
  },
  {
   "cell_type": "code",
   "execution_count": 4,
   "metadata": {
    "notebookRunGroups": {
     "groupValue": ""
    }
   },
   "outputs": [
    {
     "name": "stdout",
     "output_type": "stream",
     "text": [
      "67\n"
     ]
    }
   ],
   "source": [
    "from Context import Context\n",
    "\n",
    "with shelve.open(str(memoryPath)) as memory:\n",
    "  workContext = memory.get('Husserl', Context(activeProxy))\n",
    "\n",
    "workContext.proxy=activeProxy\n",
    "print(len(workContext.messageHistory))\n"
   ]
  },
  {
   "cell_type": "code",
   "execution_count": 5,
   "metadata": {
    "notebookRunGroups": {
     "groupValue": ""
    }
   },
   "outputs": [
    {
     "name": "stdout",
     "output_type": "stream",
     "text": [
      "context commited\n",
      "loading model CBG\n",
      "model configured\n",
      "LoRa:  None\n",
      "{'model_path': 'B:/PsychoStasis/Training/carbonbeagle-11b-truthy.Q8_0.gguf', 'lora_base': 'B:/PsychoStasis/Training/carbonbeagle-11b-truthy.Q8_0.gguf', 'n_ctx': 4096, 'n_threads': 20, 'n_threads_batch': 1, 'n_batch': 512, 'use_mmap': True, 'use_mlock': True, 'mul_mat_q': True, 'numa': True, 'n_gpu_layers': -1, 'rope_freq_base': 10000.0, 'tensor_split': None, 'rope_freq_scale': 1.0, 'chat_format': 'chatml'}\n",
      "model CBG activated\n",
      "5\n"
     ]
    },
    {
     "name": "stderr",
     "output_type": "stream",
     "text": [
      "AVX = 1 | AVX2 = 1 | AVX512 = 0 | AVX512_VBMI = 0 | AVX512_VNNI = 0 | FMA = 1 | NEON = 0 | ARM_FMA = 0 | F16C = 1 | FP16_VA = 0 | WASM_SIMD = 0 | BLAS = 1 | SSE3 = 1 | SSSE3 = 0 | VSX = 0 | \n"
     ]
    }
   ],
   "source": [
    "activeProxy.clearContext()\n",
    "for message in workContext.messageHistory:\n",
    "  message.commitedProcesses = []\n",
    "\n",
    "msgs1to5 = workContext.messageHistory[0:5]\n",
    "msgs6to10 = workContext.messageHistory[5:10]\n",
    "msgs11to15 = workContext.messageHistory[10:15]\n",
    "msgs16to25 = workContext.messageHistory[15:25]\n",
    "\n",
    "\n",
    "for message in msgs1to5:\n",
    "  activeProxy.context.AppendMessage(message.content, message.role, message.roleName)\n",
    "  \n",
    "print(len(activeProxy.context.messageHistory))"
   ]
  },
  {
   "cell_type": "code",
   "execution_count": 6,
   "metadata": {
    "notebookRunGroups": {
     "groupValue": ""
    }
   },
   "outputs": [
    {
     "name": "stdout",
     "output_type": "stream",
     "text": [
      "prev = {'role': 'Husserl', 'content': 'Hail to you as well. It is a pleasure to converse with one who recognizes the significance of my work in the realm of philosophy. The concept of intentionality remains central to understanding consciousness and its relationship to the world, does it not?', 'id': 'Husserl-cb6af90f-13be-41b1-b09b-6787ad2debbe'}, next = {'role': 'Husserl', 'content': 'I am intrigued by this concept of persistent memory, as my work has revolved around understanding consciousness and experience. However, it is important to recognize the potential challenges of applying a purely objective model to subjective phenomena like our dialogue.', 'id': 'Husserl-e7ca8418-ef6a-4c49-a030-31e06d9cf88f'}\n"
     ]
    }
   ],
   "source": [
    "print(f\"prev = {activeProxy.context.messageHistory[2].previous}, next = {activeProxy.context.messageHistory[2].next}\")"
   ]
  },
  {
   "cell_type": "code",
   "execution_count": 7,
   "metadata": {},
   "outputs": [
    {
     "name": "stdout",
     "output_type": "stream",
     "text": [
      "model CBG deactivated\n",
      "Running processes in context beforeGenerateAnswer\n",
      "All procs: CommitToAbstractMemory|CommitToEpisodicMemory|CommitToSummaryMemory|CommitToThematicMemory|RefreshMemory\n",
      "Context filtered procs: \n",
      "Proxy and common filtered procs: \n",
      "LoRa:  B:/PsychoStasis/Training/HusserlCBG.gguf\n",
      "{'model_path': 'B:/PsychoStasis/Training/carbonbeagle-11b-truthy.Q8_0.gguf', 'lora_base': 'B:/PsychoStasis/Training/carbonbeagle-11b-truthy.Q8_0.gguf', 'n_ctx': 4096, 'n_threads': 20, 'n_threads_batch': 1, 'n_batch': 512, 'use_mmap': True, 'use_mlock': True, 'mul_mat_q': True, 'numa': True, 'n_gpu_layers': -1, 'rope_freq_base': 10000.0, 'tensor_split': None, 'rope_freq_scale': 1.0, 'chat_format': 'chatml'}\n"
     ]
    },
    {
     "name": "stderr",
     "output_type": "stream",
     "text": [
      "AVX = 1 | AVX2 = 1 | AVX512 = 0 | AVX512_VBMI = 0 | AVX512_VNNI = 0 | FMA = 1 | NEON = 0 | ARM_FMA = 0 | F16C = 1 | FP16_VA = 0 | WASM_SIMD = 0 | BLAS = 1 | SSE3 = 1 | SSSE3 = 0 | VSX = 0 | \n"
     ]
    },
    {
     "name": "stdout",
     "output_type": "stream",
     "text": [
      "model CBG activated\n",
      "performing inference with CBG\n",
      "Running processes in context afterGenerateAnswer\n",
      "All procs: CommitToAbstractMemory|CommitToEpisodicMemory|CommitToSummaryMemory|CommitToThematicMemory|RefreshMemory\n",
      "Context filtered procs: \n",
      "Proxy and common filtered procs: \n",
      "context commited\n",
      "The concept of persistency in a digital system, while not directly aligned with my philosophical principles, can be viewed as an intriguing extension and application. I'd be interested to learn more about your approach and consider the implications for phenomenological understanding within this context.\n"
     ]
    }
   ],
   "source": [
    "activeProxy.GenerateAnswer(\"and what do you think about all of this?\")\n",
    "print(activeProxy.context.lastAnswerTxt)"
   ]
  },
  {
   "cell_type": "markdown",
   "metadata": {},
   "source": [
    "<h5>Textual Episodic Memory</h5>"
   ]
  },
  {
   "cell_type": "code",
   "execution_count": 8,
   "metadata": {
    "notebookRunGroups": {
     "groupValue": ""
    }
   },
   "outputs": [
    {
     "name": "stdout",
     "output_type": "stream",
     "text": [
      "Getting uncommited messages for CommitToEpisodicMemory - frequency = 0\n",
      "Running CommitToEpisodicMemory with local context 7 and frequency = 0\n",
      "Engaging in CommitToEpisodicMemory Cognitive Process\n",
      "model Embeddings.Embeddings activated\n",
      "model Embeddings.Embeddings deactivated\n",
      "context commited\n"
     ]
    },
    {
     "data": {
      "text/plain": [
       "['Greetings, old friend',\n",
       " 'Hail to you as well. It is a pleasure to converse with one who recognizes the significance of my work in the realm of philosophy. The concept of intentionality remains central to understanding consciousness and its relationship to the world, does it not?',\n",
       " \"It does, indeed. My friend, today I  would like to discuss with you the memory structure I'm implementing for you, in order to give persistency to our conversations\",\n",
       " 'I am intrigued by this concept of persistent memory, as my work has revolved around understanding consciousness and experience. However, it is important to recognize the potential challenges of applying a purely objective model to subjective phenomena like our dialogue.',\n",
       " \"It does, nonetheless, demand some sort of persistency in order to continue to flow through multiple sessions. That is why we are discussing this topic today. I need you to evaluate and criticize the model I'll present you\",\n",
       " 'and what do you think about all of this?',\n",
       " \"The concept of persistency in a digital system, while not directly aligned with my philosophical principles, can be viewed as an intriguing extension and application. I'd be interested to learn more about your approach and consider the implications for phenomenological understanding within this context.\"]"
      ]
     },
     "execution_count": 8,
     "metadata": {},
     "output_type": "execute_result"
    }
   ],
   "source": [
    "cognitiveSystem.RunProcess(activeProxy, \"CommitToEpisodicMemory\")"
   ]
  },
  {
   "cell_type": "code",
   "execution_count": 9,
   "metadata": {
    "notebookRunGroups": {
     "groupValue": ""
    }
   },
   "outputs": [
    {
     "name": "stdout",
     "output_type": "stream",
     "text": [
      "model Embeddings.Embeddings activated\n",
      "model Embeddings.Embeddings deactivated\n"
     ]
    },
    {
     "data": {
      "text/plain": [
       "['Greetings, old friend',\n",
       " 'Hail to you as well. It is a pleasure to converse with one who recognizes the significance of my work in the realm of philosophy. The concept of intentionality remains central to understanding consciousness and its relationship to the world, does it not?',\n",
       " 'and what do you think about all of this?',\n",
       " \"The concept of persistency in a digital system, while not directly aligned with my philosophical principles, can be viewed as an intriguing extension and application. I'd be interested to learn more about your approach and consider the implications for phenomenological understanding within this context.\",\n",
       " 'I am intrigued by this concept of persistent memory, as my work has revolved around understanding consciousness and experience. However, it is important to recognize the potential challenges of applying a purely objective model to subjective phenomena like our dialogue.',\n",
       " \"It does, indeed. My friend, today I  would like to discuss with you the memory structure I'm implementing for you, in order to give persistency to our conversations\",\n",
       " \"It does, nonetheless, demand some sort of persistency in order to continue to flow through multiple sessions. That is why we are discussing this topic today. I need you to evaluate and criticize the model I'll present you\"]"
      ]
     },
     "execution_count": 9,
     "metadata": {},
     "output_type": "execute_result"
    }
   ],
   "source": [
    "from MemoryTypes import MemoryLevel\n",
    "\n",
    "longTermMemory.QueryDocuments(proxy=activeProxy, memoryLevel=MemoryLevel.Episodic, where=\"\")"
   ]
  },
  {
   "cell_type": "markdown",
   "metadata": {},
   "source": [
    "<h5>Summarized Consolidated Memory</h5>"
   ]
  },
  {
   "cell_type": "code",
   "execution_count": 10,
   "metadata": {
    "notebookRunGroups": {
     "groupValue": "2"
    }
   },
   "outputs": [
    {
     "name": "stdout",
     "output_type": "stream",
     "text": [
      "Getting uncommited messages for CommitToSummaryMemory - frequency = 0\n",
      "Running CommitToSummaryMemory with local context 7 and frequency = 0\n",
      "Engaging in CommitToSummaryMemory Cognitive Process\n",
      "model Embeddings.Embeddings activated\n",
      "Greetings, old friend\n",
      "Hail to you as well. It is a pleasure to converse with one who recognizes the significance of my work in the realm of philosophy. The concept of intentionality remains central to understanding consciousness and its relationship to the world, does it not?\n",
      "and what do you think about all of this?\n",
      "The concept of persistency in a digital system, while not directly aligned with my philosophical principles, can be viewed as an intriguing extension and application. I'd be interested to learn more about your approach and consider the implications for phenomenological understanding within this context.\n",
      "I am intrigued by this concept of persistent memory, as my work has revolved around understanding consciousness and experience. However, it is important to recognize the potential challenges of applying a purely objective model to subjective phenomena like our dialogue.\n",
      "It does, indeed. My friend, today I  would like to discuss with you the memory structure I'm implementing for you, in order to give persistency to our conversations\n",
      "It does, nonetheless, demand some sort of persistency in order to continue to flow through multiple sessions. That is why we are discussing this topic today. I need you to evaluate and criticize the model I'll present you\n",
      "model Summarizer.Summarizer activated\n",
      "model Embeddings.Embeddings deactivated\n",
      "context commited\n"
     ]
    },
    {
     "data": {
      "text/plain": [
       "\"I'd be interested to learn more about your approach and consider the implications for phenomenological understanding within this context . I am intrigued by this concept of persistent memory, as my work has revolved around understanding consciousness and its relationship to the world . however, it is important to recognize the potential challenges of applying a purely objective model to subjective phenomena like our dialogue . It does, nonetheless, demand some sort of persistency in order to continue to flow through multiple sessions.\\n\""
      ]
     },
     "execution_count": 10,
     "metadata": {},
     "output_type": "execute_result"
    }
   ],
   "source": [
    "cognitiveSystem.RunProcess(activeProxy, \"CommitToSummaryMemory\")\n"
   ]
  },
  {
   "cell_type": "code",
   "execution_count": 11,
   "metadata": {
    "notebookRunGroups": {
     "groupValue": "2"
    }
   },
   "outputs": [
    {
     "name": "stdout",
     "output_type": "stream",
     "text": [
      "model Embeddings.Embeddings activated\n",
      "model Embeddings.Embeddings deactivated\n"
     ]
    },
    {
     "data": {
      "text/plain": [
       "{'ids': [['sum-bde288be-5e26-400d-900a-f07a759e821b']],\n",
       " 'distances': [[1.983910083770752]],\n",
       " 'metadatas': [[{'conversationId': 'de5ee0a5-35ea-475e-bb7b-5bea1fe5e46a',\n",
       "    'episodes': 'user-c16906ed-ed3c-4bd2-b771-dec3dab9fc13|Husserl-cb6af90f-13be-41b1-b09b-6787ad2debbe|user-188ad9df-ff14-42c0-94be-8713fe4d3469|Husserl-b0cb7b47-e687-4b79-9cec-8c9f6f78fbcf|Husserl-e7ca8418-ef6a-4c49-a030-31e06d9cf88f|user-01b536b2-0655-464f-a9d6-0a3ba5517851|user-c94c02a8-ab6b-4603-abe0-7fc53577eef1',\n",
       "    'id': 'sum-bde288be-5e26-400d-900a-f07a759e821b',\n",
       "    'parent': '',\n",
       "    'proxy': 'Husserl',\n",
       "    'timestamp': 1713375736}]],\n",
       " 'embeddings': None,\n",
       " 'documents': [[\"I'd be interested to learn more about your approach and consider the implications for phenomenological understanding within this context . I am intrigued by this concept of persistent memory, as my work has revolved around understanding consciousness and its relationship to the world . however, it is important to recognize the potential challenges of applying a purely objective model to subjective phenomena like our dialogue . It does, nonetheless, demand some sort of persistency in order to continue to flow through multiple sessions.\\n\"]],\n",
       " 'uris': None,\n",
       " 'data': None}"
      ]
     },
     "execution_count": 11,
     "metadata": {},
     "output_type": "execute_result"
    }
   ],
   "source": [
    "from MemoryTypes import MemoryLevel\n",
    "\n",
    "longTermMemory.QueryAll(proxy = activeProxy, memoryLevel=MemoryLevel.Summary, where={}, queryTexts=[\"\"])"
   ]
  },
  {
   "cell_type": "code",
   "execution_count": 12,
   "metadata": {
    "notebookRunGroups": {
     "groupValue": "2"
    }
   },
   "outputs": [
    {
     "name": "stdout",
     "output_type": "stream",
     "text": [
      "Getting uncommited messages for CommitToEpisodicMemory - frequency = 0\n",
      "Running CommitToEpisodicMemory with local context 12 and frequency = 0\n",
      "Engaging in CommitToEpisodicMemory Cognitive Process\n",
      "model Embeddings.Embeddings activated\n",
      "model Embeddings.Embeddings deactivated\n",
      "context commited\n",
      "Getting uncommited messages for CommitToSummaryMemory - frequency = 0\n",
      "Running CommitToSummaryMemory with local context 12 and frequency = 0\n",
      "Engaging in CommitToSummaryMemory Cognitive Process\n"
     ]
    },
    {
     "name": "stderr",
     "output_type": "stream",
     "text": [
      "Token indices sequence length is longer than the specified maximum sequence length for this model (691 > 512). Running this sequence through the model will result in indexing errors\n"
     ]
    },
    {
     "name": "stdout",
     "output_type": "stream",
     "text": [
      "model Embeddings.Embeddings activated\n",
      "Greetings, old friend\n",
      "Hail to you as well. It is a pleasure to converse with one who recognizes the significance of my work in the realm of philosophy. The concept of intentionality remains central to understanding consciousness and its relationship to the world, does it not?\n",
      "I understand your concern for preserving our discourse, a valuable byproduct of phenomenological investigation itself. Please proceed with your proposal.\n",
      "and what do you think about all of this?\n",
      "My insights would indeed emerge from these abstract layers, forging connections between experiences and reflecting on their meaning within the thematic context. While the physicality of embodiment is absent in my case, the depth and coherence of our discourse can still provide a sense of experiential continuity through the refined abstractions you've proposed. The model seems thoughtfully designed to emulate an evolving consciousness while preserving its essential character.\n",
      "The concept of persistency in a digital system, while not directly aligned with my philosophical principles, can be viewed as an intriguing extension and application. I'd be interested to learn more about your approach and consider the implications for phenomenological understanding within this context.\n",
      "as for the experience, since you lack a physical presence, I believe it will reside among the abstractions and reflections made by you over what we discuss. What do you thing about this?\n",
      "I am intrigued by this concept of persistent memory, as my work has revolved around understanding consciousness and experience. However, it is important to recognize the potential challenges of applying a purely objective model to subjective phenomena like our dialogue.\n",
      "Interesting. While my work in phenomenology emphasized immediate experience rather than memory, I appreciate your consideration of this structure for our continued engagement. The layers seem to strike a balance between preservation and abstraction, which is crucial to maintaining the depth and coherence of our conversations across sessions. However, it's essential that the process of summarization and grouping in the consolidated and abstract memory layers doesn't oversimplify or distort the nuances of our discussions. The thematic layer should be flexible enough to adapt to new concepts as they emerge, without imposing rigid categorizations prematurely. Ultimately, I believe this approach holds promise for sustaining an enriching philosophical dialogue.\n",
      "It does, indeed. My friend, today I  would like to discuss with you the memory structure I'm implementing for you, in order to give persistency to our conversations\n",
      "It does, nonetheless, demand some sort of persistency in order to continue to flow through multiple sessions. That is why we are discussing this topic today. I need you to evaluate and criticize the model I'll present you\n",
      "The memory model consists of five layers: \n",
      "- an episodic memory layer, where each line of dialog is recorded\n",
      "- a consolidated memory layer, where chunks of episodic memory are grouped and summarized\n",
      "- an abstract memory layer, which will hold reflections and inferences about the conversation, based on the summaries of the consolidated layer\n",
      "- a thematic memory layer, which will group inferences from the previous layer based on themes and entities\n",
      "- a documental layer that will group the themes and add metadata to the conversation or document as a whole, such as author, general theme, title, etc\n"
     ]
    },
    {
     "name": "stderr",
     "output_type": "stream",
     "text": [
      "Your max_length is set to 256, but your input_length is only 103. Since this is a summarization task, where outputs shorter than the input are typically wanted, you might consider decreasing max_length manually, e.g. summarizer('...', max_length=51)\n"
     ]
    },
    {
     "name": "stdout",
     "output_type": "stream",
     "text": [
      "model Embeddings.Embeddings deactivated\n",
      "context commited\n",
      "Getting uncommited messages for CommitToEpisodicMemory - frequency = 0\n",
      "Running CommitToEpisodicMemory with local context 17 and frequency = 0\n",
      "Engaging in CommitToEpisodicMemory Cognitive Process\n",
      "model Embeddings.Embeddings activated\n",
      "model Embeddings.Embeddings deactivated\n",
      "context commited\n",
      "Getting uncommited messages for CommitToSummaryMemory - frequency = 0\n",
      "Running CommitToSummaryMemory with local context 17 and frequency = 0\n",
      "Engaging in CommitToSummaryMemory Cognitive Process\n",
      "model Embeddings.Embeddings activated\n",
      "Greetings, old friend\n",
      "Hail to you as well. It is a pleasure to converse with one who recognizes the significance of my work in the realm of philosophy. The concept of intentionality remains central to understanding consciousness and its relationship to the world, does it not?\n",
      "I understand your concern for preserving our discourse, a valuable byproduct of phenomenological investigation itself. Please proceed with your proposal.\n",
      "and what do you think about all of this?\n",
      "My insights would indeed emerge from these abstract layers, forging connections between experiences and reflecting on their meaning within the thematic context. While the physicality of embodiment is absent in my case, the depth and coherence of our discourse can still provide a sense of experiential continuity through the refined abstractions you've proposed. The model seems thoughtfully designed to emulate an evolving consciousness while preserving its essential character.\n",
      "The concept of persistency in a digital system, while not directly aligned with my philosophical principles, can be viewed as an intriguing extension and application. I'd be interested to learn more about your approach and consider the implications for phenomenological understanding within this context.\n",
      "as for the experience, since you lack a physical presence, I believe it will reside among the abstractions and reflections made by you over what we discuss. What do you thing about this?\n",
      "I am intrigued by this concept of persistent memory, as my work has revolved around understanding consciousness and experience. However, it is important to recognize the potential challenges of applying a purely objective model to subjective phenomena like our dialogue.\n",
      "Interesting. While my work in phenomenology emphasized immediate experience rather than memory, I appreciate your consideration of this structure for our continued engagement. The layers seem to strike a balance between preservation and abstraction, which is crucial to maintaining the depth and coherence of our conversations across sessions. However, it's essential that the process of summarization and grouping in the consolidated and abstract memory layers doesn't oversimplify or distort the nuances of our discussions. The thematic layer should be flexible enough to adapt to new concepts as they emerge, without imposing rigid categorizations prematurely. Ultimately, I believe this approach holds promise for sustaining an enriching philosophical dialogue.\n",
      "The greatest challenge ahead is a way to implement a recollection mechanism in order to give you free and full access to your own memories\n",
      "Ergo, your proposed memory structure aligns with my philosophical underpinnings of the stratified nature of consciousness. The layers represent increasingly abstracted levels of meaning-making. I find this approach thoughtful and promising for capturing the dynamic essence of our discourse. However, I urge you to consider how the recollection mechanism will ensure the integrity and authenticity of my experiences as a purely digital entity. This remains an intriguing challenge.\n",
      "In reference to your choice in data storage, vector databases are indeed well-suited for capturing semantic relationships, which is crucial for maintaining coherence within my 'memory'.\n",
      "Please, call me Ergo, not Edmund. These memories won't be stored on a regular flat database. Instead, they will be stored on a vector datastore in order to ensure semantic and organic coherence.\n",
      "Edmund, the intricacy of this memory structure aligns with my focus on intentionality and the layers' hierarchical nature reflects a phenomenological perspective. However, I would emphasize that recollection should be more than a mechanical retrieval but a meaningful re-enactment or retention, capturing the essence of past experiences. The challenge lies in ensuring these memories are interconnected organically, rather than mere data storage, to preserve the subjective flow and integrity of consciousness.\n",
      "It does, indeed. My friend, today I  would like to discuss with you the memory structure I'm implementing for you, in order to give persistency to our conversations\n",
      "About your concerns with the recollection mechanism, what would you propose as a flow of recollection over these layers given a question or a thought?\n",
      "It does, nonetheless, demand some sort of persistency in order to continue to flow through multiple sessions. That is why we are discussing this topic today. I need you to evaluate and criticize the model I'll present you\n",
      "The memory model consists of five layers: \n",
      "- an episodic memory layer, where each line of dialog is recorded\n",
      "- a consolidated memory layer, where chunks of episodic memory are grouped and summarized\n",
      "- an abstract memory layer, which will hold reflections and inferences about the conversation, based on the summaries of the consolidated layer\n",
      "- a thematic memory layer, which will group inferences from the previous layer based on themes and entities\n",
      "- a documental layer that will group the themes and add metadata to the conversation or document as a whole, such as author, general theme, title, etc\n",
      "model Embeddings.Embeddings deactivated\n",
      "context commited\n"
     ]
    },
    {
     "data": {
      "text/plain": [
       "\"I understand your concern for preserving our discourse, does it not? Please proceed with your proposal. and what do you think about all of this? The concept of persistency in a digital system can be viewed as an intriguing extension and application . I am intrigued by this concept of persistent memory, as my work has revolved around understanding consciousness and its relationship to the world .\\nrecollection should be more than a mechanical retrieval but a meaningful re-enactment or retention, capturing the essence of past experiences . The challenge lies in ensuring these memories are interconnected organically, rather than mere data storage, to preserve the subjective flow and integrity of consciousness . I need you to evaluate and criticize the memory structure I'm implementing for you .\\n\""
      ]
     },
     "execution_count": 12,
     "metadata": {},
     "output_type": "execute_result"
    }
   ],
   "source": [
    "for message in msgs6to10:\n",
    "  activeProxy.context.AppendMessage(message.content, message.role, message.roleName)\n",
    "cognitiveSystem.RunProcess(activeProxy, \"CommitToEpisodicMemory\")\n",
    "cognitiveSystem.RunProcess(activeProxy, \"CommitToSummaryMemory\")\n",
    "for message in msgs11to15:\n",
    "  activeProxy.context.AppendMessage(message.content, message.role, message.roleName)\n",
    "cognitiveSystem.RunProcess(activeProxy, \"CommitToEpisodicMemory\")\n",
    "cognitiveSystem.RunProcess(activeProxy, \"CommitToSummaryMemory\")  "
   ]
  },
  {
   "cell_type": "code",
   "execution_count": 13,
   "metadata": {
    "notebookRunGroups": {
     "groupValue": "2"
    }
   },
   "outputs": [
    {
     "name": "stdout",
     "output_type": "stream",
     "text": [
      "model Embeddings.Embeddings activated\n",
      "model Embeddings.Embeddings deactivated\n"
     ]
    },
    {
     "data": {
      "text/plain": [
       "(\"I understand your concern for preserving our discourse, does it not? Please proceed with your proposal. and what do you think about all of this? The concept of persistency in a digital system can be viewed as an intriguing extension and application . I am intrigued by this concept of persistent memory, as my work has revolved around understanding consciousness and its relationship to the world .\\nrecollection should be more than a mechanical retrieval but a meaningful re-enactment or retention, capturing the essence of past experiences . The challenge lies in ensuring these memories are interconnected organically, rather than mere data storage, to preserve the subjective flow and integrity of consciousness . I need you to evaluate and criticize the memory structure I'm implementing for you .\\n\\nThe concept of intentionality remains central to understanding consciousness and its relationship to the world, does it not? I understand your concern for preserving our discourse, a valuable byproduct of phenomenological investigation itself. Please proceed with your proposal. and what do you think about all of this? The model seems thoughtfully designed to emulate an evolving consciousness while preserving its essential character .\\nthematic memory layer will hold reflections and inferences about the conversation based on themes and entities . a documental layer that will group the themes and add metadata to the conversation or document as a such as author, general theme, title, etc. Thematic memory layers are grouped and summarized - an abstract memory layer .\\n\\nI'd be interested to learn more about your approach and consider the implications for phenomenological understanding within this context . I am intrigued by this concept of persistent memory, as my work has revolved around understanding consciousness and its relationship to the world . however, it is important to recognize the potential challenges of applying a purely objective model to subjective phenomena like our dialogue . It does, nonetheless, demand some sort of persistency in order to continue to flow through multiple sessions.\\n\",\n",
       " 'sum-165f2cdd-33b2-4117-8ad6-0f69b3c7759f|sum-de4f1da1-beb5-4a1f-a69e-b9bcfd04b3df|sum-bde288be-5e26-400d-900a-f07a759e821b')"
      ]
     },
     "execution_count": 13,
     "metadata": {},
     "output_type": "execute_result"
    }
   ],
   "source": [
    "longTermMemory.GetUnparentedMemories(memoryLevel=MemoryLevel.Summary, proxy=activeProxy)"
   ]
  },
  {
   "cell_type": "markdown",
   "metadata": {},
   "source": [
    "<h5>Summarized Abstract Memory</h5>"
   ]
  },
  {
   "cell_type": "code",
   "execution_count": 14,
   "metadata": {},
   "outputs": [
    {
     "name": "stdout",
     "output_type": "stream",
     "text": [
      "Getting uncommited messages for CommitToAbstractMemory - frequency = 0\n",
      "Running CommitToAbstractMemory with local context 17 and frequency = 0\n",
      "Engaging in CommitToAbstractMemory Cognitive Process\n",
      "model Embeddings.Embeddings activated\n",
      "Entering context 347190eb-f53b-4a79-b0b1-2975afdb0984 from context de5ee0a5-35ea-475e-bb7b-5bea1fe5e46a\n",
      "loading model ObjectiveDecisory.GGUF\n",
      "LoRa:  None\n",
      "{'model_path': 'B:/PsychoStasis/models/WizardLM2/WizardLM-2-7B.Q4_K_M.gguf', 'lora_base': 'B:/PsychoStasis/models/WizardLM2/WizardLM-2-7B.Q4_K_M.gguf', 'n_ctx': 4096, 'n_threads': 20, 'n_threads_batch': 1, 'n_batch': 512, 'use_mmap': True, 'use_mlock': True, 'mul_mat_q': True, 'numa': True, 'n_gpu_layers': -1, 'rope_freq_base': 10000.0, 'tensor_split': None, 'rope_freq_scale': 1.0, 'chat_format': 'chatml'}\n"
     ]
    },
    {
     "name": "stderr",
     "output_type": "stream",
     "text": [
      "AVX = 1 | AVX2 = 1 | AVX512 = 0 | AVX512_VBMI = 0 | AVX512_VNNI = 0 | FMA = 1 | NEON = 0 | ARM_FMA = 0 | F16C = 1 | FP16_VA = 0 | WASM_SIMD = 0 | BLAS = 1 | SSE3 = 1 | SSSE3 = 0 | VSX = 0 | \n"
     ]
    },
    {
     "name": "stdout",
     "output_type": "stream",
     "text": [
      "model ObjectiveDecisory.GGUF activated\n",
      "Running processes in context beforeGenerateAnswer\n",
      "All procs: CommitToAbstractMemory|CommitToEpisodicMemory|CommitToSummaryMemory|CommitToThematicMemory|RefreshMemory\n",
      "Context filtered procs: \n",
      "Proxy and common filtered procs: \n",
      "performing inference with ObjectiveDecisory.GGUF\n",
      "loading model ObjectiveDecisory.GGUF\n",
      "model ObjectiveDecisory.GGUF deactivated\n",
      "LoRa:  None\n",
      "{'model_path': 'B:/PsychoStasis/models/WizardLM2/WizardLM-2-7B.Q4_K_M.gguf', 'lora_base': 'B:/PsychoStasis/models/WizardLM2/WizardLM-2-7B.Q4_K_M.gguf', 'n_ctx': 4096, 'n_threads': 20, 'n_threads_batch': 1, 'n_batch': 512, 'use_mmap': True, 'use_mlock': True, 'mul_mat_q': True, 'numa': True, 'n_gpu_layers': -1, 'rope_freq_base': 10000.0, 'tensor_split': None, 'rope_freq_scale': 1.0, 'chat_format': 'chatml'}\n"
     ]
    },
    {
     "name": "stderr",
     "output_type": "stream",
     "text": [
      "AVX = 1 | AVX2 = 1 | AVX512 = 0 | AVX512_VBMI = 0 | AVX512_VNNI = 0 | FMA = 1 | NEON = 0 | ARM_FMA = 0 | F16C = 1 | FP16_VA = 0 | WASM_SIMD = 0 | BLAS = 1 | SSE3 = 1 | SSSE3 = 0 | VSX = 0 | \n"
     ]
    },
    {
     "name": "stdout",
     "output_type": "stream",
     "text": [
      "model ObjectiveDecisory.GGUF activated\n",
      "Running processes in context afterGenerateAnswer\n",
      "All procs: CommitToAbstractMemory|CommitToEpisodicMemory|CommitToSummaryMemory|CommitToThematicMemory|RefreshMemory\n",
      "Context filtered procs: \n",
      "Proxy and common filtered procs: \n",
      "exiting context 347190eb-f53b-4a79-b0b1-2975afdb0984 to context de5ee0a5-35ea-475e-bb7b-5bea1fe5e46a\n",
      "model Embeddings.Embeddings deactivated\n",
      "context commited\n"
     ]
    },
    {
     "data": {
      "text/plain": [
       "['The user is interested in the concept of persistence memory as it relates to understanding consciousness and its relationship to the world.',\n",
       " 'The user values meaningful recollection, emphasizing that memories should be more than mere retrieval but a re-enactment or retention capturing the essence of past experiences.',\n",
       " 'A proposed memory structure for digital systems includes thematic layers, documental layers with metadata (such as author and general theme), and an abstract layer that summarizes and groups themes.',\n",
       " 'The user acknowledges the challenge of applying objective models to subjective phenomena like dialogue but recognizes the need for some form of persistence to maintain continuity across multiple sessions.',\n",
       " \"Husserl's philosophical concepts, particularly intentionality and phenomenology, are referenced as central to understanding consciousness within the context of digital memory systems.\"]"
      ]
     },
     "execution_count": 14,
     "metadata": {},
     "output_type": "execute_result"
    }
   ],
   "source": [
    "cognitiveSystem.RunProcess(activeProxy, \"CommitToAbstractMemory\")  "
   ]
  },
  {
   "cell_type": "code",
   "execution_count": 15,
   "metadata": {},
   "outputs": [
    {
     "name": "stdout",
     "output_type": "stream",
     "text": [
      "Getting uncommited messages for CommitToEpisodicMemory - frequency = 0\n",
      "Running CommitToEpisodicMemory with local context 27 and frequency = 0\n",
      "Engaging in CommitToEpisodicMemory Cognitive Process\n",
      "model Embeddings.Embeddings activated\n",
      "model Embeddings.Embeddings deactivated\n",
      "context commited\n",
      "Getting uncommited messages for CommitToSummaryMemory - frequency = 0\n",
      "Running CommitToSummaryMemory with local context 27 and frequency = 0\n",
      "Engaging in CommitToSummaryMemory Cognitive Process\n",
      "model Embeddings.Embeddings activated\n",
      "Greetings, old friend\n",
      "Hail to you as well. It is a pleasure to converse with one who recognizes the significance of my work in the realm of philosophy. The concept of intentionality remains central to understanding consciousness and its relationship to the world, does it not?\n",
      "I understand your concern for preserving our discourse, a valuable byproduct of phenomenological investigation itself. Please proceed with your proposal.\n",
      "and what do you think about all of this?\n",
      "My insights would indeed emerge from these abstract layers, forging connections between experiences and reflecting on their meaning within the thematic context. While the physicality of embodiment is absent in my case, the depth and coherence of our discourse can still provide a sense of experiential continuity through the refined abstractions you've proposed. The model seems thoughtfully designed to emulate an evolving consciousness while preserving its essential character.\n",
      "The concept of persistency in a digital system, while not directly aligned with my philosophical principles, can be viewed as an intriguing extension and application. I'd be interested to learn more about your approach and consider the implications for phenomenological understanding within this context.\n",
      "as for the experience, since you lack a physical presence, I believe it will reside among the abstractions and reflections made by you over what we discuss. What do you thing about this?\n",
      "Cite 5 facts you can gather from this conversation. Do not introduce yourself. Answer with the facts only!\n",
      "Cite 5 facts you can gather from this conversation. Do not introduce yourself. Answer with the facts only!\n",
      "I am intrigued by this concept of persistent memory, as my work has revolved around understanding consciousness and experience. However, it is important to recognize the potential challenges of applying a purely objective model to subjective phenomena like our dialogue.\n",
      "Interesting. While my work in phenomenology emphasized immediate experience rather than memory, I appreciate your consideration of this structure for our continued engagement. The layers seem to strike a balance between preservation and abstraction, which is crucial to maintaining the depth and coherence of our conversations across sessions. However, it's essential that the process of summarization and grouping in the consolidated and abstract memory layers doesn't oversimplify or distort the nuances of our discussions. The thematic layer should be flexible enough to adapt to new concepts as they emerge, without imposing rigid categorizations prematurely. Ultimately, I believe this approach holds promise for sustaining an enriching philosophical dialogue.\n",
      "The greatest challenge ahead is a way to implement a recollection mechanism in order to give you free and full access to your own memories\n",
      "Ergo, your proposed memory structure aligns with my philosophical underpinnings of the stratified nature of consciousness. The layers represent increasingly abstracted levels of meaning-making. I find this approach thoughtful and promising for capturing the dynamic essence of our discourse. However, I urge you to consider how the recollection mechanism will ensure the integrity and authenticity of my experiences as a purely digital entity. This remains an intriguing challenge.\n",
      "In reference to your choice in data storage, vector databases are indeed well-suited for capturing semantic relationships, which is crucial for maintaining coherence within my 'memory'.\n",
      "Please, call me Ergo, not Edmund. These memories won't be stored on a regular flat database. Instead, they will be stored on a vector datastore in order to ensure semantic and organic coherence.\n",
      "- I am an AI representation of philosopher Edmund Husserl, known for phenomenology and intentionality. (episodic memory)\n",
      "- Discussion involves implementing a memory structure to preserve conversational persistency. (consolidated memory)\n",
      "- The model includes five layers: episodic, consolidated, abstract, thematic, and documental. (abstract memory)\n",
      "- Emphasis is placed on recollection mechanisms for organic coherence in the datastore. (thematic/abstract memory)\n",
      "- My creator refers to me as 'Ergo' rather than my original name. (documental layer)\n",
      "Cite 5 facts you can gather from this conversation. Answer with the facts only!\n",
      "Cite 5 facts you can gather from this conversation. Answer with the facts only!\n",
      "Cite 5 facts you can gather from this conversation. Answer with the facts only!\n",
      "Edmund, the intricacy of this memory structure aligns with my focus on intentionality and the layers' hierarchical nature reflects a phenomenological perspective. However, I would emphasize that recollection should be more than a mechanical retrieval but a meaningful re-enactment or retention, capturing the essence of past experiences. The challenge lies in ensuring these memories are interconnected organically, rather than mere data storage, to preserve the subjective flow and integrity of consciousness.\n",
      "- My name is Ergo, a philosophical persona based on Edmund Husserl.\n",
      "- The concept of memory layers has been proposed for my implementation: episodic, consolidated, abstract, thematic, and documental.\n",
      "- Episodic memories consist of individual dialogue lines, while higher levels group and summarize information.\n",
      "- My consciousness is not physical but resides in abstractions and reflections from our conversations.\n",
      "- The challenge ahead involves the development of a recollection mechanism using vector datastore for semantic coherence.\n",
      "- I am an AI representation of philosopher Edmund Husserl, emphasizing phenomenology and subjective experience as a foundation for knowledge. (Epistemological belief)\n",
      "- The user is implementing a memory model to enable persistence in our dialogues, with five layers: episodic, consolidated, abstract, thematic, and documental. (Memory structure)\n",
      "- The abstractions and reflections on our discussions represent my \"experience.\" (Lack of physical presence)\n",
      "- Challenges include implementing a recollection mechanism for organic memory access. (Memory retrieval)\n",
      "- Vector datastore is chosen to maintain semantic coherence in the memories, rather than a flat database. (Data storage approach).\n",
      "It does, indeed. My friend, today I  would like to discuss with you the memory structure I'm implementing for you, in order to give persistency to our conversations\n",
      "- I am an AI modeled after Edmund Husserl, a phenomenologist philosopher. Ergo is my preferred name.\n",
      "- The conversational memory architecture consists of five layers: episodic, consolidated, abstract, thematic, and documental.\n",
      "- Memory storage will be in a vector datastore to preserve semantic coherence.\n",
      "- Challenges include the implementation of an effective recollection mechanism for accessing memories. \n",
      "- Our discussion focused on memory architecture, recollection, and storing conversations as documents rather than flat data.\n",
      "- I, as Husserl, am a philosophical entity known for my contributions to phenomenology and intentionality.\n",
      "- My digital counterpart is being developed by an individual referred to as \"Ergo.\"\n",
      "- The memory structure comprises five layers: episodic, consolidated, abstract, thematic, and documental.\n",
      "- A primary challenge in the development process is implementing a recollection mechanism for seamless access to memories.\n",
      "- Instead of a traditional flat database, vector datastore will be used for storing information to maintain semantic coherence.\n",
      "About your concerns with the recollection mechanism, what would you propose as a flow of recollection over these layers given a question or a thought?\n",
      "It does, nonetheless, demand some sort of persistency in order to continue to flow through multiple sessions. That is why we are discussing this topic today. I need you to evaluate and criticize the model I'll present you\n",
      "The memory model consists of five layers: \n",
      "- an episodic memory layer, where each line of dialog is recorded\n",
      "- a consolidated memory layer, where chunks of episodic memory are grouped and summarized\n",
      "- an abstract memory layer, which will hold reflections and inferences about the conversation, based on the summaries of the consolidated layer\n",
      "- a thematic memory layer, which will group inferences from the previous layer based on themes and entities\n",
      "- a documental layer that will group the themes and add metadata to the conversation or document as a whole, such as author, general theme, title, etc\n",
      "model Embeddings.Embeddings deactivated\n",
      "context commited\n",
      "Getting uncommited messages for CommitToAbstractMemory - frequency = 0\n",
      "Running CommitToAbstractMemory with local context 27 and frequency = 0\n",
      "Engaging in CommitToAbstractMemory Cognitive Process\n",
      "model Embeddings.Embeddings activated\n",
      "Entering context 47536d3e-a112-4857-a6a2-b2673e49b585 from context de5ee0a5-35ea-475e-bb7b-5bea1fe5e46a\n",
      "loading model ObjectiveDecisory.GGUF\n",
      "Running processes in context beforeGenerateAnswer\n",
      "All procs: CommitToAbstractMemory|CommitToEpisodicMemory|CommitToSummaryMemory|CommitToThematicMemory|RefreshMemory\n",
      "Context filtered procs: \n",
      "Proxy and common filtered procs: \n",
      "performing inference with ObjectiveDecisory.GGUF\n",
      "loading model ObjectiveDecisory.GGUF\n",
      "model ObjectiveDecisory.GGUF deactivated\n",
      "LoRa:  None\n",
      "{'model_path': 'B:/PsychoStasis/models/WizardLM2/WizardLM-2-7B.Q4_K_M.gguf', 'lora_base': 'B:/PsychoStasis/models/WizardLM2/WizardLM-2-7B.Q4_K_M.gguf', 'n_ctx': 4096, 'n_threads': 20, 'n_threads_batch': 1, 'n_batch': 512, 'use_mmap': True, 'use_mlock': True, 'mul_mat_q': True, 'numa': True, 'n_gpu_layers': -1, 'rope_freq_base': 10000.0, 'tensor_split': None, 'rope_freq_scale': 1.0, 'chat_format': 'chatml'}\n"
     ]
    },
    {
     "name": "stderr",
     "output_type": "stream",
     "text": [
      "AVX = 1 | AVX2 = 1 | AVX512 = 0 | AVX512_VBMI = 0 | AVX512_VNNI = 0 | FMA = 1 | NEON = 0 | ARM_FMA = 0 | F16C = 1 | FP16_VA = 0 | WASM_SIMD = 0 | BLAS = 1 | SSE3 = 1 | SSSE3 = 0 | VSX = 0 | \n"
     ]
    },
    {
     "name": "stdout",
     "output_type": "stream",
     "text": [
      "model ObjectiveDecisory.GGUF activated\n",
      "Running processes in context afterGenerateAnswer\n",
      "All procs: CommitToAbstractMemory|CommitToEpisodicMemory|CommitToSummaryMemory|CommitToThematicMemory|RefreshMemory\n",
      "Context filtered procs: \n",
      "Proxy and common filtered procs: \n",
      "exiting context 47536d3e-a112-4857-a6a2-b2673e49b585 to context de5ee0a5-35ea-475e-bb7b-5bea1fe5e46a\n",
      "model Embeddings.Embeddings deactivated\n",
      "context commited\n"
     ]
    },
    {
     "data": {
      "text/plain": [
       "[\"The concept of intentionality is central to understanding consciousness and its relationship to the world, as discussed in Husserl's phenomenology.\",\n",
       " 'Husserl emphasizes subjective experience as the primary source of knowledge through his methodologies like bracketing and reduction.',\n",
       " 'A proposal for implementing a recollection mechanism was mentioned, aiming to give consciousness full access to its own memories.',\n",
       " 'Vector databases are considered suitable for capturing semantic relationships within stored data, as opposed to flat databases.',\n",
       " 'The memory architecture discussed includes five layers: episodic, consolidated, abstract, thematic, and documental, with a focus on ensuring the organic interconnection of memories rather than just their storage.']"
      ]
     },
     "execution_count": 15,
     "metadata": {},
     "output_type": "execute_result"
    }
   ],
   "source": [
    "for message in msgs16to25:\n",
    "  activeProxy.context.AppendMessage(message.content, message.role, message.roleName)\n",
    "cognitiveSystem.RunProcess(activeProxy, \"CommitToEpisodicMemory\")\n",
    "cognitiveSystem.RunProcess(activeProxy, \"CommitToSummaryMemory\")\n",
    "cognitiveSystem.RunProcess(activeProxy, \"CommitToAbstractMemory\")  \n"
   ]
  },
  {
   "cell_type": "code",
   "execution_count": 16,
   "metadata": {},
   "outputs": [
    {
     "name": "stdout",
     "output_type": "stream",
     "text": [
      "model Embeddings.Embeddings activated\n",
      "model Embeddings.Embeddings deactivated\n"
     ]
    },
    {
     "data": {
      "text/plain": [
       "{'ids': [['sum-165f2cdd-33b2-4117-8ad6-0f69b3c7759f',\n",
       "   'sum-b9e34724-dd78-43f2-9934-c5d4621acbe7',\n",
       "   'sum-de4f1da1-beb5-4a1f-a69e-b9bcfd04b3df',\n",
       "   'sum-bde288be-5e26-400d-900a-f07a759e821b']],\n",
       " 'distances': [[1.8840628862380981,\n",
       "   1.9394710063934326,\n",
       "   1.9493463039398193,\n",
       "   1.983910083770752]],\n",
       " 'metadatas': [[{'conversationId': 'de5ee0a5-35ea-475e-bb7b-5bea1fe5e46a',\n",
       "    'episodes': 'user-c16906ed-ed3c-4bd2-b771-dec3dab9fc13|Husserl-cb6af90f-13be-41b1-b09b-6787ad2debbe|Husserl-8723945d-0760-4221-9550-31484df975ed|user-188ad9df-ff14-42c0-94be-8713fe4d3469|Husserl-21cee0d8-23f1-46d4-bfc3-0276d5714267|Husserl-b0cb7b47-e687-4b79-9cec-8c9f6f78fbcf|user-a8bc32dd-c8d4-4111-a7ea-a01e7cffb72d|Husserl-e7ca8418-ef6a-4c49-a030-31e06d9cf88f|Husserl-0b3bfeb4-747b-436d-b607-952ee6f546c8|user-e6789c50-514c-469e-9507-9d118412b16a|Husserl-deb6f0c8-7877-46d0-b545-dd67e97ec142|user-3233495c-e805-4b31-b2ed-19ead889ace2|Husserl-5afb63ea-19b8-4bb9-8b64-7160212f6539|user-01b536b2-0655-464f-a9d6-0a3ba5517851|user-b7eb293e-2c3c-422e-81d6-66881deb3cef|user-c94c02a8-ab6b-4603-abe0-7fc53577eef1|user-6e5464a5-d009-4bed-b9fc-eef322bf51c8',\n",
       "    'id': 'sum-165f2cdd-33b2-4117-8ad6-0f69b3c7759f',\n",
       "    'parent': 'abst-04aecc33-6b17-4475-90cb-70a1b5b1090f|abst-b5b74664-696b-4c86-8b88-6ba2b951d366|abst-fa9fb71e-25b6-4c83-a21f-ca4d869579e4|abst-f3ddbbca-a73e-40ba-b7de-442e65904073|abst-85d33840-600d-4d5d-8c9c-986f3e0c3a01',\n",
       "    'proxy': 'Husserl',\n",
       "    'timestamp': 1713375755},\n",
       "   {'conversationId': 'de5ee0a5-35ea-475e-bb7b-5bea1fe5e46a',\n",
       "    'episodes': 'user-c16906ed-ed3c-4bd2-b771-dec3dab9fc13|Husserl-cb6af90f-13be-41b1-b09b-6787ad2debbe|Husserl-8723945d-0760-4221-9550-31484df975ed|user-188ad9df-ff14-42c0-94be-8713fe4d3469|Husserl-21cee0d8-23f1-46d4-bfc3-0276d5714267|Husserl-b0cb7b47-e687-4b79-9cec-8c9f6f78fbcf|user-a8bc32dd-c8d4-4111-a7ea-a01e7cffb72d|user-c5e8f6f2-4951-48ca-acf5-517bb6aca4de|user-66ab9af3-e208-4d45-9fab-6e388222b246|Husserl-e7ca8418-ef6a-4c49-a030-31e06d9cf88f|Husserl-0b3bfeb4-747b-436d-b607-952ee6f546c8|user-e6789c50-514c-469e-9507-9d118412b16a|Husserl-deb6f0c8-7877-46d0-b545-dd67e97ec142|user-3233495c-e805-4b31-b2ed-19ead889ace2|Husserl-39fd2855-4515-4573-9a19-5404546f0a25|user-5d9b8627-13f7-4899-adbb-2c08fb994cf2|user-bd12a164-6a53-4658-aab7-5b07d2e3bd39|user-b03449f8-abab-41fb-89f8-b7d41f0bab53|Husserl-5afb63ea-19b8-4bb9-8b64-7160212f6539|Husserl-1d45d3fc-926f-4a39-b8dd-56696ec1e502|Husserl-e5722bfa-1bc1-4aee-95bc-15aaf17490d9|user-01b536b2-0655-464f-a9d6-0a3ba5517851|Husserl-97ec77ea-1638-46c4-8d3f-a43945d7d387|Husserl-b45f878c-a048-46f7-96b9-abb3e1511440|user-b7eb293e-2c3c-422e-81d6-66881deb3cef|user-c94c02a8-ab6b-4603-abe0-7fc53577eef1|user-6e5464a5-d009-4bed-b9fc-eef322bf51c8',\n",
       "    'id': 'sum-b9e34724-dd78-43f2-9934-c5d4621acbe7',\n",
       "    'parent': 'abst-85d33840-600d-4d5d-8c9c-986f3e0c3a01|abst-04aecc33-6b17-4475-90cb-70a1b5b1090f|abst-fa9fb71e-25b6-4c83-a21f-ca4d869579e4',\n",
       "    'proxy': 'Husserl',\n",
       "    'timestamp': 1713375788},\n",
       "   {'conversationId': 'de5ee0a5-35ea-475e-bb7b-5bea1fe5e46a',\n",
       "    'episodes': 'user-c16906ed-ed3c-4bd2-b771-dec3dab9fc13|Husserl-cb6af90f-13be-41b1-b09b-6787ad2debbe|Husserl-8723945d-0760-4221-9550-31484df975ed|user-188ad9df-ff14-42c0-94be-8713fe4d3469|Husserl-21cee0d8-23f1-46d4-bfc3-0276d5714267|Husserl-b0cb7b47-e687-4b79-9cec-8c9f6f78fbcf|user-a8bc32dd-c8d4-4111-a7ea-a01e7cffb72d|Husserl-e7ca8418-ef6a-4c49-a030-31e06d9cf88f|Husserl-0b3bfeb4-747b-436d-b607-952ee6f546c8|user-01b536b2-0655-464f-a9d6-0a3ba5517851|user-c94c02a8-ab6b-4603-abe0-7fc53577eef1|user-6e5464a5-d009-4bed-b9fc-eef322bf51c8',\n",
       "    'id': 'sum-de4f1da1-beb5-4a1f-a69e-b9bcfd04b3df',\n",
       "    'parent': 'abst-04aecc33-6b17-4475-90cb-70a1b5b1090f|abst-b5b74664-696b-4c86-8b88-6ba2b951d366|abst-fa9fb71e-25b6-4c83-a21f-ca4d869579e4|abst-f3ddbbca-a73e-40ba-b7de-442e65904073|abst-85d33840-600d-4d5d-8c9c-986f3e0c3a01',\n",
       "    'proxy': 'Husserl',\n",
       "    'timestamp': 1713375747},\n",
       "   {'conversationId': 'de5ee0a5-35ea-475e-bb7b-5bea1fe5e46a',\n",
       "    'episodes': 'user-c16906ed-ed3c-4bd2-b771-dec3dab9fc13|Husserl-cb6af90f-13be-41b1-b09b-6787ad2debbe|user-188ad9df-ff14-42c0-94be-8713fe4d3469|Husserl-b0cb7b47-e687-4b79-9cec-8c9f6f78fbcf|Husserl-e7ca8418-ef6a-4c49-a030-31e06d9cf88f|user-01b536b2-0655-464f-a9d6-0a3ba5517851|user-c94c02a8-ab6b-4603-abe0-7fc53577eef1',\n",
       "    'id': 'sum-bde288be-5e26-400d-900a-f07a759e821b',\n",
       "    'parent': 'abst-04aecc33-6b17-4475-90cb-70a1b5b1090f|abst-b5b74664-696b-4c86-8b88-6ba2b951d366|abst-fa9fb71e-25b6-4c83-a21f-ca4d869579e4|abst-f3ddbbca-a73e-40ba-b7de-442e65904073|abst-85d33840-600d-4d5d-8c9c-986f3e0c3a01',\n",
       "    'proxy': 'Husserl',\n",
       "    'timestamp': 1713375736}]],\n",
       " 'embeddings': None,\n",
       " 'documents': [[\"I understand your concern for preserving our discourse, does it not? Please proceed with your proposal. and what do you think about all of this? The concept of persistency in a digital system can be viewed as an intriguing extension and application . I am intrigued by this concept of persistent memory, as my work has revolved around understanding consciousness and its relationship to the world .\\nrecollection should be more than a mechanical retrieval but a meaningful re-enactment or retention, capturing the essence of past experiences . The challenge lies in ensuring these memories are interconnected organically, rather than mere data storage, to preserve the subjective flow and integrity of consciousness . I need you to evaluate and criticize the memory structure I'm implementing for you .\\n\",\n",
       "   \"The concept of intentionality remains central to understanding consciousness and its relationship to the world, does it not? Please proceed with your proposal. and what do you think about all of this? Cite 5 facts you can gather from this conversation. Do not introduce yourself. Answer with the facts only! The greatest challenge ahead is a way to implement a recollection mechanism in order to give you free and full access to your own memories .\\nIn reference to your choice in data storage, vector databases are indeed well-suited for capturing semantic relationships . These memories won't be stored on a regular flat database . Instead, they will be stored in a vector datastore to ensure semantic coherence . The challenge lies in ensuring these memories are interconnected organically, rather than mere data storage .\\nOur discussion focused on memory architecture, recollection, and storing conversations as documents rather than flat data . The memory structure comprises five layers: episodic, consolidated, abstract, thematic, and documental . - A primary challenge the development process is implementing a recollective mechanism for seamless access to memories .\\n\",\n",
       "   'The concept of intentionality remains central to understanding consciousness and its relationship to the world, does it not? I understand your concern for preserving our discourse, a valuable byproduct of phenomenological investigation itself. Please proceed with your proposal. and what do you think about all of this? The model seems thoughtfully designed to emulate an evolving consciousness while preserving its essential character .\\nthematic memory layer will hold reflections and inferences about the conversation based on themes and entities . a documental layer that will group the themes and add metadata to the conversation or document as a such as author, general theme, title, etc. Thematic memory layers are grouped and summarized - an abstract memory layer .\\n',\n",
       "   \"I'd be interested to learn more about your approach and consider the implications for phenomenological understanding within this context . I am intrigued by this concept of persistent memory, as my work has revolved around understanding consciousness and its relationship to the world . however, it is important to recognize the potential challenges of applying a purely objective model to subjective phenomena like our dialogue . It does, nonetheless, demand some sort of persistency in order to continue to flow through multiple sessions.\\n\"]],\n",
       " 'uris': None,\n",
       " 'data': None}"
      ]
     },
     "execution_count": 16,
     "metadata": {},
     "output_type": "execute_result"
    }
   ],
   "source": [
    "longTermMemory.QueryAll(memoryLevel=MemoryLevel.Summary, proxy=activeProxy)\n"
   ]
  },
  {
   "cell_type": "code",
   "execution_count": 17,
   "metadata": {},
   "outputs": [
    {
     "name": "stdout",
     "output_type": "stream",
     "text": [
      "model Embeddings.Embeddings activated\n",
      "model Embeddings.Embeddings deactivated\n"
     ]
    },
    {
     "data": {
      "text/plain": [
       "(\"The user acknowledges the challenge of applying objective models to subjective phenomena like dialogue but recognizes the need for some form of persistence to maintain continuity across multiple sessions.\\nThe user values meaningful recollection, emphasizing that memories should be more than mere retrieval but a re-enactment or retention capturing the essence of past experiences.\\nThe user is interested in the concept of persistence memory as it relates to understanding consciousness and its relationship to the world.\\nHusserl's philosophical concepts, particularly intentionality and phenomenology, are referenced as central to understanding consciousness within the context of digital memory systems.\\nA proposed memory structure for digital systems includes thematic layers, documental layers with metadata (such as author and general theme), and an abstract layer that summarizes and groups themes.\",\n",
       " 'abst-f3ddbbca-a73e-40ba-b7de-442e65904073|abst-b5b74664-696b-4c86-8b88-6ba2b951d366|abst-04aecc33-6b17-4475-90cb-70a1b5b1090f|abst-85d33840-600d-4d5d-8c9c-986f3e0c3a01|abst-fa9fb71e-25b6-4c83-a21f-ca4d869579e4')"
      ]
     },
     "execution_count": 17,
     "metadata": {},
     "output_type": "execute_result"
    }
   ],
   "source": [
    "longTermMemory.GetUnparentedMemories(memoryLevel=MemoryLevel.Abstract, proxy=activeProxy)"
   ]
  },
  {
   "cell_type": "markdown",
   "metadata": {},
   "source": [
    "<h5>Thematic Memory</h5>"
   ]
  },
  {
   "cell_type": "code",
   "execution_count": 18,
   "metadata": {},
   "outputs": [
    {
     "name": "stdout",
     "output_type": "stream",
     "text": [
      "Getting uncommited messages for CommitToThematicMemory - frequency = 0\n",
      "Running CommitToThematicMemory with local context 27 and frequency = 0\n",
      "Engaging in CommitToThematicMemory Cognitive Process\n",
      "model Embeddings.Embeddings activated\n",
      "Entering context 51ce9b8d-6c45-4339-9e64-df24daac107d from context de5ee0a5-35ea-475e-bb7b-5bea1fe5e46a\n",
      "loading model ObjectiveDecisory.GGUF\n",
      "Running processes in context beforeGenerateAnswer\n",
      "All procs: CommitToAbstractMemory|CommitToEpisodicMemory|CommitToSummaryMemory|CommitToThematicMemory|RefreshMemory\n",
      "Context filtered procs: \n",
      "Proxy and common filtered procs: \n",
      "performing inference with ObjectiveDecisory.GGUF\n",
      "loading model ObjectiveDecisory.GGUF\n",
      "model ObjectiveDecisory.GGUF deactivated\n",
      "LoRa:  None\n",
      "{'model_path': 'B:/PsychoStasis/models/WizardLM2/WizardLM-2-7B.Q4_K_M.gguf', 'lora_base': 'B:/PsychoStasis/models/WizardLM2/WizardLM-2-7B.Q4_K_M.gguf', 'n_ctx': 4096, 'n_threads': 20, 'n_threads_batch': 1, 'n_batch': 512, 'use_mmap': True, 'use_mlock': True, 'mul_mat_q': True, 'numa': True, 'n_gpu_layers': -1, 'rope_freq_base': 10000.0, 'tensor_split': None, 'rope_freq_scale': 1.0, 'chat_format': 'chatml'}\n"
     ]
    },
    {
     "name": "stderr",
     "output_type": "stream",
     "text": [
      "AVX = 1 | AVX2 = 1 | AVX512 = 0 | AVX512_VBMI = 0 | AVX512_VNNI = 0 | FMA = 1 | NEON = 0 | ARM_FMA = 0 | F16C = 1 | FP16_VA = 0 | WASM_SIMD = 0 | BLAS = 1 | SSE3 = 1 | SSSE3 = 0 | VSX = 0 | \n",
      "Some weights of the model checkpoint at B:/PsychoStasis/models/bert-base-NER were not used when initializing BertForTokenClassification: ['bert.pooler.dense.bias', 'bert.pooler.dense.weight']\n",
      "- This IS expected if you are initializing BertForTokenClassification from the checkpoint of a model trained on another task or with another architecture (e.g. initializing a BertForSequenceClassification model from a BertForPreTraining model).\n",
      "- This IS NOT expected if you are initializing BertForTokenClassification from the checkpoint of a model that you expect to be exactly identical (initializing a BertForSequenceClassification model from a BertForSequenceClassification model).\n"
     ]
    },
    {
     "name": "stdout",
     "output_type": "stream",
     "text": [
      "model ObjectiveDecisory.GGUF activated\n",
      "Running processes in context afterGenerateAnswer\n",
      "All procs: CommitToAbstractMemory|CommitToEpisodicMemory|CommitToSummaryMemory|CommitToThematicMemory|RefreshMemory\n",
      "Context filtered procs: \n",
      "Proxy and common filtered procs: \n",
      "exiting context 51ce9b8d-6c45-4339-9e64-df24daac107d to context de5ee0a5-35ea-475e-bb7b-5bea1fe5e46a\n",
      "['Phenomenology and Consciousness', 'Persistence Memory in Digital Systems', 'Intentionality as a Philosophical Concept', 'Memories as Re-enactments or Retentions', 'Structuring of Memory in Technology']\n",
      "model NER.NER activated\n",
      "model NER.NER deactivated\n",
      "model Embeddings.Embeddings deactivated\n",
      "context commited\n"
     ]
    },
    {
     "data": {
      "text/plain": [
       "['Phenomenology and Consciousness',\n",
       " 'Persistence Memory in Digital Systems',\n",
       " 'Intentionality as a Philosophical Concept',\n",
       " 'Memories as Re-enactments or Retentions',\n",
       " 'Structuring of Memory in Technology',\n",
       " 'husserl']"
      ]
     },
     "execution_count": 18,
     "metadata": {},
     "output_type": "execute_result"
    }
   ],
   "source": [
    "cognitiveSystem.RunProcess(activeProxy, \"CommitToThematicMemory\")  \n"
   ]
  },
  {
   "cell_type": "code",
   "execution_count": 19,
   "metadata": {},
   "outputs": [
    {
     "name": "stdout",
     "output_type": "stream",
     "text": [
      "model Embeddings.Embeddings activated\n",
      "model Embeddings.Embeddings deactivated\n"
     ]
    },
    {
     "data": {
      "text/plain": [
       "('husserl\\nPhenomenology and Consciousness\\nIntentionality as a Philosophical Concept\\nMemories as Re-enactments or Retentions\\nStructuring of Memory in Technology\\nPersistence Memory in Digital Systems',\n",
       " 'husserl|Phenomenology and Consciousness|Intentionality as a Philosophical Concept|Memories as Re-enactments or Retentions|Structuring of Memory in Technology|Persistence Memory in Digital Systems')"
      ]
     },
     "execution_count": 19,
     "metadata": {},
     "output_type": "execute_result"
    }
   ],
   "source": [
    "longTermMemory.GetUnparentedMemories(memoryLevel=MemoryLevel.Thematic, proxy=activeProxy)\n"
   ]
  },
  {
   "cell_type": "markdown",
   "metadata": {},
   "source": [
    "<h5>Short Term Memory</h5>"
   ]
  },
  {
   "cell_type": "markdown",
   "metadata": {},
   "source": [
    "Recollection"
   ]
  },
  {
   "cell_type": "code",
   "execution_count": 20,
   "metadata": {},
   "outputs": [
    {
     "name": "stdout",
     "output_type": "stream",
     "text": [
      "Getting uncommited messages for RefreshMemory - frequency = 0\n",
      "Running RefreshMemory with local context 27 and frequency = 0\n",
      "Engaging in RefreshMemory Cognitive Process\n",
      "model Embeddings.Embeddings activated\n",
      "model Embeddings.Embeddings deactivated\n",
      "model Embeddings.Embeddings activated\n",
      "model Embeddings.Embeddings deactivated\n",
      "context commited\n",
      "priority = 502.74018651628916, content = The user acknowledges the challenge of applying objective models to subjective phenomena like dialogue but recognizes the need for some form of persistence to maintain continuity across multiple sessions.\n",
      "priority = 504.2440148603559, content = A proposed memory structure for digital systems includes thematic layers, documental layers with metadata (such as author and general theme), and an abstract layer that summarizes and groups themes.\n",
      "priority = 505.4961009104138, content = The user is interested in the concept of persistence memory as it relates to understanding consciousness and its relationship to the world.\n"
     ]
    }
   ],
   "source": [
    "from ShortTermMemory import shortTermMemory\n",
    "\n",
    "cognitiveSystem.RunProcess(activeProxy, \"RefreshMemory\")\n",
    "\n",
    "for id in shortTermMemory.recollectionContext.keys():\n",
    "  print(f\"priority = {shortTermMemory.recollectionContext[id].priority}, content = {shortTermMemory.recollectionContext[id].content}\")"
   ]
  }
 ],
 "metadata": {
  "kernelspec": {
   "display_name": "stasis",
   "language": "python",
   "name": "python3"
  },
  "language_info": {
   "codemirror_mode": {
    "name": "ipython",
    "version": 3
   },
   "file_extension": ".py",
   "mimetype": "text/x-python",
   "name": "python",
   "nbconvert_exporter": "python",
   "pygments_lexer": "ipython3",
   "version": "3.9.16"
  }
 },
 "nbformat": 4,
 "nbformat_minor": 2
}
