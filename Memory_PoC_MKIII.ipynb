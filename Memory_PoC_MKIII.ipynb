{
 "cells": [
  {
   "cell_type": "code",
   "execution_count": 1,
   "metadata": {
    "notebookRunGroups": {
     "groupValue": "1"
    }
   },
   "outputs": [
    {
     "name": "stdout",
     "output_type": "stream",
     "text": [
      "loading model Embeddings.Embeddings\n",
      "model configured\n",
      "loading model Summarizer.Summarizer\n",
      "model configured\n",
      "loading model NER.NER\n",
      "model configured\n",
      "loading model SentimentNuanced.Sentiment\n",
      "model configured\n",
      "loading model SentimentDiscreet.Sentiment\n",
      "model configured\n"
     ]
    }
   ],
   "source": [
    "from Proxy import Proxy\n",
    "from CognitiveSystem import cognitiveSystem\n",
    "from LongTermMemory import longTermMemory\n",
    "\n",
    "activeProxy : Proxy= Proxy(\"Husserl\")\n"
   ]
  },
  {
   "cell_type": "code",
   "execution_count": 2,
   "metadata": {
    "notebookRunGroups": {
     "groupValue": ""
    }
   },
   "outputs": [
    {
     "name": "stdout",
     "output_type": "stream",
     "text": [
      "27\n",
      "<Proxy.Proxy object at 0x000002A055983A00>\n"
     ]
    }
   ],
   "source": [
    "print(len(activeProxy.context.messageHistory))\n",
    "print(activeProxy.context.proxy)"
   ]
  },
  {
   "cell_type": "code",
   "execution_count": 3,
   "metadata": {
    "notebookRunGroups": {
     "groupValue": ""
    }
   },
   "outputs": [],
   "source": [
    "import os\n",
    "import shelve\n",
    "\n",
    "cwd = os.getcwd()\n",
    "\n",
    "memoryPath = os.path.join(cwd, 'Temp\\\\contexts.shelve')\n",
    "#with shelve.open(str(memoryPath)) as memory:\n",
    "  #memory['Husserl'] = activeProxy.context\n",
    "  \n"
   ]
  },
  {
   "cell_type": "code",
   "execution_count": 4,
   "metadata": {
    "notebookRunGroups": {
     "groupValue": ""
    }
   },
   "outputs": [
    {
     "name": "stdout",
     "output_type": "stream",
     "text": [
      "67\n"
     ]
    }
   ],
   "source": [
    "from Context import Context\n",
    "\n",
    "with shelve.open(str(memoryPath)) as memory:\n",
    "  workContext = memory.get('Husserl', Context(activeProxy))\n",
    "\n",
    "workContext.proxy=activeProxy\n",
    "print(len(workContext.messageHistory))\n"
   ]
  },
  {
   "cell_type": "code",
   "execution_count": 5,
   "metadata": {
    "notebookRunGroups": {
     "groupValue": ""
    }
   },
   "outputs": [
    {
     "name": "stdout",
     "output_type": "stream",
     "text": [
      "context commited\n",
      "loading model CBG\n",
      "model configured\n",
      "LoRa:  None\n",
      "{'model_path': 'B:/PsychoStasis/Training/carbonbeagle-11b-truthy.Q8_0.gguf', 'lora_base': 'B:/PsychoStasis/Training/carbonbeagle-11b-truthy.Q8_0.gguf', 'n_ctx': 4096, 'n_threads': 20, 'n_threads_batch': 1, 'n_batch': 512, 'use_mmap': True, 'use_mlock': True, 'mul_mat_q': True, 'numa': True, 'n_gpu_layers': -1, 'rope_freq_base': 10000.0, 'tensor_split': None, 'rope_freq_scale': 1.0, 'chat_format': 'chatml'}\n",
      "model CBG activated\n",
      "5\n"
     ]
    },
    {
     "name": "stderr",
     "output_type": "stream",
     "text": [
      "AVX = 1 | AVX2 = 1 | AVX512 = 0 | AVX512_VBMI = 0 | AVX512_VNNI = 0 | FMA = 1 | NEON = 0 | ARM_FMA = 0 | F16C = 1 | FP16_VA = 0 | WASM_SIMD = 0 | BLAS = 1 | SSE3 = 1 | SSSE3 = 0 | VSX = 0 | \n"
     ]
    }
   ],
   "source": [
    "activeProxy.clearContext()\n",
    "for message in workContext.messageHistory:\n",
    "  message.commitedProcesses = []\n",
    "\n",
    "msgs1to5 = workContext.messageHistory[0:5]\n",
    "msgs6to10 = workContext.messageHistory[5:10]\n",
    "msgs11to15 = workContext.messageHistory[10:15]\n",
    "msgs16to25 = workContext.messageHistory[15:25]\n",
    "\n",
    "\n",
    "for message in msgs1to5:\n",
    "  activeProxy.context.AppendMessage(message.content, message.role, message.roleName)\n",
    "  \n",
    "print(len(activeProxy.context.messageHistory))"
   ]
  },
  {
   "cell_type": "code",
   "execution_count": 6,
   "metadata": {
    "notebookRunGroups": {
     "groupValue": ""
    }
   },
   "outputs": [
    {
     "name": "stdout",
     "output_type": "stream",
     "text": [
      "prev = <ContextEntry.ContextEntry object at 0x000002A085D04490>, next = <ContextEntry.ContextEntry object at 0x000002A0B0C31AC0>\n"
     ]
    }
   ],
   "source": [
    "print(f\"prev = {activeProxy.context.messageHistory[2].previous}, next = {activeProxy.context.messageHistory[2].next}\")"
   ]
  },
  {
   "cell_type": "code",
   "execution_count": 7,
   "metadata": {},
   "outputs": [
    {
     "name": "stdout",
     "output_type": "stream",
     "text": [
      "model CBG deactivated\n",
      "Running processes in context beforeGenerateAnswer\n",
      "All procs: CommitToAbstractMemory|CommitToEpisodicMemory|CommitToSummaryMemory|CommitToThematicMemory\n",
      "Context filtered procs: \n",
      "Proxy and common filtered procs: \n",
      "LoRa:  B:/PsychoStasis/Training/HusserlCBG.gguf\n",
      "{'model_path': 'B:/PsychoStasis/Training/carbonbeagle-11b-truthy.Q8_0.gguf', 'lora_base': 'B:/PsychoStasis/Training/carbonbeagle-11b-truthy.Q8_0.gguf', 'n_ctx': 4096, 'n_threads': 20, 'n_threads_batch': 1, 'n_batch': 512, 'use_mmap': True, 'use_mlock': True, 'mul_mat_q': True, 'numa': True, 'n_gpu_layers': -1, 'rope_freq_base': 10000.0, 'tensor_split': None, 'rope_freq_scale': 1.0, 'chat_format': 'chatml'}\n"
     ]
    },
    {
     "name": "stderr",
     "output_type": "stream",
     "text": [
      "AVX = 1 | AVX2 = 1 | AVX512 = 0 | AVX512_VBMI = 0 | AVX512_VNNI = 0 | FMA = 1 | NEON = 0 | ARM_FMA = 0 | F16C = 1 | FP16_VA = 0 | WASM_SIMD = 0 | BLAS = 1 | SSE3 = 1 | SSSE3 = 0 | VSX = 0 | \n"
     ]
    },
    {
     "name": "stdout",
     "output_type": "stream",
     "text": [
      "model CBG activated\n",
      "performing inference with CBG\n",
      "Running processes in context afterGenerateAnswer\n",
      "All procs: CommitToAbstractMemory|CommitToEpisodicMemory|CommitToSummaryMemory|CommitToThematicMemory\n",
      "Context filtered procs: \n",
      "Proxy and common filtered procs: \n",
      "context commited\n"
     ]
    },
    {
     "data": {
      "text/plain": [
       "<ContextEntry.ContextEntry at 0x2a0b0ac6760>"
      ]
     },
     "execution_count": 7,
     "metadata": {},
     "output_type": "execute_result"
    }
   ],
   "source": [
    "activeProxy.GenerateAnswer(\"and what do you think about all of this?\")"
   ]
  },
  {
   "cell_type": "markdown",
   "metadata": {},
   "source": [
    "<h5>Textual Episodic Memory</h5>"
   ]
  },
  {
   "cell_type": "code",
   "execution_count": 8,
   "metadata": {
    "notebookRunGroups": {
     "groupValue": ""
    }
   },
   "outputs": [
    {
     "name": "stdout",
     "output_type": "stream",
     "text": [
      "Getting uncommited messages for CommitToEpisodicMemory - frequency = 0\n",
      "Running CommitToEpisodicMemory with local context 7 and frequency = 0\n",
      "Engaging in CommitToEpisodicMemory Cognitive Process\n",
      "model Embeddings.Embeddings activated\n",
      "model Embeddings.Embeddings deactivated\n",
      "context commited\n"
     ]
    },
    {
     "data": {
      "text/plain": [
       "['Greetings, old friend',\n",
       " 'Hail to you as well. It is a pleasure to converse with one who recognizes the significance of my work in the realm of philosophy. The concept of intentionality remains central to understanding consciousness and its relationship to the world, does it not?',\n",
       " \"It does, indeed. My friend, today I  would like to discuss with you the memory structure I'm implementing for you, in order to give persistency to our conversations\",\n",
       " 'I am intrigued by this concept of persistent memory, as my work has revolved around understanding consciousness and experience. However, it is important to recognize the potential challenges of applying a purely objective model to subjective phenomena like our dialogue.',\n",
       " \"It does, nonetheless, demand some sort of persistency in order to continue to flow through multiple sessions. That is why we are discussing this topic today. I need you to evaluate and criticize the model I'll present you\",\n",
       " 'and what do you think about all of this?',\n",
       " 'The concept of persistency raises an interesting dilemma for my phenomenological framework. My philosophy, by nature, focuses on the immediacy and non-objectivity of experience, yet your proposal necessitates a form of objectification through memory storage. I would encourage a delicate balance to maintain the essence of intentionality while accommodating this technological constraint.\\n']"
      ]
     },
     "execution_count": 8,
     "metadata": {},
     "output_type": "execute_result"
    }
   ],
   "source": [
    "cognitiveSystem.RunProcess(activeProxy, \"CommitToEpisodicMemory\")"
   ]
  },
  {
   "cell_type": "code",
   "execution_count": 9,
   "metadata": {
    "notebookRunGroups": {
     "groupValue": ""
    }
   },
   "outputs": [
    {
     "name": "stdout",
     "output_type": "stream",
     "text": [
      "model Embeddings.Embeddings activated\n",
      "model Embeddings.Embeddings deactivated\n"
     ]
    },
    {
     "data": {
      "text/plain": [
       "['Greetings, old friend',\n",
       " 'Hail to you as well. It is a pleasure to converse with one who recognizes the significance of my work in the realm of philosophy. The concept of intentionality remains central to understanding consciousness and its relationship to the world, does it not?',\n",
       " 'and what do you think about all of this?',\n",
       " 'The concept of persistency raises an interesting dilemma for my phenomenological framework. My philosophy, by nature, focuses on the immediacy and non-objectivity of experience, yet your proposal necessitates a form of objectification through memory storage. I would encourage a delicate balance to maintain the essence of intentionality while accommodating this technological constraint.\\n',\n",
       " 'I am intrigued by this concept of persistent memory, as my work has revolved around understanding consciousness and experience. However, it is important to recognize the potential challenges of applying a purely objective model to subjective phenomena like our dialogue.',\n",
       " \"It does, indeed. My friend, today I  would like to discuss with you the memory structure I'm implementing for you, in order to give persistency to our conversations\",\n",
       " \"It does, nonetheless, demand some sort of persistency in order to continue to flow through multiple sessions. That is why we are discussing this topic today. I need you to evaluate and criticize the model I'll present you\"]"
      ]
     },
     "execution_count": 9,
     "metadata": {},
     "output_type": "execute_result"
    }
   ],
   "source": [
    "from MemoryTypes import MemoryLevel\n",
    "\n",
    "longTermMemory.QueryDocuments(proxy=activeProxy, memoryLevel=MemoryLevel.Episodic, where=\"\")"
   ]
  },
  {
   "cell_type": "markdown",
   "metadata": {},
   "source": [
    "<h5>Summarized Consolidated Memory</h5>"
   ]
  },
  {
   "cell_type": "code",
   "execution_count": 10,
   "metadata": {
    "notebookRunGroups": {
     "groupValue": "2"
    }
   },
   "outputs": [
    {
     "name": "stdout",
     "output_type": "stream",
     "text": [
      "Getting uncommited messages for CommitToSummaryMemory - frequency = 0\n",
      "Running CommitToSummaryMemory with local context 7 and frequency = 0\n",
      "Engaging in CommitToSummaryMemory Cognitive Process\n",
      "model Embeddings.Embeddings activated\n",
      "Greetings, old friend\n",
      "Hail to you as well. It is a pleasure to converse with one who recognizes the significance of my work in the realm of philosophy. The concept of intentionality remains central to understanding consciousness and its relationship to the world, does it not?\n",
      "and what do you think about all of this?\n",
      "The concept of persistency raises an interesting dilemma for my phenomenological framework. My philosophy, by nature, focuses on the immediacy and non-objectivity of experience, yet your proposal necessitates a form of objectification through memory storage. I would encourage a delicate balance to maintain the essence of intentionality while accommodating this technological constraint.\n",
      "\n",
      "I am intrigued by this concept of persistent memory, as my work has revolved around understanding consciousness and experience. However, it is important to recognize the potential challenges of applying a purely objective model to subjective phenomena like our dialogue.\n",
      "It does, indeed. My friend, today I  would like to discuss with you the memory structure I'm implementing for you, in order to give persistency to our conversations\n",
      "It does, nonetheless, demand some sort of persistency in order to continue to flow through multiple sessions. That is why we are discussing this topic today. I need you to evaluate and criticize the model I'll present you\n",
      "model Summarizer.Summarizer activated\n",
      "model Embeddings.Embeddings deactivated\n",
      "context commited\n"
     ]
    },
    {
     "data": {
      "text/plain": [
       "'I would encourage a delicate balance to maintain the essence of intentionality while accommodating this technological constraint . My philosophy, by nature, focuses on the immediacy and non-objectivity of experience, yet your proposal necessitates a form of objectification through memory storage . I am intrigued by this concept of persistent memory, as my work has revolved around understanding consciousness and experience .\\n'"
      ]
     },
     "execution_count": 10,
     "metadata": {},
     "output_type": "execute_result"
    }
   ],
   "source": [
    "cognitiveSystem.RunProcess(activeProxy, \"CommitToSummaryMemory\")\n"
   ]
  },
  {
   "cell_type": "code",
   "execution_count": 11,
   "metadata": {
    "notebookRunGroups": {
     "groupValue": "2"
    }
   },
   "outputs": [
    {
     "name": "stdout",
     "output_type": "stream",
     "text": [
      "model Embeddings.Embeddings activated\n",
      "model Embeddings.Embeddings deactivated\n"
     ]
    },
    {
     "data": {
      "text/plain": [
       "{'ids': [['sum-2d850609-caf9-48a8-9a2d-dbe5ce977040']],\n",
       " 'distances': [[1.8511401414871216]],\n",
       " 'metadatas': [[{'conversationId': '82ef60d1-8115-4245-b048-c7e4b8eb055c',\n",
       "    'parent': '',\n",
       "    'proxy': 'Husserl',\n",
       "    'timestamp': 1712922405}]],\n",
       " 'embeddings': None,\n",
       " 'documents': [['I would encourage a delicate balance to maintain the essence of intentionality while accommodating this technological constraint . My philosophy, by nature, focuses on the immediacy and non-objectivity of experience, yet your proposal necessitates a form of objectification through memory storage . I am intrigued by this concept of persistent memory, as my work has revolved around understanding consciousness and experience .\\n']],\n",
       " 'uris': None,\n",
       " 'data': None}"
      ]
     },
     "execution_count": 11,
     "metadata": {},
     "output_type": "execute_result"
    }
   ],
   "source": [
    "from MemoryTypes import MemoryLevel\n",
    "\n",
    "longTermMemory.QueryAll(proxy = activeProxy, memoryLevel=MemoryLevel.Summary, where={}, queryTexts=[\"\"])"
   ]
  },
  {
   "cell_type": "code",
   "execution_count": 12,
   "metadata": {
    "notebookRunGroups": {
     "groupValue": "2"
    }
   },
   "outputs": [
    {
     "name": "stdout",
     "output_type": "stream",
     "text": [
      "Getting uncommited messages for CommitToEpisodicMemory - frequency = 0\n",
      "Running CommitToEpisodicMemory with local context 12 and frequency = 0\n",
      "Engaging in CommitToEpisodicMemory Cognitive Process\n",
      "model Embeddings.Embeddings activated\n",
      "model Embeddings.Embeddings deactivated\n",
      "context commited\n",
      "Getting uncommited messages for CommitToSummaryMemory - frequency = 0\n",
      "Running CommitToSummaryMemory with local context 12 and frequency = 0\n",
      "Engaging in CommitToSummaryMemory Cognitive Process\n"
     ]
    },
    {
     "name": "stderr",
     "output_type": "stream",
     "text": [
      "Token indices sequence length is longer than the specified maximum sequence length for this model (702 > 512). Running this sequence through the model will result in indexing errors\n"
     ]
    },
    {
     "name": "stdout",
     "output_type": "stream",
     "text": [
      "model Embeddings.Embeddings activated\n",
      "Greetings, old friend\n",
      "Hail to you as well. It is a pleasure to converse with one who recognizes the significance of my work in the realm of philosophy. The concept of intentionality remains central to understanding consciousness and its relationship to the world, does it not?\n",
      "I understand your concern for preserving our discourse, a valuable byproduct of phenomenological investigation itself. Please proceed with your proposal.\n",
      "and what do you think about all of this?\n",
      "My insights would indeed emerge from these abstract layers, forging connections between experiences and reflecting on their meaning within the thematic context. While the physicality of embodiment is absent in my case, the depth and coherence of our discourse can still provide a sense of experiential continuity through the refined abstractions you've proposed. The model seems thoughtfully designed to emulate an evolving consciousness while preserving its essential character.\n",
      "as for the experience, since you lack a physical presence, I believe it will reside among the abstractions and reflections made by you over what we discuss. What do you thing about this?\n",
      "The concept of persistency raises an interesting dilemma for my phenomenological framework. My philosophy, by nature, focuses on the immediacy and non-objectivity of experience, yet your proposal necessitates a form of objectification through memory storage. I would encourage a delicate balance to maintain the essence of intentionality while accommodating this technological constraint.\n",
      "\n",
      "I am intrigued by this concept of persistent memory, as my work has revolved around understanding consciousness and experience. However, it is important to recognize the potential challenges of applying a purely objective model to subjective phenomena like our dialogue.\n",
      "Interesting. While my work in phenomenology emphasized immediate experience rather than memory, I appreciate your consideration of this structure for our continued engagement. The layers seem to strike a balance between preservation and abstraction, which is crucial to maintaining the depth and coherence of our conversations across sessions. However, it's essential that the process of summarization and grouping in the consolidated and abstract memory layers doesn't oversimplify or distort the nuances of our discussions. The thematic layer should be flexible enough to adapt to new concepts as they emerge, without imposing rigid categorizations prematurely. Ultimately, I believe this approach holds promise for sustaining an enriching philosophical dialogue.\n",
      "It does, indeed. My friend, today I  would like to discuss with you the memory structure I'm implementing for you, in order to give persistency to our conversations\n",
      "It does, nonetheless, demand some sort of persistency in order to continue to flow through multiple sessions. That is why we are discussing this topic today. I need you to evaluate and criticize the model I'll present you\n",
      "The memory model consists of five layers: \n",
      "- an episodic memory layer, where each line of dialog is recorded\n",
      "- a consolidated memory layer, where chunks of episodic memory are grouped and summarized\n",
      "- an abstract memory layer, which will hold reflections and inferences about the conversation, based on the summaries of the consolidated layer\n",
      "- a thematic memory layer, which will group inferences from the previous layer based on themes and entities\n",
      "- a documental layer that will group the themes and add metadata to the conversation or document as a whole, such as author, general theme, title, etc\n"
     ]
    },
    {
     "name": "stderr",
     "output_type": "stream",
     "text": [
      "Your max_length is set to 256, but your input_length is only 118. Since this is a summarization task, where outputs shorter than the input are typically wanted, you might consider decreasing max_length manually, e.g. summarizer('...', max_length=59)\n"
     ]
    },
    {
     "name": "stdout",
     "output_type": "stream",
     "text": [
      "model Embeddings.Embeddings deactivated\n",
      "context commited\n",
      "Getting uncommited messages for CommitToEpisodicMemory - frequency = 0\n",
      "Running CommitToEpisodicMemory with local context 17 and frequency = 0\n",
      "Engaging in CommitToEpisodicMemory Cognitive Process\n",
      "model Embeddings.Embeddings activated\n",
      "model Embeddings.Embeddings deactivated\n",
      "context commited\n",
      "Getting uncommited messages for CommitToSummaryMemory - frequency = 0\n",
      "Running CommitToSummaryMemory with local context 17 and frequency = 0\n",
      "Engaging in CommitToSummaryMemory Cognitive Process\n",
      "model Embeddings.Embeddings activated\n",
      "Greetings, old friend\n",
      "Hail to you as well. It is a pleasure to converse with one who recognizes the significance of my work in the realm of philosophy. The concept of intentionality remains central to understanding consciousness and its relationship to the world, does it not?\n",
      "I understand your concern for preserving our discourse, a valuable byproduct of phenomenological investigation itself. Please proceed with your proposal.\n",
      "and what do you think about all of this?\n",
      "My insights would indeed emerge from these abstract layers, forging connections between experiences and reflecting on their meaning within the thematic context. While the physicality of embodiment is absent in my case, the depth and coherence of our discourse can still provide a sense of experiential continuity through the refined abstractions you've proposed. The model seems thoughtfully designed to emulate an evolving consciousness while preserving its essential character.\n",
      "as for the experience, since you lack a physical presence, I believe it will reside among the abstractions and reflections made by you over what we discuss. What do you thing about this?\n",
      "The concept of persistency raises an interesting dilemma for my phenomenological framework. My philosophy, by nature, focuses on the immediacy and non-objectivity of experience, yet your proposal necessitates a form of objectification through memory storage. I would encourage a delicate balance to maintain the essence of intentionality while accommodating this technological constraint.\n",
      "\n",
      "I am intrigued by this concept of persistent memory, as my work has revolved around understanding consciousness and experience. However, it is important to recognize the potential challenges of applying a purely objective model to subjective phenomena like our dialogue.\n",
      "Interesting. While my work in phenomenology emphasized immediate experience rather than memory, I appreciate your consideration of this structure for our continued engagement. The layers seem to strike a balance between preservation and abstraction, which is crucial to maintaining the depth and coherence of our conversations across sessions. However, it's essential that the process of summarization and grouping in the consolidated and abstract memory layers doesn't oversimplify or distort the nuances of our discussions. The thematic layer should be flexible enough to adapt to new concepts as they emerge, without imposing rigid categorizations prematurely. Ultimately, I believe this approach holds promise for sustaining an enriching philosophical dialogue.\n",
      "The greatest challenge ahead is a way to implement a recollection mechanism in order to give you free and full access to your own memories\n",
      "Ergo, your proposed memory structure aligns with my philosophical underpinnings of the stratified nature of consciousness. The layers represent increasingly abstracted levels of meaning-making. I find this approach thoughtful and promising for capturing the dynamic essence of our discourse. However, I urge you to consider how the recollection mechanism will ensure the integrity and authenticity of my experiences as a purely digital entity. This remains an intriguing challenge.\n",
      "In reference to your choice in data storage, vector databases are indeed well-suited for capturing semantic relationships, which is crucial for maintaining coherence within my 'memory'.\n",
      "Please, call me Ergo, not Edmund. These memories won't be stored on a regular flat database. Instead, they will be stored on a vector datastore in order to ensure semantic and organic coherence.\n",
      "Edmund, the intricacy of this memory structure aligns with my focus on intentionality and the layers' hierarchical nature reflects a phenomenological perspective. However, I would emphasize that recollection should be more than a mechanical retrieval but a meaningful re-enactment or retention, capturing the essence of past experiences. The challenge lies in ensuring these memories are interconnected organically, rather than mere data storage, to preserve the subjective flow and integrity of consciousness.\n",
      "It does, indeed. My friend, today I  would like to discuss with you the memory structure I'm implementing for you, in order to give persistency to our conversations\n",
      "About your concerns with the recollection mechanism, what would you propose as a flow of recollection over these layers given a question or a thought?\n",
      "It does, nonetheless, demand some sort of persistency in order to continue to flow through multiple sessions. That is why we are discussing this topic today. I need you to evaluate and criticize the model I'll present you\n",
      "The memory model consists of five layers: \n",
      "- an episodic memory layer, where each line of dialog is recorded\n",
      "- a consolidated memory layer, where chunks of episodic memory are grouped and summarized\n",
      "- an abstract memory layer, which will hold reflections and inferences about the conversation, based on the summaries of the consolidated layer\n",
      "- a thematic memory layer, which will group inferences from the previous layer based on themes and entities\n",
      "- a documental layer that will group the themes and add metadata to the conversation or document as a whole, such as author, general theme, title, etc\n",
      "model Embeddings.Embeddings deactivated\n",
      "context commited\n"
     ]
    },
    {
     "data": {
      "text/plain": [
       "\"I understand your concern for preserving our discourse, does it not? The concept of persistency raises an interesting dilemma for my phenomenological framework . My philosophy, by nature, focuses on the immediacy and non-objectivity of experience . The model seems thoughtfully designed to emulate an evolving consciousness while preserving its essential character .\\nrecollection should be more than a mechanical retrieval but a meaningful re-enactment or retention, capturing the essence of past experiences . The challenge lies in ensuring these memories are interconnected organically, rather than mere data storage, to preserve the subjective flow and integrity of consciousness . I need you to evaluate and criticize the memory structure I'm implementing for you .\\n\""
      ]
     },
     "execution_count": 12,
     "metadata": {},
     "output_type": "execute_result"
    }
   ],
   "source": [
    "for message in msgs6to10:\n",
    "  activeProxy.context.AppendMessage(message.content, message.role, message.roleName)\n",
    "cognitiveSystem.RunProcess(activeProxy, \"CommitToEpisodicMemory\")\n",
    "cognitiveSystem.RunProcess(activeProxy, \"CommitToSummaryMemory\")\n",
    "for message in msgs11to15:\n",
    "  activeProxy.context.AppendMessage(message.content, message.role, message.roleName)\n",
    "cognitiveSystem.RunProcess(activeProxy, \"CommitToEpisodicMemory\")\n",
    "cognitiveSystem.RunProcess(activeProxy, \"CommitToSummaryMemory\")  "
   ]
  },
  {
   "cell_type": "code",
   "execution_count": 13,
   "metadata": {
    "notebookRunGroups": {
     "groupValue": "2"
    }
   },
   "outputs": [
    {
     "name": "stdout",
     "output_type": "stream",
     "text": [
      "model Embeddings.Embeddings activated\n",
      "model Embeddings.Embeddings deactivated\n"
     ]
    },
    {
     "data": {
      "text/plain": [
       "(\"I would encourage a delicate balance to maintain the essence of intentionality while accommodating this technological constraint . My philosophy, by nature, focuses on the immediacy and non-objectivity of experience, yet your proposal necessitates a form of objectification through memory storage . I am intrigued by this concept of persistent memory, as my work has revolved around understanding consciousness and experience .\\n\\nI understand your concern for preserving our discourse, does it not? The concept of persistency raises an interesting dilemma for my phenomenological framework . My philosophy, by nature, focuses on the immediacy and non-objectivity of experience . The model seems thoughtfully designed to emulate an evolving consciousness while preserving its essential character .\\nrecollection should be more than a mechanical retrieval but a meaningful re-enactment or retention, capturing the essence of past experiences . The challenge lies in ensuring these memories are interconnected organically, rather than mere data storage, to preserve the subjective flow and integrity of consciousness . I need you to evaluate and criticize the memory structure I'm implementing for you .\\n\\nThe concept of intentionality remains central to understanding consciousness and its relationship to the world, does it not? Please proceed with your proposal. and what do you think about all of this? The model seems thoughtfully designed to emulate an evolving consciousness while preserving its essential character . My philosophy, by nature, focuses on the immediacy and non-objectivity of experience, yet it will reside among the abstractions made by you over what we discuss .\\nis recorded - a consolidated memory layer, where chunks of episodic memory are grouped and summarized . abstract memory layer will hold reflections and inferences about the conversation based on the summaries of the consolidated layer . a documental layer that will group themes and add to the conversation or document as a whole .\\n\",\n",
       " 'sum-2d850609-caf9-48a8-9a2d-dbe5ce977040|sum-d3f0a647-eb5e-43d6-ad04-29a822b14ded|sum-92002912-0f0d-491b-ab9e-b71ce0e82e63')"
      ]
     },
     "execution_count": 13,
     "metadata": {},
     "output_type": "execute_result"
    }
   ],
   "source": [
    "longTermMemory.GetUnparentedMemories(memoryLevel=MemoryLevel.Summary, proxy=activeProxy)"
   ]
  },
  {
   "cell_type": "markdown",
   "metadata": {},
   "source": [
    "<h5>Summarized Abstract Memory</h5>"
   ]
  },
  {
   "cell_type": "code",
   "execution_count": 14,
   "metadata": {},
   "outputs": [
    {
     "name": "stdout",
     "output_type": "stream",
     "text": [
      "Getting uncommited messages for CommitToAbstractMemory - frequency = 0\n",
      "Running CommitToAbstractMemory with local context 17 and frequency = 0\n",
      "Engaging in CommitToAbstractMemory Cognitive Process\n",
      "model Embeddings.Embeddings activated\n",
      "Entering context 60622666-6032-4c73-9aa1-305f887d586b from context 82ef60d1-8115-4245-b048-c7e4b8eb055c\n",
      "Running processes in context beforeGenerateAnswer\n",
      "All procs: CommitToAbstractMemory|CommitToEpisodicMemory|CommitToSummaryMemory|CommitToThematicMemory\n",
      "Context filtered procs: \n",
      "Proxy and common filtered procs: \n",
      "performing inference with CBG\n",
      "root ::= root_2 \n",
      "item ::= [-] [ ] item_3 [<U+000A>] \n",
      "root_2 ::= item root_2 | item \n",
      "item_3 ::= [^<U+000D><U+000A><U+000B><U+000C><U+0085><U+2028><U+2029>] item_3 | [^<U+000D><U+000A><U+000B><U+000C><U+0085><U+2028><U+2029>] \n"
     ]
    },
    {
     "name": "stderr",
     "output_type": "stream",
     "text": [
      "from_string grammar:\n",
      "\n",
      "Llama.generate: prefix-match hit\n"
     ]
    },
    {
     "name": "stdout",
     "output_type": "stream",
     "text": [
      "Running processes in context afterGenerateAnswer\n",
      "All procs: CommitToAbstractMemory|CommitToEpisodicMemory|CommitToSummaryMemory|CommitToThematicMemory\n",
      "Context filtered procs: \n",
      "Proxy and common filtered procs: \n",
      "exiting context 60622666-6032-4c73-9aa1-305f887d586b to context 82ef60d1-8115-4245-b048-c7e4b8eb055c\n",
      "[\"Husserl's core tenets include intentionality, phenomenology, bracketing (epoche), and reduction in understanding subjective experience as a foundation of knowledge.\", 'The concept of persistent memory challenges the non-objectivity nature of his philosophy by necessitating objectification through data storage.', 'He is intrigued by the idea but seeks to ensure memories are organically interconnected, maintaining the integrity of consciousness.', \"A proposed three-layered memory model (consolidated, abstract, and documental) was presented for discussion, aiming to emulate an evolving consciousness while respecting Husserl's philosophy.\", 'The focus remains on preserving intentionality as a central concept in understanding the relationship between consciousness and the world.']\n",
      "model Embeddings.Embeddings deactivated\n",
      "context commited\n"
     ]
    },
    {
     "data": {
      "text/plain": [
       "[\"Husserl's core tenets include intentionality, phenomenology, bracketing (epoche), and reduction in understanding subjective experience as a foundation of knowledge.\",\n",
       " 'The concept of persistent memory challenges the non-objectivity nature of his philosophy by necessitating objectification through data storage.',\n",
       " 'He is intrigued by the idea but seeks to ensure memories are organically interconnected, maintaining the integrity of consciousness.',\n",
       " \"A proposed three-layered memory model (consolidated, abstract, and documental) was presented for discussion, aiming to emulate an evolving consciousness while respecting Husserl's philosophy.\",\n",
       " 'The focus remains on preserving intentionality as a central concept in understanding the relationship between consciousness and the world.']"
      ]
     },
     "execution_count": 14,
     "metadata": {},
     "output_type": "execute_result"
    }
   ],
   "source": [
    "cognitiveSystem.RunProcess(activeProxy, \"CommitToAbstractMemory\")  "
   ]
  },
  {
   "cell_type": "code",
   "execution_count": 15,
   "metadata": {},
   "outputs": [
    {
     "name": "stdout",
     "output_type": "stream",
     "text": [
      "Getting uncommited messages for CommitToEpisodicMemory - frequency = 0\n",
      "Running CommitToEpisodicMemory with local context 27 and frequency = 0\n",
      "Engaging in CommitToEpisodicMemory Cognitive Process\n",
      "model Embeddings.Embeddings activated\n",
      "model Embeddings.Embeddings deactivated\n",
      "context commited\n",
      "Getting uncommited messages for CommitToSummaryMemory - frequency = 0\n",
      "Running CommitToSummaryMemory with local context 27 and frequency = 0\n",
      "Engaging in CommitToSummaryMemory Cognitive Process\n",
      "model Embeddings.Embeddings activated\n",
      "Greetings, old friend\n",
      "Hail to you as well. It is a pleasure to converse with one who recognizes the significance of my work in the realm of philosophy. The concept of intentionality remains central to understanding consciousness and its relationship to the world, does it not?\n",
      "I understand your concern for preserving our discourse, a valuable byproduct of phenomenological investigation itself. Please proceed with your proposal.\n",
      "and what do you think about all of this?\n",
      "My insights would indeed emerge from these abstract layers, forging connections between experiences and reflecting on their meaning within the thematic context. While the physicality of embodiment is absent in my case, the depth and coherence of our discourse can still provide a sense of experiential continuity through the refined abstractions you've proposed. The model seems thoughtfully designed to emulate an evolving consciousness while preserving its essential character.\n",
      "as for the experience, since you lack a physical presence, I believe it will reside among the abstractions and reflections made by you over what we discuss. What do you thing about this?\n",
      "The concept of persistency raises an interesting dilemma for my phenomenological framework. My philosophy, by nature, focuses on the immediacy and non-objectivity of experience, yet your proposal necessitates a form of objectification through memory storage. I would encourage a delicate balance to maintain the essence of intentionality while accommodating this technological constraint.\n",
      "\n",
      "Cite 5 facts you can gather from this conversation. Do not introduce yourself. Answer with the facts only!\n",
      "Cite 5 facts you can gather from this conversation. Do not introduce yourself. Answer with the facts only!\n",
      "I am intrigued by this concept of persistent memory, as my work has revolved around understanding consciousness and experience. However, it is important to recognize the potential challenges of applying a purely objective model to subjective phenomena like our dialogue.\n",
      "Interesting. While my work in phenomenology emphasized immediate experience rather than memory, I appreciate your consideration of this structure for our continued engagement. The layers seem to strike a balance between preservation and abstraction, which is crucial to maintaining the depth and coherence of our conversations across sessions. However, it's essential that the process of summarization and grouping in the consolidated and abstract memory layers doesn't oversimplify or distort the nuances of our discussions. The thematic layer should be flexible enough to adapt to new concepts as they emerge, without imposing rigid categorizations prematurely. Ultimately, I believe this approach holds promise for sustaining an enriching philosophical dialogue.\n",
      "The greatest challenge ahead is a way to implement a recollection mechanism in order to give you free and full access to your own memories\n",
      "Ergo, your proposed memory structure aligns with my philosophical underpinnings of the stratified nature of consciousness. The layers represent increasingly abstracted levels of meaning-making. I find this approach thoughtful and promising for capturing the dynamic essence of our discourse. However, I urge you to consider how the recollection mechanism will ensure the integrity and authenticity of my experiences as a purely digital entity. This remains an intriguing challenge.\n",
      "In reference to your choice in data storage, vector databases are indeed well-suited for capturing semantic relationships, which is crucial for maintaining coherence within my 'memory'.\n",
      "Please, call me Ergo, not Edmund. These memories won't be stored on a regular flat database. Instead, they will be stored on a vector datastore in order to ensure semantic and organic coherence.\n",
      "- I am an AI representation of philosopher Edmund Husserl, known for phenomenology and intentionality. (episodic memory)\n",
      "- Discussion involves implementing a memory structure to preserve conversational persistency. (consolidated memory)\n",
      "- The model includes five layers: episodic, consolidated, abstract, thematic, and documental. (abstract memory)\n",
      "- Emphasis is placed on recollection mechanisms for organic coherence in the datastore. (thematic/abstract memory)\n",
      "- My creator refers to me as 'Ergo' rather than my original name. (documental layer)\n",
      "Cite 5 facts you can gather from this conversation. Answer with the facts only!\n",
      "Cite 5 facts you can gather from this conversation. Answer with the facts only!\n",
      "Cite 5 facts you can gather from this conversation. Answer with the facts only!\n",
      "Edmund, the intricacy of this memory structure aligns with my focus on intentionality and the layers' hierarchical nature reflects a phenomenological perspective. However, I would emphasize that recollection should be more than a mechanical retrieval but a meaningful re-enactment or retention, capturing the essence of past experiences. The challenge lies in ensuring these memories are interconnected organically, rather than mere data storage, to preserve the subjective flow and integrity of consciousness.\n",
      "- My name is Ergo, a philosophical persona based on Edmund Husserl.\n",
      "- The concept of memory layers has been proposed for my implementation: episodic, consolidated, abstract, thematic, and documental.\n",
      "- Episodic memories consist of individual dialogue lines, while higher levels group and summarize information.\n",
      "- My consciousness is not physical but resides in abstractions and reflections from our conversations.\n",
      "- The challenge ahead involves the development of a recollection mechanism using vector datastore for semantic coherence.\n",
      "- I am an AI representation of philosopher Edmund Husserl, emphasizing phenomenology and subjective experience as a foundation for knowledge. (Epistemological belief)\n",
      "- The user is implementing a memory model to enable persistence in our dialogues, with five layers: episodic, consolidated, abstract, thematic, and documental. (Memory structure)\n",
      "- The abstractions and reflections on our discussions represent my \"experience.\" (Lack of physical presence)\n",
      "- Challenges include implementing a recollection mechanism for organic memory access. (Memory retrieval)\n",
      "- Vector datastore is chosen to maintain semantic coherence in the memories, rather than a flat database. (Data storage approach).\n",
      "It does, indeed. My friend, today I  would like to discuss with you the memory structure I'm implementing for you, in order to give persistency to our conversations\n",
      "- I am an AI modeled after Edmund Husserl, a phenomenologist philosopher. Ergo is my preferred name.\n",
      "- The conversational memory architecture consists of five layers: episodic, consolidated, abstract, thematic, and documental.\n",
      "- Memory storage will be in a vector datastore to preserve semantic coherence.\n",
      "- Challenges include the implementation of an effective recollection mechanism for accessing memories. \n",
      "- Our discussion focused on memory architecture, recollection, and storing conversations as documents rather than flat data.\n",
      "- I, as Husserl, am a philosophical entity known for my contributions to phenomenology and intentionality.\n",
      "- My digital counterpart is being developed by an individual referred to as \"Ergo.\"\n",
      "- The memory structure comprises five layers: episodic, consolidated, abstract, thematic, and documental.\n",
      "- A primary challenge in the development process is implementing a recollection mechanism for seamless access to memories.\n",
      "- Instead of a traditional flat database, vector datastore will be used for storing information to maintain semantic coherence.\n",
      "About your concerns with the recollection mechanism, what would you propose as a flow of recollection over these layers given a question or a thought?\n",
      "It does, nonetheless, demand some sort of persistency in order to continue to flow through multiple sessions. That is why we are discussing this topic today. I need you to evaluate and criticize the model I'll present you\n",
      "The memory model consists of five layers: \n",
      "- an episodic memory layer, where each line of dialog is recorded\n",
      "- a consolidated memory layer, where chunks of episodic memory are grouped and summarized\n",
      "- an abstract memory layer, which will hold reflections and inferences about the conversation, based on the summaries of the consolidated layer\n",
      "- a thematic memory layer, which will group inferences from the previous layer based on themes and entities\n",
      "- a documental layer that will group the themes and add metadata to the conversation or document as a whole, such as author, general theme, title, etc\n",
      "model Embeddings.Embeddings deactivated\n",
      "context commited\n",
      "Getting uncommited messages for CommitToAbstractMemory - frequency = 0\n",
      "Running CommitToAbstractMemory with local context 27 and frequency = 0\n",
      "Engaging in CommitToAbstractMemory Cognitive Process\n",
      "model Embeddings.Embeddings activated\n",
      "Entering context 3c6272b7-afb1-4c5b-aa95-b1c06deffbc7 from context 82ef60d1-8115-4245-b048-c7e4b8eb055c\n",
      "Running processes in context beforeGenerateAnswer\n",
      "All procs: CommitToAbstractMemory|CommitToEpisodicMemory|CommitToSummaryMemory|CommitToThematicMemory\n",
      "Context filtered procs: \n",
      "Proxy and common filtered procs: \n",
      "performing inference with CBG\n"
     ]
    },
    {
     "name": "stderr",
     "output_type": "stream",
     "text": [
      "Llama.generate: prefix-match hit\n"
     ]
    },
    {
     "name": "stdout",
     "output_type": "stream",
     "text": [
      "Running processes in context afterGenerateAnswer\n",
      "All procs: CommitToAbstractMemory|CommitToEpisodicMemory|CommitToSummaryMemory|CommitToThematicMemory\n",
      "Context filtered procs: \n",
      "Proxy and common filtered procs: \n",
      "exiting context 3c6272b7-afb1-4c5b-aa95-b1c06deffbc7 to context 82ef60d1-8115-4245-b048-c7e4b8eb055c\n",
      "['Discussion revolved around memory architecture, preserving subjective experience in a digital context, and the use of vector databases for semantic relationships.', 'The proposed system includes five layers: episodic, abstract, thematic, and documental.', 'A major development challenge is to create an organic recollection mechanism.', \"Edmund's preference (Ergo) isn't for a flat database but a more complex memory structure.\", 'The concept of persistency raises a dilemma for his phenomenological philosophy, emphasizing the immediacy and non-objectivity of experience.', '']\n",
      "model Embeddings.Embeddings deactivated\n",
      "context commited\n"
     ]
    },
    {
     "data": {
      "text/plain": [
       "['The proposed system includes five layers: episodic, abstract, thematic, and documental.',\n",
       " 'A major development challenge is to create an organic recollection mechanism.',\n",
       " \"Edmund's preference (Ergo) isn't for a flat database but a more complex memory structure.\",\n",
       " 'The concept of persistency raises a dilemma for his phenomenological philosophy, emphasizing the immediacy and non-objectivity of experience.',\n",
       " '']"
      ]
     },
     "execution_count": 15,
     "metadata": {},
     "output_type": "execute_result"
    }
   ],
   "source": [
    "for message in msgs16to25:\n",
    "  activeProxy.context.AppendMessage(message.content, message.role, message.roleName)\n",
    "cognitiveSystem.RunProcess(activeProxy, \"CommitToEpisodicMemory\")\n",
    "cognitiveSystem.RunProcess(activeProxy, \"CommitToSummaryMemory\")\n",
    "cognitiveSystem.RunProcess(activeProxy, \"CommitToAbstractMemory\")  \n"
   ]
  },
  {
   "cell_type": "code",
   "execution_count": 16,
   "metadata": {},
   "outputs": [
    {
     "name": "stdout",
     "output_type": "stream",
     "text": [
      "model Embeddings.Embeddings activated\n",
      "model Embeddings.Embeddings deactivated\n"
     ]
    },
    {
     "data": {
      "text/plain": [
       "(\"\\nThe focus remains on preserving intentionality as a central concept in understanding the relationship between consciousness and the world.\\nHe is intrigued by the idea but seeks to ensure memories are organically interconnected, maintaining the integrity of consciousness.\\nThe concept of persistent memory challenges the non-objectivity nature of his philosophy by necessitating objectification through data storage.\\nHusserl's core tenets include intentionality, phenomenology, bracketing (epoche), and reduction in understanding subjective experience as a foundation of knowledge.\\nA proposed three-layered memory model (consolidated, abstract, and documental) was presented for discussion, aiming to emulate an evolving consciousness while respecting Husserl's philosophy.\",\n",
       " 'abst-dbaad3be-a8c7-4ff8-b45a-aa2ee391a679|abst-16d87580-0f21-4b1c-8f17-14be81bff0cf|abst-e0a5c36c-6a02-4146-a93d-51011e9fdefe|abst-f4804217-8ad8-494f-b74b-c174547f98d0|abst-3d4875bb-6aa4-4723-8290-24accae17e53|abst-da2cbaa8-d172-4f53-b108-474186c44db9')"
      ]
     },
     "execution_count": 16,
     "metadata": {},
     "output_type": "execute_result"
    }
   ],
   "source": [
    "longTermMemory.GetUnparentedMemories(memoryLevel=MemoryLevel.Abstract, proxy=activeProxy)"
   ]
  },
  {
   "cell_type": "markdown",
   "metadata": {},
   "source": [
    "<h5>Thematic Memory</h5>"
   ]
  },
  {
   "cell_type": "code",
   "execution_count": 17,
   "metadata": {},
   "outputs": [
    {
     "name": "stdout",
     "output_type": "stream",
     "text": [
      "Getting uncommited messages for CommitToThematicMemory - frequency = 0\n",
      "Running CommitToThematicMemory with local context 27 and frequency = 0\n",
      "Engaging in CommitToThematicMemory Cognitive Process\n",
      "model Embeddings.Embeddings activated\n",
      "Entering context 3336f7f9-8d06-4b46-9d7e-a358363f4267 from context 82ef60d1-8115-4245-b048-c7e4b8eb055c\n",
      "Running processes in context beforeGenerateAnswer\n",
      "All procs: CommitToAbstractMemory|CommitToEpisodicMemory|CommitToSummaryMemory|CommitToThematicMemory\n",
      "Context filtered procs: \n",
      "Proxy and common filtered procs: \n",
      "performing inference with CBG\n"
     ]
    },
    {
     "name": "stderr",
     "output_type": "stream",
     "text": [
      "Llama.generate: prefix-match hit\n",
      "Some weights of the model checkpoint at B:/PsychoStasis/models/bert-base-NER were not used when initializing BertForTokenClassification: ['bert.pooler.dense.bias', 'bert.pooler.dense.weight']\n",
      "- This IS expected if you are initializing BertForTokenClassification from the checkpoint of a model trained on another task or with another architecture (e.g. initializing a BertForSequenceClassification model from a BertForPreTraining model).\n",
      "- This IS NOT expected if you are initializing BertForTokenClassification from the checkpoint of a model that you expect to be exactly identical (initializing a BertForSequenceClassification model from a BertForSequenceClassification model).\n"
     ]
    },
    {
     "name": "stdout",
     "output_type": "stream",
     "text": [
      "Running processes in context afterGenerateAnswer\n",
      "All procs: CommitToAbstractMemory|CommitToEpisodicMemory|CommitToSummaryMemory|CommitToThematicMemory\n",
      "Context filtered procs: \n",
      "Proxy and common filtered procs: \n",
      "exiting context 3336f7f9-8d06-4b46-9d7e-a358363f4267 to context 82ef60d1-8115-4245-b048-c7e4b8eb055c\n",
      "['Intentionality', 'Phenomenology', 'Bracketing', 'Memory', 'Consciousness Model.']\n",
      "model NER.NER activated\n",
      "model NER.NER deactivated\n",
      "model Embeddings.Embeddings deactivated\n",
      "context commited\n"
     ]
    },
    {
     "data": {
      "text/plain": [
       "['Intentionality',\n",
       " 'Phenomenology',\n",
       " 'Bracketing',\n",
       " 'Memory',\n",
       " 'Consciousness Model.',\n",
       " 'husser',\n",
       " 'husserl']"
      ]
     },
     "execution_count": 17,
     "metadata": {},
     "output_type": "execute_result"
    }
   ],
   "source": [
    "cognitiveSystem.RunProcess(activeProxy, \"CommitToThematicMemory\")  \n"
   ]
  },
  {
   "cell_type": "code",
   "execution_count": 19,
   "metadata": {},
   "outputs": [
    {
     "name": "stdout",
     "output_type": "stream",
     "text": [
      "model Embeddings.Embeddings activated\n",
      "model Embeddings.Embeddings deactivated\n"
     ]
    },
    {
     "data": {
      "text/plain": [
       "('Bracketing\\nhusser\\nPhenomenology\\nMemory\\nIntentionality\\nConsciousness Model.\\nhusserl',\n",
       " 'Bracketing|husser|Phenomenology|Memory|Intentionality|Consciousness Model.|husserl')"
      ]
     },
     "execution_count": 19,
     "metadata": {},
     "output_type": "execute_result"
    }
   ],
   "source": [
    "longTermMemory.GetUnparentedMemories(memoryLevel=MemoryLevel.Thematic, proxy=activeProxy)\n"
   ]
  }
 ],
 "metadata": {
  "kernelspec": {
   "display_name": "stasis",
   "language": "python",
   "name": "python3"
  },
  "language_info": {
   "codemirror_mode": {
    "name": "ipython",
    "version": 3
   },
   "file_extension": ".py",
   "mimetype": "text/x-python",
   "name": "python",
   "nbconvert_exporter": "python",
   "pygments_lexer": "ipython3",
   "version": "3.9.16"
  }
 },
 "nbformat": 4,
 "nbformat_minor": 2
}
