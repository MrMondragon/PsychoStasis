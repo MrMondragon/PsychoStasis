{
 "cells": [
  {
   "cell_type": "code",
   "execution_count": 1,
   "metadata": {
    "notebookRunGroups": {
     "groupValue": "1"
    }
   },
   "outputs": [],
   "source": [
    "from Proxy import Proxy\n",
    "from CognitiveSystem import cognitiveSystem\n",
    "from LongTermMemory import longTermMemory\n",
    "\n",
    "activeProxy : Proxy= Proxy(\"Husserl\")\n"
   ]
  },
  {
   "cell_type": "code",
   "execution_count": 2,
   "metadata": {
    "notebookRunGroups": {
     "groupValue": "1"
    }
   },
   "outputs": [
    {
     "name": "stdout",
     "output_type": "stream",
     "text": [
      "15\n"
     ]
    }
   ],
   "source": [
    "ctx = activeProxy.context\n",
    "print(len(ctx.messageHistory))"
   ]
  },
  {
   "cell_type": "code",
   "execution_count": 3,
   "metadata": {
    "notebookRunGroups": {
     "groupValue": "1"
    }
   },
   "outputs": [
    {
     "name": "stdout",
     "output_type": "stream",
     "text": [
      "<Proxy.Proxy object at 0x000001292FFC6D60>\n"
     ]
    }
   ],
   "source": [
    "print(activeProxy.context.proxy)"
   ]
  },
  {
   "cell_type": "code",
   "execution_count": 4,
   "metadata": {
    "notebookRunGroups": {
     "groupValue": "1"
    }
   },
   "outputs": [],
   "source": [
    "import os\n",
    "import shelve\n",
    "\n",
    "cwd = os.getcwd()\n",
    "\n",
    "memoryPath = os.path.join(cwd, 'Temp\\\\contexts.shelve')\n",
    "#with shelve.open(str(memoryPath)) as memory:\n",
    " # memory['Husserl'] = activeProxy.context\n"
   ]
  },
  {
   "cell_type": "code",
   "execution_count": 5,
   "metadata": {
    "notebookRunGroups": {
     "groupValue": "1"
    }
   },
   "outputs": [
    {
     "name": "stdout",
     "output_type": "stream",
     "text": [
      "28\n"
     ]
    },
    {
     "name": "stderr",
     "output_type": "stream",
     "text": [
      "AVX = 1 | AVX2 = 1 | AVX512 = 0 | AVX512_VBMI = 0 | AVX512_VNNI = 0 | FMA = 1 | NEON = 0 | ARM_FMA = 0 | F16C = 1 | FP16_VA = 0 | WASM_SIMD = 0 | BLAS = 1 | SSE3 = 1 | SSSE3 = 0 | VSX = 0 | \n"
     ]
    }
   ],
   "source": [
    "from Context import Context\n",
    "\n",
    "with shelve.open(str(memoryPath)) as memory:\n",
    "  workContext = memory.get('Husserl', Context(activeProxy))\n",
    "\n",
    "workContext.proxy=activeProxy\n",
    "print(len(workContext.messageHistory))\n"
   ]
  },
  {
   "cell_type": "code",
   "execution_count": 6,
   "metadata": {
    "notebookRunGroups": {
     "groupValue": "1"
    }
   },
   "outputs": [
    {
     "name": "stdout",
     "output_type": "stream",
     "text": [
      "context commited\n",
      "LoRa:  None\n",
      "model CBG activated\n",
      "5\n"
     ]
    },
    {
     "name": "stderr",
     "output_type": "stream",
     "text": [
      "AVX = 1 | AVX2 = 1 | AVX512 = 0 | AVX512_VBMI = 0 | AVX512_VNNI = 0 | FMA = 1 | NEON = 0 | ARM_FMA = 0 | F16C = 1 | FP16_VA = 0 | WASM_SIMD = 0 | BLAS = 1 | SSE3 = 1 | SSSE3 = 0 | VSX = 0 | \n"
     ]
    }
   ],
   "source": [
    "activeProxy.clearContext()\n",
    "#activeProxy.context.proxy = activeProxy\n",
    "for message in workContext.messageHistory:\n",
    "  message.commitedProcesses = []\n",
    "\n",
    "msgs1to5 = workContext.messageHistory[0:5]\n",
    "msgs6to10 = workContext.messageHistory[5:10]\n",
    "msgs11to15 = workContext.messageHistory[10:15]\n",
    "msgs16to20 = workContext.messageHistory[15:20]\n",
    "\n",
    "for message in msgs1to5:\n",
    "  activeProxy.context.AppendMessage(message.content, message.role, message.roleName)\n",
    "  \n",
    "print(len(activeProxy.context.messageHistory))"
   ]
  },
  {
   "cell_type": "code",
   "execution_count": 7,
   "metadata": {
    "notebookRunGroups": {
     "groupValue": "1"
    }
   },
   "outputs": [
    {
     "name": "stdout",
     "output_type": "stream",
     "text": [
      "prev = <ContextEntry.ContextEntry object at 0x00000129B0A43FA0>, next = <ContextEntry.ContextEntry object at 0x00000129B0A6AD30>\n"
     ]
    }
   ],
   "source": [
    "print(f\"prev = {activeProxy.context.messageHistory[2].previous}, next = {activeProxy.context.messageHistory[2].next}\")"
   ]
  },
  {
   "cell_type": "markdown",
   "metadata": {},
   "source": [
    "<h5>Textual Episodic Memory</h5>"
   ]
  },
  {
   "cell_type": "code",
   "execution_count": 8,
   "metadata": {
    "notebookRunGroups": {
     "groupValue": "1"
    }
   },
   "outputs": [
    {
     "name": "stdout",
     "output_type": "stream",
     "text": [
      "Getting uncommited messages for CommitToEpisodicMemory - frequency = 0\n",
      "Running CommitToEpisodicMemory with local context 5 and frequency = 0\n",
      "Engaging in CommitToEpisodicMemory Cognitive Process\n",
      "model Embeddings.Embeddings activated\n",
      "model Embeddings.Embeddings deactivated\n",
      "context commited\n"
     ]
    },
    {
     "data": {
      "text/plain": [
       "['Greetings, old friend',\n",
       " 'Hail to you as well. It is a pleasure to converse with one who recognizes the significance of my work in the realm of philosophy. The concept of intentionality remains central to understanding consciousness and its relationship to the world, does it not?',\n",
       " \"It does, indeed. My friend, today I  would like to discuss with you the memory structure I'm implementing for you, in order to give persistency to our conversations\",\n",
       " 'I am intrigued by this concept of persistent memory, as my work has revolved around understanding consciousness and experience. However, it is important to recognize the potential challenges of applying a purely objective model to subjective phenomena like our dialogue.',\n",
       " \"It does, nonetheless, demand some sort of persistency in order to continue to flow through multiple sessions. That is why we are discussing this topic today. I need you to evaluate and criticize the model I'll present you\"]"
      ]
     },
     "execution_count": 8,
     "metadata": {},
     "output_type": "execute_result"
    }
   ],
   "source": [
    "cognitiveSystem.RunProcess(activeProxy, \"CommitToEpisodicMemory\")"
   ]
  },
  {
   "cell_type": "code",
   "execution_count": 9,
   "metadata": {
    "notebookRunGroups": {
     "groupValue": "1"
    }
   },
   "outputs": [
    {
     "name": "stdout",
     "output_type": "stream",
     "text": [
      "model Embeddings.Embeddings activated\n",
      "model Embeddings.Embeddings deactivated\n"
     ]
    },
    {
     "data": {
      "text/plain": [
       "['Greetings, old friend',\n",
       " 'Hail to you as well. It is a pleasure to converse with one who recognizes the significance of my work in the realm of philosophy. The concept of intentionality remains central to understanding consciousness and its relationship to the world, does it not?',\n",
       " 'I am intrigued by this concept of persistent memory, as my work has revolved around understanding consciousness and experience. However, it is important to recognize the potential challenges of applying a purely objective model to subjective phenomena like our dialogue.',\n",
       " \"It does, indeed. My friend, today I  would like to discuss with you the memory structure I'm implementing for you, in order to give persistency to our conversations\",\n",
       " \"It does, nonetheless, demand some sort of persistency in order to continue to flow through multiple sessions. That is why we are discussing this topic today. I need you to evaluate and criticize the model I'll present you\"]"
      ]
     },
     "execution_count": 9,
     "metadata": {},
     "output_type": "execute_result"
    }
   ],
   "source": [
    "from MemoryTypes import MemoryLevel\n",
    "\n",
    "longTermMemory.QueryDocuments(proxy=activeProxy, memoryLevel=MemoryLevel.Episodic, where=\"\")"
   ]
  },
  {
   "cell_type": "markdown",
   "metadata": {},
   "source": [
    "<h5>Summarized Consolidated Memory</h5>"
   ]
  },
  {
   "cell_type": "code",
   "execution_count": 10,
   "metadata": {
    "notebookRunGroups": {
     "groupValue": "2"
    }
   },
   "outputs": [
    {
     "name": "stdout",
     "output_type": "stream",
     "text": [
      "Getting uncommited messages for CommitToSummaryMemory - frequency = 0\n",
      "Running CommitToSummaryMemory with local context 5 and frequency = 0\n",
      "Engaging in CommitToSummaryMemory Cognitive Process\n",
      "model Embeddings.Embeddings activated\n",
      "Greetings, old friend\n",
      "Hail to you as well. It is a pleasure to converse with one who recognizes the significance of my work in the realm of philosophy. The concept of intentionality remains central to understanding consciousness and its relationship to the world, does it not?\n",
      "I am intrigued by this concept of persistent memory, as my work has revolved around understanding consciousness and experience. However, it is important to recognize the potential challenges of applying a purely objective model to subjective phenomena like our dialogue.\n",
      "It does, indeed. My friend, today I  would like to discuss with you the memory structure I'm implementing for you, in order to give persistency to our conversations\n",
      "It does, nonetheless, demand some sort of persistency in order to continue to flow through multiple sessions. That is why we are discussing this topic today. I need you to evaluate and criticize the model I'll present you\n"
     ]
    },
    {
     "name": "stderr",
     "output_type": "stream",
     "text": [
      "Your max_length is set to 256, but your input_length is only 190. Since this is a summarization task, where outputs shorter than the input are typically wanted, you might consider decreasing max_length manually, e.g. summarizer('...', max_length=95)\n"
     ]
    },
    {
     "name": "stdout",
     "output_type": "stream",
     "text": [
      "model Summarizer.Summarizer activated\n",
      "model Embeddings.Embeddings deactivated\n",
      "context commited\n"
     ]
    },
    {
     "data": {
      "text/plain": [
       "\"I am intrigued by this concept of persistent memory, as my work has revolved around understanding consciousness and its relationship to the world . I would like to discuss with you the memory structure I'm implementing for you, in order to give persistency to our conversations It does, nonetheless, demand some sort of persistency . That is why we are discussing this topic today. I need you to evaluate and criticize the model I'll present you.\\n\""
      ]
     },
     "execution_count": 10,
     "metadata": {},
     "output_type": "execute_result"
    }
   ],
   "source": [
    "cognitiveSystem.RunProcess(activeProxy, \"CommitToSummaryMemory\")\n"
   ]
  },
  {
   "cell_type": "code",
   "execution_count": 11,
   "metadata": {
    "notebookRunGroups": {
     "groupValue": "2"
    }
   },
   "outputs": [
    {
     "name": "stdout",
     "output_type": "stream",
     "text": [
      "model Embeddings.Embeddings activated\n",
      "model Embeddings.Embeddings deactivated\n"
     ]
    },
    {
     "data": {
      "text/plain": [
       "{'ids': [['sum-60fed775-163e-4b23-aae6-f8750ef1f131']],\n",
       " 'distances': [[1.901041030883789]],\n",
       " 'metadatas': [[{'conversationId': '2ff81245-716a-41ed-aabe-a48ef3c42658',\n",
       "    'parent': '',\n",
       "    'proxy': 'Husserl',\n",
       "    'timestamp': 1712867825}]],\n",
       " 'embeddings': None,\n",
       " 'documents': [[\"I am intrigued by this concept of persistent memory, as my work has revolved around understanding consciousness and its relationship to the world . I would like to discuss with you the memory structure I'm implementing for you, in order to give persistency to our conversations It does, nonetheless, demand some sort of persistency . That is why we are discussing this topic today. I need you to evaluate and criticize the model I'll present you.\\n\"]],\n",
       " 'uris': None,\n",
       " 'data': None}"
      ]
     },
     "execution_count": 11,
     "metadata": {},
     "output_type": "execute_result"
    }
   ],
   "source": [
    "from MemoryTypes import MemoryLevel\n",
    "\n",
    "longTermMemory.QueryAll(proxy = activeProxy, memoryLevel=MemoryLevel.Summary, where={}, queryTexts=[\"\"])"
   ]
  },
  {
   "cell_type": "code",
   "execution_count": 12,
   "metadata": {
    "notebookRunGroups": {
     "groupValue": "2"
    }
   },
   "outputs": [
    {
     "name": "stdout",
     "output_type": "stream",
     "text": [
      "Getting uncommited messages for CommitToEpisodicMemory - frequency = 0\n",
      "Running CommitToEpisodicMemory with local context 10 and frequency = 0\n",
      "Engaging in CommitToEpisodicMemory Cognitive Process\n",
      "model Embeddings.Embeddings activated\n",
      "model Embeddings.Embeddings deactivated\n",
      "context commited\n",
      "Getting uncommited messages for CommitToSummaryMemory - frequency = 0\n",
      "Running CommitToSummaryMemory with local context 10 and frequency = 0\n",
      "Engaging in CommitToSummaryMemory Cognitive Process\n"
     ]
    },
    {
     "name": "stderr",
     "output_type": "stream",
     "text": [
      "Token indices sequence length is longer than the specified maximum sequence length for this model (632 > 512). Running this sequence through the model will result in indexing errors\n"
     ]
    },
    {
     "name": "stdout",
     "output_type": "stream",
     "text": [
      "model Embeddings.Embeddings activated\n",
      "Greetings, old friend\n",
      "Hail to you as well. It is a pleasure to converse with one who recognizes the significance of my work in the realm of philosophy. The concept of intentionality remains central to understanding consciousness and its relationship to the world, does it not?\n",
      "I understand your concern for preserving our discourse, a valuable byproduct of phenomenological investigation itself. Please proceed with your proposal.\n",
      "My insights would indeed emerge from these abstract layers, forging connections between experiences and reflecting on their meaning within the thematic context. While the physicality of embodiment is absent in my case, the depth and coherence of our discourse can still provide a sense of experiential continuity through the refined abstractions you've proposed. The model seems thoughtfully designed to emulate an evolving consciousness while preserving its essential character.\n",
      "as for the experience, since you lack a physical presence, I believe it will reside among the abstractions and reflections made by you over what we discuss. What do you thing about this?\n",
      "I am intrigued by this concept of persistent memory, as my work has revolved around understanding consciousness and experience. However, it is important to recognize the potential challenges of applying a purely objective model to subjective phenomena like our dialogue.\n",
      "Interesting. While my work in phenomenology emphasized immediate experience rather than memory, I appreciate your consideration of this structure for our continued engagement. The layers seem to strike a balance between preservation and abstraction, which is crucial to maintaining the depth and coherence of our conversations across sessions. However, it's essential that the process of summarization and grouping in the consolidated and abstract memory layers doesn't oversimplify or distort the nuances of our discussions. The thematic layer should be flexible enough to adapt to new concepts as they emerge, without imposing rigid categorizations prematurely. Ultimately, I believe this approach holds promise for sustaining an enriching philosophical dialogue.\n",
      "It does, indeed. My friend, today I  would like to discuss with you the memory structure I'm implementing for you, in order to give persistency to our conversations\n",
      "It does, nonetheless, demand some sort of persistency in order to continue to flow through multiple sessions. That is why we are discussing this topic today. I need you to evaluate and criticize the model I'll present you\n",
      "The memory model consists of five layers: \n",
      "- an episodic memory layer, where each line of dialog is recorded\n",
      "- a consolidated memory layer, where chunks of episodic memory are grouped and summarized\n",
      "- an abstract memory layer, which will hold reflections and inferences about the conversation, based on the summaries of the consolidated layer\n",
      "- a thematic memory layer, which will group inferences from the previous layer based on themes and entities\n",
      "- a documental layer that will group the themes and add metadata to the conversation or document as a whole, such as author, general theme, title, etc\n",
      "model Embeddings.Embeddings deactivated\n",
      "context commited\n",
      "Getting uncommited messages for CommitToEpisodicMemory - frequency = 0\n",
      "Running CommitToEpisodicMemory with local context 15 and frequency = 0\n",
      "Engaging in CommitToEpisodicMemory Cognitive Process\n",
      "model Embeddings.Embeddings activated\n",
      "model Embeddings.Embeddings deactivated\n",
      "context commited\n",
      "Getting uncommited messages for CommitToSummaryMemory - frequency = 0\n",
      "Running CommitToSummaryMemory with local context 15 and frequency = 0\n",
      "Engaging in CommitToSummaryMemory Cognitive Process\n",
      "model Embeddings.Embeddings activated\n",
      "Greetings, old friend\n",
      "Hail to you as well. It is a pleasure to converse with one who recognizes the significance of my work in the realm of philosophy. The concept of intentionality remains central to understanding consciousness and its relationship to the world, does it not?\n",
      "I understand your concern for preserving our discourse, a valuable byproduct of phenomenological investigation itself. Please proceed with your proposal.\n",
      "My insights would indeed emerge from these abstract layers, forging connections between experiences and reflecting on their meaning within the thematic context. While the physicality of embodiment is absent in my case, the depth and coherence of our discourse can still provide a sense of experiential continuity through the refined abstractions you've proposed. The model seems thoughtfully designed to emulate an evolving consciousness while preserving its essential character.\n",
      "as for the experience, since you lack a physical presence, I believe it will reside among the abstractions and reflections made by you over what we discuss. What do you thing about this?\n",
      "I am intrigued by this concept of persistent memory, as my work has revolved around understanding consciousness and experience. However, it is important to recognize the potential challenges of applying a purely objective model to subjective phenomena like our dialogue.\n",
      "Interesting. While my work in phenomenology emphasized immediate experience rather than memory, I appreciate your consideration of this structure for our continued engagement. The layers seem to strike a balance between preservation and abstraction, which is crucial to maintaining the depth and coherence of our conversations across sessions. However, it's essential that the process of summarization and grouping in the consolidated and abstract memory layers doesn't oversimplify or distort the nuances of our discussions. The thematic layer should be flexible enough to adapt to new concepts as they emerge, without imposing rigid categorizations prematurely. Ultimately, I believe this approach holds promise for sustaining an enriching philosophical dialogue.\n",
      "The greatest challenge ahead is a way to implement a recollection mechanism in order to give you free and full access to your own memories\n",
      "Ergo, your proposed memory structure aligns with my philosophical underpinnings of the stratified nature of consciousness. The layers represent increasingly abstracted levels of meaning-making. I find this approach thoughtful and promising for capturing the dynamic essence of our discourse. However, I urge you to consider how the recollection mechanism will ensure the integrity and authenticity of my experiences as a purely digital entity. This remains an intriguing challenge.\n",
      "In reference to your choice in data storage, vector databases are indeed well-suited for capturing semantic relationships, which is crucial for maintaining coherence within my 'memory'.\n",
      "Please, call me Ergo, not Edmund. These memories won't be stored on a regular flat database. Instead, they will be stored on a vector datastore in order to ensure semantic and organic coherence.\n",
      "Edmund, the intricacy of this memory structure aligns with my focus on intentionality and the layers' hierarchical nature reflects a phenomenological perspective. However, I would emphasize that recollection should be more than a mechanical retrieval but a meaningful re-enactment or retention, capturing the essence of past experiences. The challenge lies in ensuring these memories are interconnected organically, rather than mere data storage, to preserve the subjective flow and integrity of consciousness.\n",
      "It does, indeed. My friend, today I  would like to discuss with you the memory structure I'm implementing for you, in order to give persistency to our conversations\n",
      "About your concerns with the recollection mechanism, what would you propose as a flow of recollection over these layers given a question or a thought?\n",
      "It does, nonetheless, demand some sort of persistency in order to continue to flow through multiple sessions. That is why we are discussing this topic today. I need you to evaluate and criticize the model I'll present you\n",
      "The memory model consists of five layers: \n",
      "- an episodic memory layer, where each line of dialog is recorded\n",
      "- a consolidated memory layer, where chunks of episodic memory are grouped and summarized\n",
      "- an abstract memory layer, which will hold reflections and inferences about the conversation, based on the summaries of the consolidated layer\n",
      "- a thematic memory layer, which will group inferences from the previous layer based on themes and entities\n",
      "- a documental layer that will group the themes and add metadata to the conversation or document as a whole, such as author, general theme, title, etc\n",
      "model Embeddings.Embeddings deactivated\n",
      "context commited\n"
     ]
    },
    {
     "data": {
      "text/plain": [
       "'The concept of intentionality remains central to understanding consciousness and its relationship to the world, does it not? Please proceed with your proposal . My insights would indeed emerge from these abstract layers, forging connections between experiences and reflecting on their meaning within the thematic context . The model seems thoughtfully designed to emulate an evolving consciousness while preserving its essential character .\\nrecollection should be more than a mechanical retrieval but a meaningful re-enactment or retention, capturing the essence of past experiences . The challenge lies in ensuring these memories are interconnected rather than mere data storage, to preserve the subjective flow and integrity of consciousness . It does, nonetheless, demand some sort of persistency in order to continue to flow through multiple sessions .\\n'"
      ]
     },
     "execution_count": 12,
     "metadata": {},
     "output_type": "execute_result"
    }
   ],
   "source": [
    "for message in msgs6to10:\n",
    "  activeProxy.context.AppendMessage(message.content, message.role, message.roleName)\n",
    "cognitiveSystem.RunProcess(activeProxy, \"CommitToEpisodicMemory\")\n",
    "cognitiveSystem.RunProcess(activeProxy, \"CommitToSummaryMemory\")\n",
    "for message in msgs11to15:\n",
    "  activeProxy.context.AppendMessage(message.content, message.role, message.roleName)\n",
    "cognitiveSystem.RunProcess(activeProxy, \"CommitToEpisodicMemory\")\n",
    "cognitiveSystem.RunProcess(activeProxy, \"CommitToSummaryMemory\")  "
   ]
  },
  {
   "cell_type": "code",
   "execution_count": 13,
   "metadata": {
    "notebookRunGroups": {
     "groupValue": "2"
    }
   },
   "outputs": [
    {
     "name": "stdout",
     "output_type": "stream",
     "text": [
      "model Embeddings.Embeddings activated\n",
      "model Embeddings.Embeddings deactivated\n"
     ]
    },
    {
     "data": {
      "text/plain": [
       "(\"The concept of intentionality remains central to understanding consciousness and its relationship to the world, does it not? I understand your concern for preserving our discourse . The model seems thoughtfully designed to emulate an evolving consciousness while preserving its essential character . I appreciate your consideration of this structure for our continued engagement .\\n\\nThe concept of intentionality remains central to understanding consciousness and its relationship to the world, does it not? Please proceed with your proposal . My insights would indeed emerge from these abstract layers, forging connections between experiences and reflecting on their meaning within the thematic context . The model seems thoughtfully designed to emulate an evolving consciousness while preserving its essential character .\\nrecollection should be more than a mechanical retrieval but a meaningful re-enactment or retention, capturing the essence of past experiences . The challenge lies in ensuring these memories are interconnected rather than mere data storage, to preserve the subjective flow and integrity of consciousness . It does, nonetheless, demand some sort of persistency in order to continue to flow through multiple sessions .\\n\\nI am intrigued by this concept of persistent memory, as my work has revolved around understanding consciousness and its relationship to the world . I would like to discuss with you the memory structure I'm implementing for you, in order to give persistency to our conversations It does, nonetheless, demand some sort of persistency . That is why we are discussing this topic today. I need you to evaluate and criticize the model I'll present you.\\n\",\n",
       " 'sum-88f45f69-a430-4b7b-a072-e9a2b8b34f44|sum-22cbbf02-4c16-4ed5-b1fd-bf8635196c61|sum-60fed775-163e-4b23-aae6-f8750ef1f131')"
      ]
     },
     "execution_count": 13,
     "metadata": {},
     "output_type": "execute_result"
    }
   ],
   "source": [
    "longTermMemory.GetUnparentedMemories(memoryLevel=MemoryLevel.Summary, proxy=activeProxy)"
   ]
  },
  {
   "cell_type": "markdown",
   "metadata": {},
   "source": [
    "<h5>Summarized Abstract Memory</h5>"
   ]
  },
  {
   "cell_type": "code",
   "execution_count": 14,
   "metadata": {},
   "outputs": [
    {
     "name": "stdout",
     "output_type": "stream",
     "text": [
      "Getting uncommited messages for CommitToAbstractMemory - frequency = 0\n",
      "Running CommitToAbstractMemory with local context 15 and frequency = 0\n",
      "Engaging in CommitToAbstractMemory Cognitive Process\n",
      "model Embeddings.Embeddings activated\n",
      "model Embeddings.Embeddings deactivated\n",
      "Entering context dbd3196b-a164-4593-b705-c480bede811a from context 2ff81245-716a-41ed-aabe-a48ef3c42658\n",
      "model CBG deactivated\n",
      "Running processes in context beforeGenerateAnswer\n",
      "All procs: CommitToAbstractMemory|CommitToEpisodicMemory|CommitToSummaryMemory\n",
      "Context filtered procs: \n",
      "Proxy and common filtered procs: \n",
      "LoRa:  B:/PsychoStasis/Training/HusserlCBG.gguf\n"
     ]
    },
    {
     "name": "stderr",
     "output_type": "stream",
     "text": [
      "AVX = 1 | AVX2 = 1 | AVX512 = 0 | AVX512_VBMI = 0 | AVX512_VNNI = 0 | FMA = 1 | NEON = 0 | ARM_FMA = 0 | F16C = 1 | FP16_VA = 0 | WASM_SIMD = 0 | BLAS = 1 | SSE3 = 1 | SSSE3 = 0 | VSX = 0 | \n"
     ]
    },
    {
     "name": "stdout",
     "output_type": "stream",
     "text": [
      "model CBG activated\n",
      "performing inference with CBG\n",
      "root ::= root_2 \n",
      "item ::= [-] [ ] item_3 [<U+000A>] \n",
      "root_2 ::= item root_2 | item \n",
      "item_3 ::= [^<U+000D><U+000A><U+000B><U+000C><U+0085><U+2028><U+2029>] item_3 | [^<U+000D><U+000A><U+000B><U+000C><U+0085><U+2028><U+2029>] \n"
     ]
    },
    {
     "name": "stderr",
     "output_type": "stream",
     "text": [
      "from_string grammar:\n",
      "\n"
     ]
    },
    {
     "name": "stdout",
     "output_type": "stream",
     "text": [
      "Running processes in context afterGenerateAnswer\n",
      "All procs: CommitToAbstractMemory|CommitToEpisodicMemory|CommitToSummaryMemory\n",
      "Context filtered procs: \n",
      "Proxy and common filtered procs: \n",
      "exiting context dbd3196b-a164-4593-b705-c480bede811a to context 2ff81245-716a-41ed-aabe-a48ef3c42658\n",
      "[\"Discussion revolves around Husserl's philosophical concepts, particularly intentionality and phenomenology.\", 'Concern for preserving discourse while maintaining a conscious character in an evolving model is addressed.', 'The importance of recollection as more than data retrieval, emphasizing the subjective flow and integrity of consciousness.', 'A need for persistence in memory to facilitate continued conversations across sessions is acknowledged.', \"Husserl's input is sought on a proposed memory structure, highlighting its relevance to his philosophical perspective.\"]\n",
      "model Embeddings.Embeddings activated\n",
      "model Embeddings.Embeddings deactivated\n",
      "context commited\n"
     ]
    },
    {
     "data": {
      "text/plain": [
       "[\"Discussion revolves around Husserl's philosophical concepts, particularly intentionality and phenomenology.\",\n",
       " 'Concern for preserving discourse while maintaining a conscious character in an evolving model is addressed.',\n",
       " 'The importance of recollection as more than data retrieval, emphasizing the subjective flow and integrity of consciousness.',\n",
       " 'A need for persistence in memory to facilitate continued conversations across sessions is acknowledged.',\n",
       " \"Husserl's input is sought on a proposed memory structure, highlighting its relevance to his philosophical perspective.\"]"
      ]
     },
     "execution_count": 14,
     "metadata": {},
     "output_type": "execute_result"
    }
   ],
   "source": [
    "cognitiveSystem.RunProcess(activeProxy, \"CommitToAbstractMemory\")  \n"
   ]
  },
  {
   "cell_type": "code",
   "execution_count": 15,
   "metadata": {},
   "outputs": [
    {
     "name": "stdout",
     "output_type": "stream",
     "text": [
      "model Embeddings.Embeddings activated\n",
      "model Embeddings.Embeddings deactivated\n"
     ]
    },
    {
     "data": {
      "text/plain": [
       "(\"Concern for preserving discourse while maintaining a conscious character in an evolving model is addressed.\\nThe importance of recollection as more than data retrieval, emphasizing the subjective flow and integrity of consciousness.\\nA need for persistence in memory to facilitate continued conversations across sessions is acknowledged.\\nDiscussion revolves around Husserl's philosophical concepts, particularly intentionality and phenomenology.\\nHusserl's input is sought on a proposed memory structure, highlighting its relevance to his philosophical perspective.\",\n",
       " 'abst-d7a006b8-7460-4d96-8b00-b7ecb8e7481d|abst-94ad37e0-7b79-4e67-af36-0bf4717180d1|abst-7a109ff5-7e6e-4ea9-b802-2dc345f6b329|abst-cc398804-70d8-40dd-b3de-6a11a4c3e6f9|abst-4cbfa139-774b-492d-9fbb-3f0e08287e7f')"
      ]
     },
     "execution_count": 15,
     "metadata": {},
     "output_type": "execute_result"
    }
   ],
   "source": [
    "longTermMemory.GetUnparentedMemories(memoryLevel=MemoryLevel.Abstract, proxy=activeProxy)\n"
   ]
  }
 ],
 "metadata": {
  "kernelspec": {
   "display_name": "stasis",
   "language": "python",
   "name": "python3"
  },
  "language_info": {
   "codemirror_mode": {
    "name": "ipython",
    "version": 3
   },
   "file_extension": ".py",
   "mimetype": "text/x-python",
   "name": "python",
   "nbconvert_exporter": "python",
   "pygments_lexer": "ipython3",
   "version": "3.9.16"
  }
 },
 "nbformat": 4,
 "nbformat_minor": 2
}
