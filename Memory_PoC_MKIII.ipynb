{
 "cells": [
  {
   "cell_type": "code",
   "execution_count": 1,
   "metadata": {
    "notebookRunGroups": {
     "groupValue": "1"
    }
   },
   "outputs": [],
   "source": [
    "from Proxy import Proxy\n",
    "from CognitiveSystem import cognitiveSystem\n",
    "from LongTermMemory import longTermMemory\n",
    "\n",
    "activeProxy : Proxy= Proxy(\"Husserl\")\n"
   ]
  },
  {
   "cell_type": "code",
   "execution_count": 2,
   "metadata": {
    "notebookRunGroups": {
     "groupValue": "1"
    }
   },
   "outputs": [
    {
     "name": "stdout",
     "output_type": "stream",
     "text": [
      "0\n"
     ]
    }
   ],
   "source": [
    "ctx = activeProxy.context\n",
    "print(len(ctx.messageHistory))"
   ]
  },
  {
   "cell_type": "code",
   "execution_count": 3,
   "metadata": {
    "notebookRunGroups": {
     "groupValue": "1"
    }
   },
   "outputs": [
    {
     "name": "stdout",
     "output_type": "stream",
     "text": [
      "<Proxy.Proxy object at 0x000001887A884850>\n"
     ]
    }
   ],
   "source": [
    "print(activeProxy.context.proxy)"
   ]
  },
  {
   "cell_type": "code",
   "execution_count": 4,
   "metadata": {
    "notebookRunGroups": {
     "groupValue": "1"
    }
   },
   "outputs": [],
   "source": [
    "import os\n",
    "import shelve\n",
    "\n",
    "cwd = os.getcwd()\n",
    "\n",
    "memoryPath = os.path.join(cwd, 'Temp\\\\contexts.shelve')\n",
    "#with shelve.open(str(memoryPath)) as memory:\n",
    " # memory['Husserl'] = activeProxy.context\n"
   ]
  },
  {
   "cell_type": "code",
   "execution_count": 5,
   "metadata": {
    "notebookRunGroups": {
     "groupValue": "1"
    }
   },
   "outputs": [
    {
     "name": "stdout",
     "output_type": "stream",
     "text": [
      "28\n"
     ]
    },
    {
     "name": "stderr",
     "output_type": "stream",
     "text": [
      "AVX = 1 | AVX2 = 1 | AVX512 = 0 | AVX512_VBMI = 0 | AVX512_VNNI = 0 | FMA = 1 | NEON = 0 | ARM_FMA = 0 | F16C = 1 | FP16_VA = 0 | WASM_SIMD = 0 | BLAS = 1 | SSE3 = 1 | SSSE3 = 0 | VSX = 0 | \n"
     ]
    }
   ],
   "source": [
    "from Context import Context\n",
    "\n",
    "with shelve.open(str(memoryPath)) as memory:\n",
    "  workContext = memory.get('Husserl', Context(activeProxy))\n",
    "\n",
    "workContext.proxy=activeProxy\n",
    "print(len(workContext.messageHistory))\n"
   ]
  },
  {
   "cell_type": "code",
   "execution_count": 6,
   "metadata": {
    "notebookRunGroups": {
     "groupValue": "1"
    }
   },
   "outputs": [
    {
     "name": "stdout",
     "output_type": "stream",
     "text": [
      "context commited\n",
      "LoRa:  None\n",
      "model CBG activated\n",
      "5\n"
     ]
    },
    {
     "name": "stderr",
     "output_type": "stream",
     "text": [
      "AVX = 1 | AVX2 = 1 | AVX512 = 0 | AVX512_VBMI = 0 | AVX512_VNNI = 0 | FMA = 1 | NEON = 0 | ARM_FMA = 0 | F16C = 1 | FP16_VA = 0 | WASM_SIMD = 0 | BLAS = 1 | SSE3 = 1 | SSSE3 = 0 | VSX = 0 | \n"
     ]
    }
   ],
   "source": [
    "activeProxy.clearContext()\n",
    "#activeProxy.context.proxy = activeProxy\n",
    "for message in workContext.messageHistory:\n",
    "  message.commitedProcesses = []\n",
    "\n",
    "msgs1to5 = workContext.messageHistory[0:5]\n",
    "msgs6to10 = workContext.messageHistory[5:10]\n",
    "msgs11to15 = workContext.messageHistory[10:15]\n",
    "msgs16to20 = workContext.messageHistory[15:20]\n",
    "\n",
    "for message in msgs1to5:\n",
    "  activeProxy.context.AppendMessage(message.content, message.role, message.roleName)\n",
    "  \n",
    "print(len(activeProxy.context.messageHistory))"
   ]
  },
  {
   "cell_type": "code",
   "execution_count": 7,
   "metadata": {
    "notebookRunGroups": {
     "groupValue": "1"
    }
   },
   "outputs": [
    {
     "name": "stdout",
     "output_type": "stream",
     "text": [
      "prev = <ContextEntry.ContextEntry object at 0x00000188B0BB9A00>, next = <ContextEntry.ContextEntry object at 0x00000188B0BE6FA0>\n"
     ]
    }
   ],
   "source": [
    "print(f\"prev = {activeProxy.context.messageHistory[2].previous}, next = {activeProxy.context.messageHistory[2].next}\")"
   ]
  },
  {
   "cell_type": "markdown",
   "metadata": {},
   "source": [
    "<h5>Textual Episodic Memory</h5>"
   ]
  },
  {
   "cell_type": "code",
   "execution_count": 8,
   "metadata": {},
   "outputs": [
    {
     "name": "stdout",
     "output_type": "stream",
     "text": [
      "Getting uncommited messages for CommitToEpisodicMemory - frequency = 0\n",
      "Running CommitToEpisodicMemory with local context 5 and frequency = 0\n",
      "Engaging in CommitToEpisodicMemory Cognitive Process\n",
      "model SentimentDiscreet.Sentiment activated\n",
      "model SentimentNuanced.Sentiment activated\n",
      "Next: Husserl-d85cff5e-eec3-4263-8d67-58412ea55776, Previous: \n",
      "Next: user-aa856f00-63fe-4a82-8bab-1f99f7df24fc, Previous: user-c4146ae4-5b5b-4756-a263-302a88657edd\n",
      "Next: Husserl-50dccfef-6293-4413-9bda-3fb8afc26fc8, Previous: Husserl-d85cff5e-eec3-4263-8d67-58412ea55776\n",
      "Next: user-284140b7-742c-4b4c-b13e-3b8a62b8a094, Previous: user-aa856f00-63fe-4a82-8bab-1f99f7df24fc\n",
      "Next: , Previous: Husserl-50dccfef-6293-4413-9bda-3fb8afc26fc8\n",
      "model Embeddings.Embeddings activated\n",
      "model Embeddings.Embeddings deactivated\n",
      "context commited\n"
     ]
    },
    {
     "data": {
      "text/plain": [
       "[<ContextEntry.ContextEntry at 0x188b0a7dac0>,\n",
       " <ContextEntry.ContextEntry at 0x188b0bb9a00>,\n",
       " <ContextEntry.ContextEntry at 0x188b0be6f70>,\n",
       " <ContextEntry.ContextEntry at 0x188b0be6fa0>,\n",
       " <ContextEntry.ContextEntry at 0x188b0be6e80>]"
      ]
     },
     "execution_count": 8,
     "metadata": {},
     "output_type": "execute_result"
    }
   ],
   "source": [
    "cognitiveSystem.RunProcess(activeProxy, \"CommitToEpisodicMemory\")"
   ]
  },
  {
   "cell_type": "code",
   "execution_count": 9,
   "metadata": {},
   "outputs": [
    {
     "name": "stdout",
     "output_type": "stream",
     "text": [
      "model Embeddings.Embeddings activated\n",
      "model Embeddings.Embeddings deactivated\n"
     ]
    },
    {
     "data": {
      "text/plain": [
       "['Greetings, old friend',\n",
       " 'Hail to you as well. It is a pleasure to converse with one who recognizes the significance of my work in the realm of philosophy. The concept of intentionality remains central to understanding consciousness and its relationship to the world, does it not?',\n",
       " 'I am intrigued by this concept of persistent memory, as my work has revolved around understanding consciousness and experience. However, it is important to recognize the potential challenges of applying a purely objective model to subjective phenomena like our dialogue.',\n",
       " \"It does, indeed. My friend, today I  would like to discuss with you the memory structure I'm implementing for you, in order to give persistency to our conversations\",\n",
       " \"It does, nonetheless, demand some sort of persistency in order to continue to flow through multiple sessions. That is why we are discussing this topic today. I need you to evaluate and criticize the model I'll present you\"]"
      ]
     },
     "execution_count": 9,
     "metadata": {},
     "output_type": "execute_result"
    }
   ],
   "source": [
    "from MemoryTypes import MemoryLevel\n",
    "\n",
    "longTermMemory.QueryDocuments(proxy=activeProxy, memoryLevel=MemoryLevel.Episodic, where=\"\")\n",
    "\n"
   ]
  },
  {
   "cell_type": "markdown",
   "metadata": {},
   "source": [
    "<h5>Summarized Consolidated Memory</h5>"
   ]
  },
  {
   "cell_type": "code",
   "execution_count": null,
   "metadata": {},
   "outputs": [],
   "source": [
    "cognitiveSystem.RunProcess(activeProxy, \"CommitToConsolidatedMemory\")\n"
   ]
  },
  {
   "cell_type": "code",
   "execution_count": null,
   "metadata": {},
   "outputs": [],
   "source": [
    "longTermMemory.QueryAll(proxy=activeProxy, memoryLevel=MemoryLevel.Entity)\n"
   ]
  }
 ],
 "metadata": {
  "kernelspec": {
   "display_name": "stasis",
   "language": "python",
   "name": "python3"
  },
  "language_info": {
   "codemirror_mode": {
    "name": "ipython",
    "version": 3
   },
   "file_extension": ".py",
   "mimetype": "text/x-python",
   "name": "python",
   "nbconvert_exporter": "python",
   "pygments_lexer": "ipython3",
   "version": "3.9.16"
  }
 },
 "nbformat": 4,
 "nbformat_minor": 2
}
