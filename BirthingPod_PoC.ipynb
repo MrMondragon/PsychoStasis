{
 "cells": [
  {
   "cell_type": "code",
   "execution_count": 1,
   "metadata": {},
   "outputs": [
    {
     "name": "stdout",
     "output_type": "stream",
     "text": [
      "[2024-04-20 16:32:59.766540] globalLogger: loading model Embeddings.Embeddings\n",
      "[2024-04-20 16:32:59.767537] globalLogger: model configured\n",
      "[2024-04-20 16:32:59.767537] globalLogger: loading model Summarizer.Summarizer\n",
      "[2024-04-20 16:32:59.767537] globalLogger: model configured\n",
      "[2024-04-20 16:32:59.767537] globalLogger: loading model NER.NER\n",
      "[2024-04-20 16:33:00.523596] globalLogger: model configured\n",
      "[2024-04-20 16:33:00.523596] globalLogger: loading model SentimentNuanced.Sentiment\n",
      "[2024-04-20 16:33:00.524592] globalLogger: model configured\n",
      "[2024-04-20 16:33:00.524592] globalLogger: loading model SentimentDiscreet.Sentiment\n",
      "[2024-04-20 16:33:00.525589] globalLogger: model configured\n",
      "[2024-04-20 16:33:00.846209] globalLogger: loading model ObjectiveDecisory.GGUF\n",
      "[2024-04-20 16:33:00.847206] globalLogger: model configured\n",
      "[2024-04-20 16:33:00.848203] globalLogger: loading model ObjectiveDecisory.GGUF\n",
      "Running on local URL:  http://127.0.0.1:7860\n",
      "\n",
      "To create a public link, set `share=True` in `launch()`.\n"
     ]
    },
    {
     "data": {
      "text/html": [
       "<div><iframe src=\"http://127.0.0.1:7860/\" width=\"100%\" height=\"500\" allow=\"autoplay; camera; microphone; clipboard-read; clipboard-write;\" frameborder=\"0\" allowfullscreen></iframe></div>"
      ],
      "text/plain": [
       "<IPython.core.display.HTML object>"
      ]
     },
     "metadata": {},
     "output_type": "display_data"
    },
    {
     "name": "stdout",
     "output_type": "stream",
     "text": [
      "b:\\PsychoStasis\\Proxies\\Clive.proxy\n",
      "{}\n",
      "[2024-04-20 16:33:19.846577] globalLogger: Created proxy Clive with model CBG and lora b:\\PsychoStasis\\lora\\CliveBarker.gguf\n",
      "[2024-04-20 16:33:27.698789] globalLogger: loading model CBG\n",
      "[2024-04-20 16:33:27.699291] globalLogger: model configured\n",
      "[2024-04-20 16:33:27.699291] globalLogger: No LoRa! \n",
      "[2024-04-20 16:33:27.699291] globalLogger: {'model_path': 'B:/PsychoStasis/Training/carbonbeagle-11b-truthy.Q8_0.gguf', 'lora_base': 'B:/PsychoStasis/Training/carbonbeagle-11b-truthy.Q8_0.gguf', 'n_ctx': 4096, 'n_threads': 20, 'n_threads_batch': 1, 'n_batch': 512, 'use_mmap': True, 'use_mlock': True, 'mul_mat_q': True, 'numa': True, 'n_gpu_layers': -1, 'rope_freq_base': 10000.0, 'tensor_split': None, 'rope_freq_scale': 1.0, 'chat_format': 'chatml'}\n"
     ]
    },
    {
     "name": "stderr",
     "output_type": "stream",
     "text": [
      "AVX = 1 | AVX2 = 1 | AVX512 = 0 | AVX512_VBMI = 0 | AVX512_VNNI = 0 | FMA = 1 | NEON = 0 | ARM_FMA = 0 | F16C = 1 | FP16_VA = 0 | WASM_SIMD = 0 | BLAS = 1 | SSE3 = 1 | SSSE3 = 0 | VSX = 0 | \n"
     ]
    },
    {
     "name": "stdout",
     "output_type": "stream",
     "text": [
      "[2024-04-20 16:33:33.867939] globalLogger: model CBG activated\n",
      "[2024-04-20 16:33:33.989262] globalLogger: model CBG deactivated\n",
      "[2024-04-20 16:33:33.989262] globalLogger: Running processes in context beforeGenerateAnswer\n",
      "[2024-04-20 16:33:33.989262] globalLogger: All procs: CommitToAbstractMemory|CommitToEpisodicMemory|CommitToSummaryMemory|CommitToThematicMemory|RefreshMemory\n",
      "[2024-04-20 16:33:33.989262] globalLogger: Context filtered procs: \n",
      "[2024-04-20 16:33:33.989262] globalLogger: Proxy and common filtered procs: \n",
      "[2024-04-20 16:33:33.989262] globalLogger: LoRa: b:\\PsychoStasis\\lora\\CliveBarker.gguf\n",
      "[2024-04-20 16:33:33.989262] globalLogger: {'model_path': 'B:/PsychoStasis/Training/carbonbeagle-11b-truthy.Q8_0.gguf', 'lora_base': 'B:/PsychoStasis/Training/carbonbeagle-11b-truthy.Q8_0.gguf', 'n_ctx': 4096, 'n_threads': 20, 'n_threads_batch': 1, 'n_batch': 512, 'use_mmap': True, 'use_mlock': True, 'mul_mat_q': True, 'numa': True, 'n_gpu_layers': -1, 'rope_freq_base': 10000.0, 'tensor_split': None, 'rope_freq_scale': 1.0, 'chat_format': 'chatml'}\n"
     ]
    },
    {
     "name": "stderr",
     "output_type": "stream",
     "text": [
      "AVX = 1 | AVX2 = 1 | AVX512 = 0 | AVX512_VBMI = 0 | AVX512_VNNI = 0 | FMA = 1 | NEON = 0 | ARM_FMA = 0 | F16C = 1 | FP16_VA = 0 | WASM_SIMD = 0 | BLAS = 1 | SSE3 = 1 | SSSE3 = 0 | VSX = 0 | \n"
     ]
    },
    {
     "name": "stdout",
     "output_type": "stream",
     "text": [
      "[2024-04-20 16:33:42.607925] globalLogger: model CBG activated\n",
      "[2024-04-20 16:33:42.608921] globalLogger: performing inference with CBG\n",
      "[2024-04-20 16:33:46.802927] globalLogger: Running processes in context afterGenerateAnswer\n",
      "[2024-04-20 16:33:46.802927] globalLogger: All procs: CommitToAbstractMemory|CommitToEpisodicMemory|CommitToSummaryMemory|CommitToThematicMemory|RefreshMemory\n",
      "[2024-04-20 16:33:46.802927] globalLogger: Context filtered procs: \n",
      "[2024-04-20 16:33:46.802927] globalLogger: Proxy and common filtered procs: \n",
      "[2024-04-20 16:33:46.802927] globalLogger: context commited\n"
     ]
    }
   ],
   "source": [
    "from BirthingPod import BirthingPod\n",
    "pod = BirthingPod()\n",
    "pod.UI()"
   ]
  }
 ],
 "metadata": {
  "kernelspec": {
   "display_name": "stasis",
   "language": "python",
   "name": "python3"
  },
  "language_info": {
   "codemirror_mode": {
    "name": "ipython",
    "version": 3
   },
   "file_extension": ".py",
   "mimetype": "text/x-python",
   "name": "python",
   "nbconvert_exporter": "python",
   "pygments_lexer": "ipython3",
   "version": "3.9.16"
  }
 },
 "nbformat": 4,
 "nbformat_minor": 2
}
