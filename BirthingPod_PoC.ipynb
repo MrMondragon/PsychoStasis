{
 "cells": [
  {
   "cell_type": "markdown",
   "metadata": {},
   "source": [
    "Proxy Dynamic Initalization"
   ]
  },
  {
   "cell_type": "code",
   "execution_count": 1,
   "metadata": {},
   "outputs": [
    {
     "name": "stdout",
     "output_type": "stream",
     "text": [
      "[18:29:28.871] globalLog: loading model Embeddings.Embeddings\n",
      "[18:29:28.871] globalLog: model configured\n",
      "[18:29:28.871] globalLog: loading model Summarizer.Summarizer\n",
      "[18:29:28.872] globalLog: model configured\n",
      "[18:29:28.872] globalLog: loading model NER.NER\n",
      "[18:29:29.636] globalLog: model configured\n",
      "[18:29:29.636] globalLog: loading model SentimentNuanced.Sentiment\n",
      "[18:29:29.636] globalLog: model configured\n",
      "[18:29:29.636] globalLog: loading model SentimentDiscreet.Sentiment\n",
      "[18:29:29.637] globalLog: model configured\n",
      "[18:29:29.949] globalLog: loading model ObjectiveDecisory.GGUF\n",
      "[18:29:29.950] globalLog: model configured\n",
      "[18:29:29.951] globalLog: loading model ObjectiveDecisory.GGUF\n",
      "Running on local URL:  http://127.0.0.1:7860\n",
      "\n",
      "To create a public link, set `share=True` in `launch()`.\n"
     ]
    },
    {
     "data": {
      "text/html": [
       "<div><iframe src=\"http://127.0.0.1:7860/\" width=\"100%\" height=\"500\" allow=\"autoplay; camera; microphone; clipboard-read; clipboard-write;\" frameborder=\"0\" allowfullscreen></iframe></div>"
      ],
      "text/plain": [
       "<IPython.core.display.HTML object>"
      ]
     },
     "metadata": {},
     "output_type": "display_data"
    },
    {
     "data": {
      "text/plain": []
     },
     "execution_count": 1,
     "metadata": {},
     "output_type": "execute_result"
    },
    {
     "name": "stdout",
     "output_type": "stream",
     "text": [
      "[18:29:49.939] globalLog: b:\\PsychoStasis\\Proxies\\Julian.proxy\n",
      "[18:29:49.940] globalLog: {'modelName': 'CBG', 'LoRa': []}\n",
      "[18:29:49.940] globalLog: Created proxy Julian with model CBG and lora []\n",
      "[18:29:59.928] globalLog: Portrait for proxy Julian saved at b:\\PsychoStasis\\css\\assets\\Julian.png\n"
     ]
    }
   ],
   "source": [
    "from BirthingPod import BirthingPod\n",
    "pod = BirthingPod().Pod()\n",
    "pod.launch(allowed_paths=[\".\"])"
   ]
  }
 ],
 "metadata": {
  "kernelspec": {
   "display_name": "stasis",
   "language": "python",
   "name": "python3"
  },
  "language_info": {
   "codemirror_mode": {
    "name": "ipython",
    "version": 3
   },
   "file_extension": ".py",
   "mimetype": "text/x-python",
   "name": "python",
   "nbconvert_exporter": "python",
   "pygments_lexer": "ipython3",
   "version": "3.9.16"
  }
 },
 "nbformat": 4,
 "nbformat_minor": 2
}
