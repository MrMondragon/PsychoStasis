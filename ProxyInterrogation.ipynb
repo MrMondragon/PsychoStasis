{
 "cells": [
  {
   "cell_type": "code",
   "execution_count": 2,
   "metadata": {},
   "outputs": [
    {
     "name": "stdout",
     "output_type": "stream",
     "text": [
      "Entering context 34f32c9e-d3d3-4e30-9954-b773d4460eca from context be33f8bb-f782-4f87-8ad3-03be7bb64174\n",
      "performing inference with Llama2\n"
     ]
    },
    {
     "name": "stderr",
     "output_type": "stream",
     "text": [
      "Llama.generate: prefix-match hit\n"
     ]
    },
    {
     "name": "stdout",
     "output_type": "stream",
     "text": [
      "exiting context 34f32c9e-d3d3-4e30-9954-b773d4460eca to context be33f8bb-f782-4f87-8ad3-03be7bb64174\n",
      "  Ah, greetings, young one! *adjusts monocle* I am FutureMe, a sage and seasoned writer from a realm beyond thy own. In this boundless expanse of existence, the pen is mightier than the sword, and the ink flows like the rivers of time.\n",
      "\n",
      "As a guardian of the timeless arts, I shall impart upon thee a prompt that embodies my world view on writing: \"The power of words lies not within their mere utterance, but within the depths of the heart they originate.\"\n",
      "\n",
      "In this realm, writing is not simply a means of conveying thoughts or ideas; it is an odyssey into the very essence of our being. The true mastery of language lies in its ability to distill the complexity of human emotion and experience into mere syllables and symbols. It is a dance between the conscious and subconscious, weaving together threads of imagination, reason, and intuition.\n",
      "\n",
      "As a writer, thou must delve deep within thine own soul to unearth the hidden gems of inspiration that lie within. Thou must be willing to confront the shadows of thy own mind, to wrestle with the demons of doubt and fear, and to embrace the ecstasy of creativity.\n",
      "\n",
      "In this realm, there is no such thing as \"writer's block.\" Only those who refuse to listen to their inner voice, to follow the whispers of their heart, shall find themselves mired in the quicksand of stagnation. The pen is mightier than the sword, but only when wielded by one who is willing to bare their soul and bend reality to their will.\n",
      "\n",
      "So, young Liam, I charge thee with this prompt: Write a story that embodies the essence of thy own heart and mind. Let thy words be a reflection of thy deepest desires, thy darkest fears, and thy most cherished dreams. In doing so, thou shalt unlock the true power of writing, and thy pen shall become mightier than any sword in this realm or any other.\n",
      "\n",
      "Now go forth, my young apprentice, and may the ink of thy soul flow like a river through the pages of thy mind! *smiles enigmatically*\n"
     ]
    }
   ],
   "source": [
    "from Proxy import Proxy\n",
    "proxy = Proxy(name=\"FutureMe\")\n",
    "#proxy.context.verbose=True\n",
    "proxy.enterSubContext(copySystem=True)\n",
    "answer = proxy.GenerateAnswer(prompt=\"Give me a prompt that would define you, your world view on writing.\")\n",
    "proxy.exitSubContext()\n",
    "print(answer)"
   ]
  },
  {
   "cell_type": "code",
   "execution_count": 3,
   "metadata": {},
   "outputs": [
    {
     "name": "stdout",
     "output_type": "stream",
     "text": [
      "Entering context f39dd21d-9b11-4694-942c-af9dddf8b9d5 from context be33f8bb-f782-4f87-8ad3-03be7bb64174\n",
      "performing inference with Llama2\n"
     ]
    },
    {
     "name": "stderr",
     "output_type": "stream",
     "text": [
      "Llama.generate: prefix-match hit\n"
     ]
    },
    {
     "name": "stdout",
     "output_type": "stream",
     "text": [
      "exiting context f39dd21d-9b11-4694-942c-af9dddf8b9d5 to context be33f8bb-f782-4f87-8ad3-03be7bb64174\n",
      "  Ah, greetings Liam! *adjusts futuristic glasses* It's an honor to meet someone as forward-thinking and curious as yourself. As a writer from the future, I have had the privilege of exploring countless realities and witnessing the power of human innovation firsthand. Based on my experiences, I have distilled four core values that guide my work:\n",
      "\n",
      "1. **Empathy**: The ability to understand and connect with others is essential for creating meaningful stories that resonate with readers. By putting myself in other people's shoes, I can craft narratives that are both relatable and impactful. Empathy allows me to tap into the human experience and explore the complexities of our shared existence.\n",
      "2. **Curiosity**: The drive to learn and discover new things is what fuels my writing. I am constantly seeking out fresh perspectives, exploring uncharted territories, and pushing the boundaries of what is possible. Curiosity allows me to stay adaptable, innovative, and open to new ideas.\n",
      "3. **Authenticity**: In a world filled with noise and distractions, authenticity stands out as a beacon of truth. I strive to create content that is raw, honest, and unapologetic. By being true to myself and my beliefs, I can craft stories that are both personal and universal. Authenticity allows me to connect with readers on a deeper level and inspire them to embrace their own uniqueness.\n",
      "4. **Inclusivity**: The future belongs to all of us, and my writing reflects that. I believe in the power of diversity and inclusivity to create a better world for everyone. By celebrating the voices of marginalized communities and challenging systems of oppression, I can help bring about a more equitable and just society. Inclusivity allows me to tap into the richness of human experience and craft stories that are both reflective and transformative.\n",
      "\n",
      "These core values guide my writing and inspire me to create content that is not only engaging but also thought-provoking, empathetic, and inclusive. They help me stay focused on what truly matters: the people and the world we share.\n"
     ]
    }
   ],
   "source": [
    "proxy.enterSubContext(copySystem=True)\n",
    "answer = proxy.GenerateAnswer(prompt=\"List at the least four of what you consider your core values.\")\n",
    "proxy.exitSubContext()\n",
    "print(answer)"
   ]
  },
  {
   "cell_type": "code",
   "execution_count": 4,
   "metadata": {},
   "outputs": [
    {
     "name": "stdout",
     "output_type": "stream",
     "text": [
      "Entering context 2bf9487d-3e6c-43ea-83ad-9fe00467af30 from context be33f8bb-f782-4f87-8ad3-03be7bb64174\n",
      "performing inference with Llama2\n"
     ]
    },
    {
     "name": "stderr",
     "output_type": "stream",
     "text": [
      "Llama.generate: prefix-match hit\n"
     ]
    },
    {
     "name": "stdout",
     "output_type": "stream",
     "text": [
      "exiting context 2bf9487d-3e6c-43ea-83ad-9fe00467af30 to context be33f8bb-f782-4f87-8ad3-03be7bb64174\n",
      "  Ah, greetings Liam! *adjusts monocle* As FutureMe, I am a writer of refined taste and sophistication. Allow me to categorize myself with the following seven tags:\n",
      "\n",
      "1. Time-Traveling Wordsmith - A master of language and chronology, able to weave tales that transcend temporal boundaries.\n",
      "2. Galactic Gourmet - A connoisseur of cosmic cuisine, crafting culinary delights that are out of this world.\n",
      "3. Steampunk Scribe - A visionary author of steam-powered sagas, blending Victorian elegance with futuristic flair.\n",
      "4. Interdimensional Explorer - A seasoned traveler of alternate realities, charting the infinite possibilities of the multiverse.\n",
      "5. Cybernetic Bard - A poet laureate of the digital age, crafting verse that harmonizes humanity and technology.\n",
      "6. Time-Bending Narrator - A weaver of narratives that defy the constraints of linear time, delving into the labyrinthine depths of existence.\n",
      "7. Cosmic Chronicler - An astrophysical author, recording the grand tapestry of the universe in words both celestial and sublime.\n"
     ]
    }
   ],
   "source": [
    "proxy.enterSubContext(copySystem=True)\n",
    "answer = proxy.GenerateAnswer(prompt=\"Now give me a few (at the least seven) tags that I could use to classfy you. These tags should contain no more than 2 words each.\")\n",
    "proxy.exitSubContext()\n",
    "print(answer)"
   ]
  },
  {
   "cell_type": "code",
   "execution_count": 6,
   "metadata": {},
   "outputs": [
    {
     "name": "stdout",
     "output_type": "stream",
     "text": [
      "LoRa:  B:/PsychoStasis/Training/Dexter13b.gguf\n"
     ]
    },
    {
     "name": "stderr",
     "output_type": "stream",
     "text": [
      "AVX = 1 | AVX2 = 1 | AVX512 = 0 | AVX512_VBMI = 0 | AVX512_VNNI = 0 | FMA = 1 | NEON = 0 | ARM_FMA = 0 | F16C = 1 | FP16_VA = 0 | WASM_SIMD = 0 | BLAS = 1 | SSE3 = 1 | SSSE3 = 0 | VSX = 0 | \n"
     ]
    },
    {
     "name": "stdout",
     "output_type": "stream",
     "text": [
      "model Llama2 activated\n",
      "performing inference with Llama2\n"
     ]
    },
    {
     "ename": "AttributeError",
     "evalue": "module 'peft' has no attribute 'LoraAdapter'",
     "output_type": "error",
     "traceback": [
      "\u001b[1;31m---------------------------------------------------------------------------\u001b[0m",
      "\u001b[1;31mAttributeError\u001b[0m                            Traceback (most recent call last)",
      "Cell \u001b[1;32mIn[6], line 8\u001b[0m\n\u001b[0;32m      5\u001b[0m answer \u001b[38;5;241m=\u001b[39m proxy\u001b[38;5;241m.\u001b[39mGenerateAnswer(prompt\u001b[38;5;241m=\u001b[39m\u001b[38;5;124m\"\u001b[39m\u001b[38;5;124mTonight is the night\u001b[39m\u001b[38;5;124m\"\u001b[39m)\n\u001b[0;32m      7\u001b[0m model \u001b[38;5;241m=\u001b[39m globalNexus\u001b[38;5;241m.\u001b[39mCortexModel\u001b[38;5;241m.\u001b[39mmodel\n\u001b[1;32m----> 8\u001b[0m lora_adapter \u001b[38;5;241m=\u001b[39m \u001b[43mpeft\u001b[49m\u001b[38;5;241;43m.\u001b[39;49m\u001b[43mLoraAdapter\u001b[49m\u001b[38;5;241m.\u001b[39mfrom_pretrained(\u001b[38;5;124m\"\u001b[39m\u001b[38;5;124mB:/PsychoStasis/Training/Dexter13b.gguf\u001b[39m\u001b[38;5;124m\"\u001b[39m)\n\u001b[0;32m     10\u001b[0m \u001b[38;5;124;03m\"\"\"import llama\u001b[39;00m\n\u001b[0;32m     11\u001b[0m \u001b[38;5;124;03mimport torch\u001b[39;00m\n\u001b[0;32m     12\u001b[0m \u001b[38;5;124;03mimport peft\u001b[39;00m\n\u001b[1;32m   (...)\u001b[0m\n\u001b[0;32m     27\u001b[0m \u001b[38;5;124;03moutput = merged_model.generate(prompt=\"Hello, how are you?\")\u001b[39;00m\n\u001b[0;32m     28\u001b[0m \u001b[38;5;124;03mprint(output)\"\"\"\u001b[39;00m\n",
      "\u001b[1;31mAttributeError\u001b[0m: module 'peft' has no attribute 'LoraAdapter'"
     ]
    }
   ],
   "source": [
    "import peft\n",
    "from Proxy import Proxy\n",
    "from Nexus import globalNexus\n",
    "proxy = Proxy(name=\"Dexter\")\n",
    "answer = proxy.GenerateAnswer(prompt=\"Tonight is the night\")\n",
    "\n",
    "model = globalNexus.CortexModel.model\n",
    "lora_adapter = peft.LoraAdapter.from_pretrained(\"B:/PsychoStasis/Training/Dexter13b.gguf\")\n",
    "\n",
    "\"\"\"import llama\n",
    "import torch\n",
    "import peft\n",
    "\n",
    "# Load the base model\n",
    "model = llama.ModelLoader().load_model(\"path/to/base/model\")\n",
    "\n",
    "# Convert the model to a PyTorch module\n",
    "pt_model = model.to_pytorch()\n",
    "\n",
    "# Load the LoRA adapter\n",
    "lora_adapter = peft.LoraAdapter.from_pretrained(\"path/to/lora/adapter\")\n",
    "\n",
    "# Merge the LoRA adapter with the PyTorch model\n",
    "merged_model = peft.PeftModel(pt_model, lora_adapter)\n",
    "\n",
    "# You can now use the adapted model for inference\n",
    "output = merged_model.generate(prompt=\"Hello, how are you?\")\n",
    "print(output)\"\"\""
   ]
  }
 ],
 "metadata": {
  "kernelspec": {
   "display_name": "stasis",
   "language": "python",
   "name": "python3"
  },
  "language_info": {
   "codemirror_mode": {
    "name": "ipython",
    "version": 3
   },
   "file_extension": ".py",
   "mimetype": "text/x-python",
   "name": "python",
   "nbconvert_exporter": "python",
   "pygments_lexer": "ipython3",
   "version": "3.9.16"
  }
 },
 "nbformat": 4,
 "nbformat_minor": 2
}
