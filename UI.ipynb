{
 "cells": [
  {
   "cell_type": "code",
   "execution_count": null,
   "metadata": {},
   "outputs": [],
   "source": [
    "import random\n",
    "import gradio as gr\n",
    "from Proxy import Proxy\n",
    "\n",
    "def getProxyList():\n",
    "  return Proxy.get_proxy_list()\n",
    "\n",
    "items = getProxyList()\n",
    "\n",
    "activeProxy = Proxy(\"Ergo\")\n",
    "\n",
    "def respond(message, chat_history):\n",
    "  bot_message = activeProxy.GenerateAnswer(prompt=message) \n",
    "  chat_history.append((message, bot_message))\n",
    "  return \"\", chat_history\n",
    "      \n",
    "with gr.Blocks() as demo:\n",
    "  gr.Markdown(\"# PsychoStasis\")\n",
    "  with gr.Row():\n",
    "    with gr.Column():\n",
    "      chatbot = gr.Chatbot(height=300, scroll_to_output=True) #just to fit the notebook\n",
    "      txtPrompt = gr.Textbox(label=\"Prompt\")\n",
    "      btnSubmit = gr.Button(\"Submit\")\n",
    "      clear = gr.ClearButton(components=[txtPrompt, chatbot], value=\"Clear console\")\n",
    "    \n",
    "  txtPrompt.submit(respond, inputs=[txtPrompt, chatbot], outputs=[txtPrompt, chatbot]) #Press enter to submi      \n",
    "  btnSubmit.click(respond, inputs=[txtPrompt, chatbot], outputs=[txtPrompt, chatbot])\n",
    "  \n",
    "demo.launch()\n",
    "\n"
   ]
  },
  {
   "cell_type": "code",
   "execution_count": null,
   "metadata": {},
   "outputs": [],
   "source": [
    "gr.close_all()"
   ]
  }
 ],
 "metadata": {
  "kernelspec": {
   "display_name": "stasis",
   "language": "python",
   "name": "python3"
  },
  "language_info": {
   "codemirror_mode": {
    "name": "ipython",
    "version": 3
   },
   "file_extension": ".py",
   "mimetype": "text/x-python",
   "name": "python",
   "nbconvert_exporter": "python",
   "pygments_lexer": "ipython3",
   "version": "3.9.16"
  }
 },
 "nbformat": 4,
 "nbformat_minor": 2
}
