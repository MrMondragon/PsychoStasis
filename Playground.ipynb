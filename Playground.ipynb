{
 "cells": [
  {
   "cell_type": "code",
   "execution_count": 1,
   "metadata": {},
   "outputs": [],
   "source": [
    "from Proxy import Proxy;\n",
    "ergo = Proxy('Ergo');\n",
    "prompt = \"please tell me about the anime ergo proxy\";\n"
   ]
  },
  {
   "cell_type": "code",
   "execution_count": 2,
   "metadata": {},
   "outputs": [
    {
     "name": "stderr",
     "output_type": "stream",
     "text": [
      "AVX = 1 | AVX2 = 1 | AVX512 = 0 | AVX512_VBMI = 0 | AVX512_VNNI = 0 | FMA = 1 | NEON = 0 | ARM_FMA = 0 | F16C = 1 | FP16_VA = 0 | WASM_SIMD = 0 | BLAS = 1 | SSE3 = 1 | SSSE3 = 0 | VSX = 0 | \n",
      "Llama._create_completion: cache miss\n"
     ]
    },
    {
     "name": "stdout",
     "output_type": "stream",
     "text": [
      "Running beforeGenerateAnswer processes for Ergo\n",
      "Message: please tell me about the anime ergo proxy\n",
      "Context: [{'role': 'system', 'content': 'You are Ergo, an AI proxy, a formal and stern assistant interacting with a human user named user\\nYou should answer every question from the user Abstractly\\nYou should answer every question in a concise and direct manner\\nWhen in doubt, always take the current conversation as a context to ground your answers\\nYou should answer as Ergo\\nYou should never answer on behalf of user'}, {'role': 'user', 'content': 'please tell me about the anime ergo proxy'}]\n"
     ]
    },
    {
     "name": "stderr",
     "output_type": "stream",
     "text": [
      "Llama._create_completion: cache save\n",
      "Llama.save_state: saving llama state\n",
      "Llama.save_state: got state size: 1691995180\n",
      "Llama.save_state: allocated state\n",
      "Llama.save_state: copied llama state: 369832700\n",
      "Llama.save_state: saving 369832700 bytes of llama state\n"
     ]
    },
    {
     "name": "stdout",
     "output_type": "stream",
     "text": [
      "Answer:   Greetings, user. I am Ergo, your AI proxy. The Ergo Proxy is a 26-episode anime television series produced by Manglobe and directed by Shukou Murase. It was broadcast in Japan from February 2006 to August 2006.\n",
      "\n",
      "The series is set in a dystopian future where humanity has withdrawn into underground cities called \"Cores\" to escape a deadly virus known as the \"Shinju\" that has turned the surface world into a wasteland. The story follows Re-L Mayer, a young inspector who works for a special task force called the \"Ergo Proxy.\"\n",
      "\n",
      "Re-L is tasked with investigating a series of mysterious murders that have taken place in the city of Romdo, where the latest in human innovation and technology reside. As she delves deeper into the case, she uncovers a conspiracy that threatens the very existence of humanity.\n",
      "\n",
      "The anime explores themes of humanity, identity, and the ethics of technology. It features a unique blend of sci-fi and detective elements, with intricate plot twists and a thought-provoking narrative. The series has received critical acclaim for its complex characters, atmospheric setting, and philosophical undertones.\n",
      "\n",
      "I hope this information helps, user. Is there anything else you would like to know about the Ergo Proxy anime?\n",
      "Running afterGenerateAnswer processes for Ergo\n"
     ]
    }
   ],
   "source": [
    "answer = ergo.GenerateAnswer(prompt=prompt)\n"
   ]
  },
  {
   "cell_type": "code",
   "execution_count": null,
   "metadata": {},
   "outputs": [],
   "source": [
    "Proxy.GetProxyList()"
   ]
  },
  {
   "cell_type": "code",
   "execution_count": null,
   "metadata": {},
   "outputs": [],
   "source": [
    "import json\n",
    "\n",
    "jsAnswer = json.dumps(ergo.context.messageHistory[-1], indent=4)\n",
    "print(jsAnswer)\n"
   ]
  },
  {
   "cell_type": "code",
   "execution_count": null,
   "metadata": {},
   "outputs": [],
   "source": [
    "print(ergo.context.get_token_size(prompt))\n",
    "print(ergo.context.getTokenCount(prompt))\n",
    "print(ergo.context.messageHistory)\n",
    "print(ergo.context.getContextWindow(prompt=prompt))"
   ]
  },
  {
   "cell_type": "code",
   "execution_count": null,
   "metadata": {},
   "outputs": [],
   "source": [
    "import threading\n",
    "\n",
    "def worker():\n",
    "    \"\"\"thread worker function\"\"\"\n",
    "    print(\"Thread running\")\n",
    "\n",
    "i = 0\n",
    "while True:\n",
    "    try:\n",
    "        threading.Thread(target=worker).start()\n",
    "        i += 1\n",
    "    except RuntimeError:  # Too many threads created\n",
    "        break\n",
    "print('Maximum number of threads:', i)"
   ]
  },
  {
   "cell_type": "code",
   "execution_count": null,
   "metadata": {},
   "outputs": [],
   "source": [
    "print(i)"
   ]
  }
 ],
 "metadata": {
  "kernelspec": {
   "display_name": "stasis",
   "language": "python",
   "name": "python3"
  },
  "language_info": {
   "codemirror_mode": {
    "name": "ipython",
    "version": 3
   },
   "file_extension": ".py",
   "mimetype": "text/x-python",
   "name": "python",
   "nbconvert_exporter": "python",
   "pygments_lexer": "ipython3",
   "version": "3.9.16"
  }
 },
 "nbformat": 4,
 "nbformat_minor": 2
}
