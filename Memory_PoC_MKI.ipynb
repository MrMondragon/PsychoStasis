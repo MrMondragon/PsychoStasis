{
 "cells": [
  {
   "cell_type": "code",
   "execution_count": 1,
   "metadata": {},
   "outputs": [
    {
     "name": "stderr",
     "output_type": "stream",
     "text": [
      "AVX = 1 | AVX2 = 1 | AVX512 = 0 | AVX512_VBMI = 0 | AVX512_VNNI = 0 | FMA = 1 | NEON = 0 | ARM_FMA = 0 | F16C = 1 | FP16_VA = 0 | WASM_SIMD = 0 | BLAS = 1 | SSE3 = 1 | SSSE3 = 0 | VSX = 0 | \n"
     ]
    }
   ],
   "source": [
    "from Proxy import Proxy\n",
    "proxy = Proxy(name=\"Ergo\")\n",
    "\n",
    "\n",
    "proxy.context.AppendMessage(message=\"\"\"in c# we have a trim() method in the string class to remove trailing and starting empty spaces from a string. What is the correspondent method in python?\"\"\", role=\"user\")\n",
    "proxy.context.AppendMessage(message=\"\"\"In Python, there isn't a built-in `trim()` method like in C#. However, you can achieve the same result by using the `strip()` function or `lstrip()` and `rstrip()` functions which are equivalent to `Trim()`, `TrimStart()`, and `TrimEnd()` respectively in C#.\n",
    "\n",
    "Here's how you would use them:\n",
    "\n",
    "```python\n",
    "str = \"   Hello World   \"\n",
    "print(str.strip())  # Removes leading and trailing spaces\n",
    "print(str.lstrip())  # Removes only leading spaces\n",
    "print(str.rstrip())  # Removes only trailing spaces\n",
    "```\"\"\", role=\"assistant\")\n",
    "\n",
    "proxy.context.AppendMessage(message=\"\"\"give me a regular expression to detect the following: the string representation for numbers One to Ten and literal numbers, including decimals\"\"\", role=\"user\")\n",
    "proxy.context.AppendMessage(message='''In Python, you can use the `re` module to work with Regular Expressions. Here's an example of how you might create a regular expression that matches strings representing numbers from one to ten (in words or digits) as well as decimal numbers:\n",
    "\n",
    "```python\n",
    "import re\n",
    "\n",
    "def is_number(n):\n",
    "    number_pattern = r\"^(one|two|three|four|five|six|seven|eight|nine|ten|1[0-9]?|20|0\\.[1-9])$|^([0-9]{1,3}(,[0-9]{3})*(\\.[0-9]+)?)$\"\n",
    "    return bool(re.match(number_pattern, n, re.IGNORECASE))\n",
    "```\n",
    "This regular expression works as follows:\n",
    "\n",
    "- `^` asserts the start of a line.\n",
    "- `one|two|three|four|five|six|seven|eight|nine|ten` matches any of these words (case insensitive due to `re.IGNORECASE`).\n",
    "- `1[0-9]?|20` matches numbers from 10 to 20.\n",
    "- `0\\.[1-9]` matches decimal numbers between 0 and 1, excluding 0 itself (e.g., 0.5, 0.7).\n",
    "- `([0-9]{1,3}(,[0-9]{3})*(\\.[0-9]+)?)` matches any number from 0 to 999,999,999 with optional grouping of digits by thousands (e.g., 1,000,000) and decimal part.\n",
    "- `$` asserts the end of a line.\n",
    "\n",
    "this regular expression will match numbers in the range from 0 to 20 inclusive, as well as any number with up to three digits before the decimal point and one or more digits after it. If you need to match larger numbers, you can adjust the `{1,3}` part of the regular expression accordingly.\n",
    "```''', role=\"assistant\")\n",
    "\n",
    "proxy.context.AppendMessage(message=\"\"\"now, considering I have this regular expression string loaded in a variable named pattern, show me how can I replace values in a string using this pattern regex\"\"\", role=\"user\")\n",
    "proxy.context.AppendMessage(message='''You can use the `re.sub()` function to replace matched substrings with another substring. Here's an example of how you might do it:\n",
    "\n",
    "```python\n",
    "import re\n",
    "\n",
    "# Your regular expression pattern\n",
    "pattern = r\"your_regular_expression_here\"\n",
    "\n",
    "# The string in which you want to make replacements\n",
    "text = \"your text here\"\n",
    "\n",
    "# The substring that will replace the matched substrings\n",
    "replacement = \"your replacement text here\"\n",
    "\n",
    "new_text = re.sub(pattern, replacement, text)\n",
    "```\n",
    "\n",
    "In this example, `re.sub()` will find all occurrences of the pattern in the input string and replace them with the specified replacement substring. The result is stored in `new_text`.\n",
    "\n",
    "Please note that you need to replace \"your_regular_expression_here\", \"your text here\" and \"your replacement text here\" with your actual regular expression, input string and replacement string respectively.''', role=\"assistant\")\n",
    "\n",
    "proxy.context.AppendMessage(message=\"\"\"what arguments can I pass to the strip method in python?\"\"\", role=\"user\")\n",
    "proxy.context.AppendMessage(message='''The `strip()` function in Python removes leading and trailing spaces from a string by default. However, you can also specify characters that should be removed using the `strip()` method. This is done by passing these characters as an argument to the `strip()` method.\n",
    "\n",
    "Here's how you can use it:\n",
    "\n",
    "```python\n",
    "str = \"---Hello World---\"\n",
    "print(str.strip('-'))  # Removes leading and trailing '-'\n",
    "```\n",
    "\n",
    "In this example, all hyphens at the beginning and end of the string are removed because they were passed as an argument to `strip()`.\n",
    "\n",
    "If you don't pass any arguments to `strip()`, it will remove spaces from both ends of the string:\n",
    "\n",
    "```python\n",
    "str = \"   Hello World    \"\n",
    "print(str.strip())  # Removes leading and trailing spaces\n",
    "```\n",
    "\n",
    "In this case, all spaces at the beginning and end of the string are removed because no arguments were passed to `strip()`.\n",
    "\n",
    "''', role=\"assistant\")\n",
    "\n",
    "proxy.context.AppendMessage(message=\"\"\"what arguments can I pass to the strip method in python?\"\"\", role=\"user\")\n",
    "proxy.context.AppendMessage(message='''The `strip()` function in Python removes leading and trailing spaces from a string by default. However, you can also specify characters that should be removed using the `strip()` method. This is done by passing these characters as an argument to the `strip()` method.\n",
    "\n",
    "Here's how you can use it:\n",
    "\n",
    "```python\n",
    "str = \"---Hello World---\"\n",
    "print(str.strip('-'))  # Removes leading and trailing '-'\n",
    "```\n",
    "\n",
    "In this example, all hyphens at the beginning and end of the string are removed because they were passed as an argument to `strip()`.\n",
    "\n",
    "If you don't pass any arguments to `strip()`, it will remove spaces from both ends of the string:\n",
    "\n",
    "```python\n",
    "str = \"   Hello World    \"\n",
    "print(str.strip())  # Removes leading and trailing spaces\n",
    "```\n",
    "\n",
    "In this case, all spaces at the beginning and end of the string are removed because no arguments were passed to `strip()`.\n",
    "\n",
    "''', role=\"assistant\")\n",
    "\n",
    "proxy.context.AppendMessage(message=\"\"\"can I specify more than one character? or does this need to be done in different calls?\"\"\", role=\"user\")\n",
    "proxy.context.AppendMessage(message='''You can pass multiple characters as an argument to the `strip()` method, but they will all be treated as a single string. Here's how you can do it:\n",
    "\n",
    "```python\n",
    "str = \"---Hello World---\"\n",
    "print(str.strip('-='))  # Removes leading and trailing '-' or '='\n",
    "```\n",
    "\n",
    "In this example, both hyphens (`-`) and equals signs (`=`) at the beginning and end of the string are removed because they were passed as an argument to `strip()`. The characters are treated as a single string, so if any character in the string matches one of these characters, it will be removed.\n",
    "\n",
    "If you want to remove different sets of characters from the start or end of the string, you would need to make separate calls to `strip()`:\n",
    "\n",
    "```python\n",
    "str = \"---Hello World===\"\n",
    "print(str.strip('-').strip('='))  # Removes leading '-' and trailing '='\n",
    "```\n",
    "\n",
    "In this example, hyphens are removed from the start of the string by one call to `strip()`, and equals signs are removed from the end of the string by a second call to `strip()`. The result is that all hyphens at the beginning and all equals signs at the end of the string are removed.\n",
    "''', role=\"assistant\")\n",
    "\n",
    "lastMessageTxt = \"\"\"I have a list of strings named searchList. Write a lambda expression to make every string in this list become enclosed in double quotes\"\"\"\n",
    "proxy.context.AppendMessage(message=lastMessageTxt, role=\"user\")\n",
    "answer = '''You can use Python's `map()` function along with a lambda expression to achieve this. Here is how you can do it:\n",
    "\n",
    "```python\n",
    "searchList = [\"string1\", \"string2\", \"string3\"]\n",
    "\n",
    "# Use map and lambda to add double quotes around each string in the list\n",
    "searchList = list(map(lambda x: '\"' + x + '\"', searchList))\n",
    "\n",
    "print(searchList)  # Outputs: ['\"string1\"', '\"string2\"', '\"string3\"']\n",
    "```\n",
    "\n",
    "In this code, `map()` applies a lambda function to each item in the list. The lambda function takes an input (in this case, a string from the list), adds double quotes around it, and returns the result. The `list()` function is used to convert the map object back into a list.\n",
    "'''\n",
    "proxy.context.AppendMessage(message=answer, role=\"assistant\")\n",
    "\n",
    "lastMessageTxt = \"\"\"Write a python script to output the numbers 1 to 100\"\"\"\n",
    "proxy.context.AppendMessage(message=lastMessageTxt, role=\"user\")\n",
    "answer = '''Sorry to hear it, Liam.'''\n",
    "proxy.context.AppendMessage(message=answer, role=\"assistant\")\n",
    "proxy.context.lastAnswerObj = answer\n",
    "proxy.context.lastMessageTxt = lastMessageTxt\n",
    "proxy.context.proxy = proxy\n",
    "\n"
   ]
  },
  {
   "cell_type": "markdown",
   "metadata": {},
   "source": [
    "**System 1 and System 2 decisory prompt**"
   ]
  },
  {
   "cell_type": "code",
   "execution_count": 22,
   "metadata": {},
   "outputs": [
    {
     "name": "stdout",
     "output_type": "stream",
     "text": [
      "Entering context c184bccd-93a2-4a18-bb34-40358cf94f40 from context 9ce46259-66e6-4a4c-9dd9-a5a24592152f\n",
      "performing inference with Llama2\n"
     ]
    },
    {
     "name": "stderr",
     "output_type": "stream",
     "text": [
      "Llama.generate: prefix-match hit\n"
     ]
    },
    {
     "name": "stdout",
     "output_type": "stream",
     "text": [
      "System1\n"
     ]
    }
   ],
   "source": [
    "from Nexus import globalNexus\n",
    "\n",
    "globalNexus.load_grammar('''root ::= choice\n",
    "choice ::= \"System1\"|\"System2\"''')\n",
    "#globalNexus.reset_grammar()\n",
    "\n",
    "s1=0\n",
    "s2=0\n",
    "#for i in range(10):\n",
    "proxy.enterSubContext(deepCopy=False, resetCortex=True, copylastMessageTxt=True, copySystem=False)\n",
    "proxy.context.systemMessage = \"\"\"You are an agent  dedicated to judging task complexity and the strategy to execute such tasks.\n",
    "Simple tasks, like programming questions or trivial questions should be solved using System 1. Complex tasks,\n",
    "requiring reasoning or logic should be solved using System 2.\n",
    "Based on the complexity of this task and your knowledge of the subject, should you employ fast,\n",
    "intuitive thinking, answering directly (System 1) or slow, deliberate reasoning (System 2)?\n",
    "Answer with System 1 or System 2 only.\"\"\"\n",
    "prompt = \"what system would you use to solve the following task: what do you think of my english level?\"\n",
    "a1 = proxy.GenerateAnswer(prompt=prompt)\n",
    "print(a1)\n",
    "\n",
    "#  if(a1 == \"System 1\"):\n",
    "#    s1+=1\n",
    "#  else:\n",
    "#    s2+=1\n",
    "  #print(f\"Context: {proxy.context.messageHistory}\")\n",
    "#  proxy.exitSubContext()\n",
    "#print(f\"\"\"System 1: {s1}, System 2: {s2}\"\"\")\n",
    "  \n"
   ]
  },
  {
   "cell_type": "code",
   "execution_count": null,
   "metadata": {},
   "outputs": [],
   "source": [
    "from Nexus import globalNexus\n",
    "#print(f\"Before - {globalNexus.GetMemoryUsage()}\")\n",
    "#globalNexus.CortexModel.activate()\n",
    "#print(f\"After - {globalNexus.GetMemoryUsage()}\")\n",
    "#print(f\"Layers: {globalNexus.CortexModel.params['n-gpu-layers']}\")\n",
    "\n",
    "shard = \"OpenOrca\"\n",
    "proxy.context.verbose=False\n",
    "print(f\"Before - {globalNexus.GetMemoryUsage()}\")\n",
    "proxy.deactivateCortex()\n",
    "print(f\"After - {globalNexus.GetMemoryUsage()}\")\n",
    "\n",
    "globalNexus.ShardModels[shard].keepActive = True\n",
    "\n",
    "print(globalNexus.ShardModels[shard].keepActive)\n",
    "proxy.enterSubContext()\n",
    "proxy.context.systemMessage = proxy.GenerateSystem()\n",
    "personal = proxy.GenerateAnswer(shard=shard,prompt=\"define personal messages\")\n",
    "proxy.exitSubContext()\n",
    "print(personal)\n",
    "\n",
    "print(f\"Before - {globalNexus.GetMemoryUsage()}\")\n",
    "proxy.activateCortex()\n",
    "print(f\"After - {globalNexus.GetMemoryUsage()}\")"
   ]
  },
  {
   "cell_type": "code",
   "execution_count": null,
   "metadata": {},
   "outputs": [],
   "source": [
    "from Memory import longTermMemory\n",
    "\n",
    "from Nexus import globalNexus\n",
    "\n",
    "globalNexus.CortexModel.params[\"grammar_string\"] = '''root ::= choice\n",
    "choice ::= \"Yes\"|\"No\"'''\n",
    "\n",
    "shard = \"\"\n",
    "if(shard):\n",
    "  globalNexus.ShardModels[shard].params[\"grammar_string\"] = globalNexus.CortexModel.params[\"grammar_string\"]\n",
    "  globalNexus.ShardModels[shard].keepActive = True\n",
    "  proxy.deactivateCortex()\n",
    "else:\n",
    "  proxy.activateCortex()\n",
    "  \n",
    "  \n",
    "\n",
    "proxy.context.verbose=False\n",
    "\n",
    "\n",
    "proxy.enterSubContext(deepCopy=False, resetCortex=True)\n",
    "#localContext=proxy.context.parentContext.messageHistory[-2:]\n",
    "localContext=proxy.context.parentContext.messageHistory[-8:-5]\n",
    "proxy.context.systemMessage = proxy.GenerateSystem()\n",
    "proxy.context.messageHistory.extend(localContext)\n",
    "programmingRelated = proxy.GenerateAnswer(shard=shard,prompt=\"\"\"Are the previous messages about programming doubts\n",
    "                                          or any such immediate tasks? Answer \"Yes\" if the previous messages are about programming\n",
    "                                          and \"No\" if the previous messages are not about programming\"\"\")\n",
    "proxy.exitSubContext()\n",
    "\n",
    "print(f\"\"\"programming related: {programmingRelated}\"\"\")"
   ]
  },
  {
   "cell_type": "code",
   "execution_count": null,
   "metadata": {},
   "outputs": [],
   "source": [
    "print(localContext)"
   ]
  },
  {
   "cell_type": "code",
   "execution_count": null,
   "metadata": {},
   "outputs": [],
   "source": [
    "from Nexus import globalNexus\n",
    "from Proxy import Proxy\n",
    "#proxy = Proxy(name=\"Ergo\")\n",
    "\n",
    "globalNexus.CortexModel.params[\"grammar_string\"] = '''root ::= choice\n",
    "choice ::= \"Can Answer\"|\"Can't answer\"'''\n",
    "\n",
    "proxy.enterSubContext(deepCopy=False, resetCortex=True)\n",
    "proxy.context.systemMessage = proxy.GenerateSystem()\n",
    "\n",
    "proxy.context.AppendMessage(message=\"What is my father's name?\", role=\"user\")\n",
    "needMemory = proxy.GenerateAnswer(shard='',prompt=\"\"\"Do you already know the answer to the previous question? Can you answer it?\n",
    "                                  Answer with 'Can't answer' if you cannot answer the question or\n",
    "                                  'Can Answer' if you know the answer and can answer the question!\"\"\")\n",
    "proxy.exitSubContext()\n",
    "print(needMemory)"
   ]
  },
  {
   "cell_type": "code",
   "execution_count": null,
   "metadata": {},
   "outputs": [],
   "source": [
    "from Nexus import globalNexus\n",
    "globalNexus.CortexModel.params[\"grammar_string\"] =r'''root ::= item+\n",
    "item ::= \"- \" [^\\r\\n\\x0b\\x0c\\x85\\u2028\\u2029]+ \"\\n\"'''\n",
    "proxy.enterSubContext(deepCopy=True, copySystem=False)\n",
    "facts = proxy.GenerateAnswer(prompt=\"Cite two facts you can gather from this conversation. Do not introduce yourself. Answer with the files only!\")\n",
    "print(proxy.context.messageHistory)\n",
    "proxy.exitSubContext()\n",
    "print(facts)"
   ]
  },
  {
   "cell_type": "markdown",
   "metadata": {},
   "source": [
    "**Conversation slicing in messages**"
   ]
  },
  {
   "cell_type": "code",
   "execution_count": null,
   "metadata": {},
   "outputs": [],
   "source": [
    "prompt = \"describe this portion of our conversation:\"\n",
    "print(proxy.context.getTokenCount(prompt=prompt))\n",
    "\n",
    "proxy.enterSubContext(deepCopy=True)\n",
    "chunks = range(proxy.context.GetChunkCount(chunkSize=4))\n",
    "print(chunks)\n",
    "responses = []\n",
    "\n",
    "for i in chunks:\n",
    "  contextChunk = proxy.context.getChunks(chunkSize=4, chunkIndex=i)\n",
    "  print(contextChunk)\n",
    "  proxy.context.systemMessage = \"\"\n",
    "  proxy.enterSubContext(deepCopy=False)\n",
    "  proxy.context.systemMessage = \"\"\n",
    "  proxy.context.messageHistory=contextChunk\n",
    "  description = proxy.GenerateAnswer(prompt=prompt)\n",
    "  responses.append(description)\n",
    "  proxy.exitSubContext()\n",
    "\n",
    "proxy.exitSubContext()\n",
    "\n",
    "\n",
    "print(str.join(\"\\n\", responses))"
   ]
  },
  {
   "cell_type": "markdown",
   "metadata": {},
   "source": [
    "**Hard Cortex summarization**"
   ]
  },
  {
   "cell_type": "code",
   "execution_count": null,
   "metadata": {},
   "outputs": [],
   "source": [
    "proxy.enterSubContext(True)\n",
    "answer = proxy.GenerateAnswer(prompt=\"Summarize this conversation in one short sentence\")\n",
    "proxy.exitSubContext()\n",
    "print(answer)"
   ]
  },
  {
   "cell_type": "code",
   "execution_count": null,
   "metadata": {},
   "outputs": [],
   "source": [
    "proxy.enterSubContext(True)\n",
    "answer = globalNexus.Summarize(proxy.context.getRelevantContextAsText(prompt=\"\"))\n",
    "proxy.exitSubContext()\n",
    "print(answer)"
   ]
  },
  {
   "cell_type": "markdown",
   "metadata": {},
   "source": [
    "**Cortical Conversation Classification**"
   ]
  },
  {
   "cell_type": "code",
   "execution_count": null,
   "metadata": {},
   "outputs": [],
   "source": [
    "proxy.enterSubContext(deepCopy=True)\n",
    "answer = proxy.GenerateAnswer(prompt=\"What is the main topic of this conversation? Be objective.\")\n",
    "proxy.exitSubContext()\n",
    "print(answer)"
   ]
  },
  {
   "cell_type": "markdown",
   "metadata": {},
   "source": [
    "***Relevance by topic***"
   ]
  },
  {
   "cell_type": "code",
   "execution_count": null,
   "metadata": {},
   "outputs": [],
   "source": [
    "proxy.enterSubContext(deepCopy=False)\n",
    "answer = proxy.GenerateAnswer(prompt=f\"\"\"Memory processing is an expensive task and should be reserved for really relevant content and things you don't already know.\n",
    "                              Do you think that a conversation about {answer} is relevant enough to be stored in memory? Or is it something you already know? Be objective. Answer with Yes or No\"\"\")\n",
    "proxy.exitSubContext()\n",
    "print(answer)"
   ]
  },
  {
   "cell_type": "code",
   "execution_count": null,
   "metadata": {},
   "outputs": [],
   "source": [
    "proxy.enterSubContext(deepCopy=True)\n",
    "proxy.context.systemMessage = \"\"\n",
    "ctx = proxy.context.getRelevantContextAsText(prompt=\"\")\n",
    "proxy.exitSubContext()\n",
    "\n",
    "print(ctx)"
   ]
  },
  {
   "cell_type": "markdown",
   "metadata": {},
   "source": [
    "**Nexus Summarizer prototype and test**"
   ]
  },
  {
   "cell_type": "code",
   "execution_count": null,
   "metadata": {},
   "outputs": [],
   "source": [
    "from Nexus import globalNexus\n",
    "chunkSize = 512\n",
    "overlap = 64\n",
    "wordList = ctx.split(\" \")\n",
    "print(wordList)\n",
    "print(len(wordList))\n",
    "\n",
    "\n",
    "summary = \"\"\n",
    "for i in range(0, len(wordList), chunkSize):\n",
    "  chunks = []\n",
    "  end = i+chunkSize\n",
    "  if(i>overlap):\n",
    "    chunks.extend(wordList[i-overlap:i-1])\n",
    "  chunks.extend(wordList[i:end])\n",
    "  if(end+overlap < len(wordList)):\n",
    "    chunks.extend(wordList[end+1:end+overlap])\n",
    "  summary+= globalNexus.Summarize(\" \".join(chunks))+\"\\n\"\n",
    "  \n",
    "print(summary)\n"
   ]
  },
  {
   "cell_type": "code",
   "execution_count": null,
   "metadata": {},
   "outputs": [],
   "source": [
    "summary = globalNexus.Summarize(ctx)\n",
    "print(summary)\n",
    "ner = globalNexus.getNER(ctx)\n",
    "print(ner)"
   ]
  }
 ],
 "metadata": {
  "kernelspec": {
   "display_name": "stasis",
   "language": "python",
   "name": "python3"
  },
  "language_info": {
   "codemirror_mode": {
    "name": "ipython",
    "version": 3
   },
   "file_extension": ".py",
   "mimetype": "text/x-python",
   "name": "python",
   "nbconvert_exporter": "python",
   "pygments_lexer": "ipython3",
   "version": "3.9.16"
  }
 },
 "nbformat": 4,
 "nbformat_minor": 2
}
